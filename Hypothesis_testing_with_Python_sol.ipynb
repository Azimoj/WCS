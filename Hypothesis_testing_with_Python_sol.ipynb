{
  "nbformat": 4,
  "nbformat_minor": 0,
  "metadata": {
    "colab": {
      "provenance": [],
      "collapsed_sections": [
        "jPv2tWPf7Q23",
        "oi5B1Y0PXg5I",
        "4_9yuVbzYHeP"
      ],
      "include_colab_link": true
    },
    "kernelspec": {
      "name": "python3",
      "display_name": "Python 3"
    },
    "language_info": {
      "name": "python"
    }
  },
  "cells": [
    {
      "cell_type": "markdown",
      "metadata": {
        "id": "view-in-github",
        "colab_type": "text"
      },
      "source": [
        "<a href=\"https://colab.research.google.com/github/Azimoj/WCS/blob/main/Hypothesis_testing_with_Python_sol.ipynb\" target=\"_parent\"><img src=\"https://colab.research.google.com/assets/colab-badge.svg\" alt=\"Open In Colab\"/></a>"
      ]
    },
    {
      "cell_type": "markdown",
      "metadata": {
        "id": "gDBQLAC7ACCr"
      },
      "source": [
        "# **Hypothesis testing with Python**\n",
        "\n",
        "Use your knowledge in hypothesis testing with python to answer the following research questions.\n",
        "\n",
        "Please provide an interpretation of your result: whether or not you reject the null hypothesis and why."
      ]
    },
    {
      "cell_type": "markdown",
      "metadata": {
        "id": "jPv2tWPf7Q23"
      },
      "source": [
        "## **Research question 1**\n",
        "In the previous years, 52% of parents believed that electronics and social media was the cause of their teenager’s lack of sleep. Do more parents today believe that their teenager’s lack of sleep is caused due to electronics and social media?\n",
        ".\n",
        "\n",
        "**Population:** Parents with a teenager (age 13-18)\n",
        "\n",
        "**Parameter of Interest:** p (proportion)\n",
        "\n",
        "**Null Hypothesis:** p = 0.52\n",
        "\n",
        "**Alternative Hypthosis:** p > 0.52 (note that this is a one-sided test)\n",
        "\n",
        "\n",
        "**Data:** 1018 people were surveyed. 56% of those who were surveyed believe that their teenager’s lack of sleep is caused due to electronics and social media.\n",
        "\n"
      ]
    },
    {
      "cell_type": "markdown",
      "source": [
        "proportions_ztest documentation : https://www.statsmodels.org/stable/generated/statsmodels.stats.proportion.proportions_ztest.html#statsmodels.stats.proportion.proportions_ztest"
      ],
      "metadata": {
        "id": "jDq9u3eiA-zT"
      }
    },
    {
      "cell_type": "code",
      "source": [
        "from statsmodels.stats.proportion import proportions_ztest\n",
        "\n",
        "# Données\n",
        "count = 0.56 * 1018  # 56% des 1018 personnes sondées\n",
        "nobs = 1018  # Nombre total de personnes sondées\n",
        "value = 0.52  # La valeur de la proportion sous l'hypothèse nulle\n",
        "\n",
        "# Test de proportion\n",
        "z_stat, p_value = proportions_ztest(count=count, nobs=nobs, value=value, alternative='larger')\n",
        "\n",
        "# Afficher les résultats\n",
        "print(f\"Statistique Z : {z_stat:.3}\")\n",
        "print(f\"Valeur P : {p_value:.3%}\")\n",
        "\n",
        "# Interprétation des résultats\n",
        "alpha = 0.05  # Niveau de signification\n",
        "if p_value < alpha:\n",
        "    print(\"La p-value est inférieure au niveau de signification. Rejetez l'hypothèse nulle.\")\n",
        "else:\n",
        "    print(\"La p-value est supérieure au niveau de signification. L'hypothèse nulle n'est pas rejetée.\")\n"
      ],
      "metadata": {
        "colab": {
          "base_uri": "https://localhost:8080/"
        },
        "id": "SLRrsp6q2Cy2",
        "outputId": "fa0ec945-5036-4428-a60d-da435b07cc35"
      },
      "execution_count": null,
      "outputs": [
        {
          "output_type": "stream",
          "name": "stdout",
          "text": [
            "Statistique Z : 2.57\n",
            "Valeur P : 0.507%\n",
            "La p-value est inférieure au niveau de signification. Rejetez l'hypothèse nulle.\n"
          ]
        }
      ]
    },
    {
      "cell_type": "markdown",
      "source": [
        "La statistique Z  mesure à quel point l'échantillon diffère de l'hypothèse nulle. Plus la statistique Z est éloignée de zéro, plus l'écart entre les données observées et l'hypothèse nulle est important.\n",
        "\n",
        "La p-value est la probabilité d'obtenir une statistique Z aussi extrême (ou plus extrême) que celle observée, sous l'hypothèse nulle. Une valeur p faible indique que les données sont statistiquement significatives et que l'écart par rapport à l'hypothèse nulle est peu probable en l'absence d'un véritable effet.\n",
        "\n",
        "On aura donc tendance à penser que les parents pensent de plus en plus que les réseaux sociaux entrainent un manque de sommeil chez les adolescents."
      ],
      "metadata": {
        "id": "l6kCqk2s3i1A"
      }
    },
    {
      "cell_type": "markdown",
      "metadata": {
        "id": "XAMM2blP8SNI"
      },
      "source": [
        "## **Research Question 2** Indice de masse corporelle\n",
        "Considering adults in the [NHANES data](https://raw.githubusercontent.com/kshedden/statswpy/master/NHANES/merged/nhanes_2015_2016.csv), do the mean Body Mass Index of men and women are significantly different?\n",
        "\n",
        "**Population:** Adults in the NHANES data.\n",
        "\n",
        "**Parameter of Interest:** $\\mu_1$: mean BMI of men. $\\mu_2$: mean BMI of women.\n",
        "\n",
        "**Null Hypothesis:** $\\mu_1 = \\mu_2$\n",
        "\n",
        "**Alternative Hypthosis:** $\\mu_1 \\neq \\mu_2$\n",
        "\n",
        "**Data:**\n",
        "2976 Females $\\mu_1 = 29.94$\n",
        "$\\sigma_1 = 7.75$\n",
        "\n",
        "2759 Male Adults\n",
        "$\\mu_2 = 28.78$\n",
        "$\\sigma_2 = 6.25$"
      ]
    },
    {
      "cell_type": "code",
      "metadata": {
        "id": "A5S6EXL6_7lF",
        "colab": {
          "base_uri": "https://localhost:8080/",
          "height": 255
        },
        "outputId": "f72176ca-6eec-4220-d911-fdd0cb4a8abd"
      },
      "source": [
        "import pandas as pd\n",
        "url = \"https://raw.githubusercontent.com/kshedden/statswpy/master/NHANES/merged/nhanes_2015_2016.csv\"\n",
        "df = pd.read_csv(url)\n",
        "\n",
        "df.head()\n"
      ],
      "execution_count": null,
      "outputs": [
        {
          "output_type": "execute_result",
          "data": {
            "text/plain": [
              "    SEQN  ALQ101  ALQ110  ALQ130  SMQ020  RIAGENDR  RIDAGEYR  RIDRETH1  \\\n",
              "0  83732     1.0     NaN     1.0       1         1        62         3   \n",
              "1  83733     1.0     NaN     6.0       1         1        53         3   \n",
              "2  83734     1.0     NaN     NaN       1         1        78         3   \n",
              "3  83735     2.0     1.0     1.0       2         2        56         3   \n",
              "4  83736     2.0     1.0     1.0       2         2        42         4   \n",
              "\n",
              "   DMDCITZN  DMDEDUC2  ...  BPXSY2  BPXDI2  BMXWT  BMXHT  BMXBMI  BMXLEG  \\\n",
              "0       1.0       5.0  ...   124.0    64.0   94.8  184.5    27.8    43.3   \n",
              "1       2.0       3.0  ...   140.0    88.0   90.4  171.4    30.8    38.0   \n",
              "2       1.0       3.0  ...   132.0    44.0   83.4  170.1    28.8    35.6   \n",
              "3       1.0       5.0  ...   134.0    68.0  109.8  160.9    42.4    38.5   \n",
              "4       1.0       4.0  ...   114.0    54.0   55.2  164.9    20.3    37.4   \n",
              "\n",
              "   BMXARML  BMXARMC  BMXWAIST  HIQ210  \n",
              "0     43.6     35.9     101.1     2.0  \n",
              "1     40.0     33.2     107.9     NaN  \n",
              "2     37.0     31.0     116.5     2.0  \n",
              "3     37.7     38.3     110.1     2.0  \n",
              "4     36.0     27.2      80.4     2.0  \n",
              "\n",
              "[5 rows x 28 columns]"
            ],
            "text/html": [
              "\n",
              "  <div id=\"df-37059f0e-4f02-4449-a31a-70cc2846b3ae\" class=\"colab-df-container\">\n",
              "    <div>\n",
              "<style scoped>\n",
              "    .dataframe tbody tr th:only-of-type {\n",
              "        vertical-align: middle;\n",
              "    }\n",
              "\n",
              "    .dataframe tbody tr th {\n",
              "        vertical-align: top;\n",
              "    }\n",
              "\n",
              "    .dataframe thead th {\n",
              "        text-align: right;\n",
              "    }\n",
              "</style>\n",
              "<table border=\"1\" class=\"dataframe\">\n",
              "  <thead>\n",
              "    <tr style=\"text-align: right;\">\n",
              "      <th></th>\n",
              "      <th>SEQN</th>\n",
              "      <th>ALQ101</th>\n",
              "      <th>ALQ110</th>\n",
              "      <th>ALQ130</th>\n",
              "      <th>SMQ020</th>\n",
              "      <th>RIAGENDR</th>\n",
              "      <th>RIDAGEYR</th>\n",
              "      <th>RIDRETH1</th>\n",
              "      <th>DMDCITZN</th>\n",
              "      <th>DMDEDUC2</th>\n",
              "      <th>...</th>\n",
              "      <th>BPXSY2</th>\n",
              "      <th>BPXDI2</th>\n",
              "      <th>BMXWT</th>\n",
              "      <th>BMXHT</th>\n",
              "      <th>BMXBMI</th>\n",
              "      <th>BMXLEG</th>\n",
              "      <th>BMXARML</th>\n",
              "      <th>BMXARMC</th>\n",
              "      <th>BMXWAIST</th>\n",
              "      <th>HIQ210</th>\n",
              "    </tr>\n",
              "  </thead>\n",
              "  <tbody>\n",
              "    <tr>\n",
              "      <th>0</th>\n",
              "      <td>83732</td>\n",
              "      <td>1.0</td>\n",
              "      <td>NaN</td>\n",
              "      <td>1.0</td>\n",
              "      <td>1</td>\n",
              "      <td>1</td>\n",
              "      <td>62</td>\n",
              "      <td>3</td>\n",
              "      <td>1.0</td>\n",
              "      <td>5.0</td>\n",
              "      <td>...</td>\n",
              "      <td>124.0</td>\n",
              "      <td>64.0</td>\n",
              "      <td>94.8</td>\n",
              "      <td>184.5</td>\n",
              "      <td>27.8</td>\n",
              "      <td>43.3</td>\n",
              "      <td>43.6</td>\n",
              "      <td>35.9</td>\n",
              "      <td>101.1</td>\n",
              "      <td>2.0</td>\n",
              "    </tr>\n",
              "    <tr>\n",
              "      <th>1</th>\n",
              "      <td>83733</td>\n",
              "      <td>1.0</td>\n",
              "      <td>NaN</td>\n",
              "      <td>6.0</td>\n",
              "      <td>1</td>\n",
              "      <td>1</td>\n",
              "      <td>53</td>\n",
              "      <td>3</td>\n",
              "      <td>2.0</td>\n",
              "      <td>3.0</td>\n",
              "      <td>...</td>\n",
              "      <td>140.0</td>\n",
              "      <td>88.0</td>\n",
              "      <td>90.4</td>\n",
              "      <td>171.4</td>\n",
              "      <td>30.8</td>\n",
              "      <td>38.0</td>\n",
              "      <td>40.0</td>\n",
              "      <td>33.2</td>\n",
              "      <td>107.9</td>\n",
              "      <td>NaN</td>\n",
              "    </tr>\n",
              "    <tr>\n",
              "      <th>2</th>\n",
              "      <td>83734</td>\n",
              "      <td>1.0</td>\n",
              "      <td>NaN</td>\n",
              "      <td>NaN</td>\n",
              "      <td>1</td>\n",
              "      <td>1</td>\n",
              "      <td>78</td>\n",
              "      <td>3</td>\n",
              "      <td>1.0</td>\n",
              "      <td>3.0</td>\n",
              "      <td>...</td>\n",
              "      <td>132.0</td>\n",
              "      <td>44.0</td>\n",
              "      <td>83.4</td>\n",
              "      <td>170.1</td>\n",
              "      <td>28.8</td>\n",
              "      <td>35.6</td>\n",
              "      <td>37.0</td>\n",
              "      <td>31.0</td>\n",
              "      <td>116.5</td>\n",
              "      <td>2.0</td>\n",
              "    </tr>\n",
              "    <tr>\n",
              "      <th>3</th>\n",
              "      <td>83735</td>\n",
              "      <td>2.0</td>\n",
              "      <td>1.0</td>\n",
              "      <td>1.0</td>\n",
              "      <td>2</td>\n",
              "      <td>2</td>\n",
              "      <td>56</td>\n",
              "      <td>3</td>\n",
              "      <td>1.0</td>\n",
              "      <td>5.0</td>\n",
              "      <td>...</td>\n",
              "      <td>134.0</td>\n",
              "      <td>68.0</td>\n",
              "      <td>109.8</td>\n",
              "      <td>160.9</td>\n",
              "      <td>42.4</td>\n",
              "      <td>38.5</td>\n",
              "      <td>37.7</td>\n",
              "      <td>38.3</td>\n",
              "      <td>110.1</td>\n",
              "      <td>2.0</td>\n",
              "    </tr>\n",
              "    <tr>\n",
              "      <th>4</th>\n",
              "      <td>83736</td>\n",
              "      <td>2.0</td>\n",
              "      <td>1.0</td>\n",
              "      <td>1.0</td>\n",
              "      <td>2</td>\n",
              "      <td>2</td>\n",
              "      <td>42</td>\n",
              "      <td>4</td>\n",
              "      <td>1.0</td>\n",
              "      <td>4.0</td>\n",
              "      <td>...</td>\n",
              "      <td>114.0</td>\n",
              "      <td>54.0</td>\n",
              "      <td>55.2</td>\n",
              "      <td>164.9</td>\n",
              "      <td>20.3</td>\n",
              "      <td>37.4</td>\n",
              "      <td>36.0</td>\n",
              "      <td>27.2</td>\n",
              "      <td>80.4</td>\n",
              "      <td>2.0</td>\n",
              "    </tr>\n",
              "  </tbody>\n",
              "</table>\n",
              "<p>5 rows × 28 columns</p>\n",
              "</div>\n",
              "    <div class=\"colab-df-buttons\">\n",
              "\n",
              "  <div class=\"colab-df-container\">\n",
              "    <button class=\"colab-df-convert\" onclick=\"convertToInteractive('df-37059f0e-4f02-4449-a31a-70cc2846b3ae')\"\n",
              "            title=\"Convert this dataframe to an interactive table.\"\n",
              "            style=\"display:none;\">\n",
              "\n",
              "  <svg xmlns=\"http://www.w3.org/2000/svg\" height=\"24px\" viewBox=\"0 -960 960 960\">\n",
              "    <path d=\"M120-120v-720h720v720H120Zm60-500h600v-160H180v160Zm220 220h160v-160H400v160Zm0 220h160v-160H400v160ZM180-400h160v-160H180v160Zm440 0h160v-160H620v160ZM180-180h160v-160H180v160Zm440 0h160v-160H620v160Z\"/>\n",
              "  </svg>\n",
              "    </button>\n",
              "\n",
              "  <style>\n",
              "    .colab-df-container {\n",
              "      display:flex;\n",
              "      gap: 12px;\n",
              "    }\n",
              "\n",
              "    .colab-df-convert {\n",
              "      background-color: #E8F0FE;\n",
              "      border: none;\n",
              "      border-radius: 50%;\n",
              "      cursor: pointer;\n",
              "      display: none;\n",
              "      fill: #1967D2;\n",
              "      height: 32px;\n",
              "      padding: 0 0 0 0;\n",
              "      width: 32px;\n",
              "    }\n",
              "\n",
              "    .colab-df-convert:hover {\n",
              "      background-color: #E2EBFA;\n",
              "      box-shadow: 0px 1px 2px rgba(60, 64, 67, 0.3), 0px 1px 3px 1px rgba(60, 64, 67, 0.15);\n",
              "      fill: #174EA6;\n",
              "    }\n",
              "\n",
              "    .colab-df-buttons div {\n",
              "      margin-bottom: 4px;\n",
              "    }\n",
              "\n",
              "    [theme=dark] .colab-df-convert {\n",
              "      background-color: #3B4455;\n",
              "      fill: #D2E3FC;\n",
              "    }\n",
              "\n",
              "    [theme=dark] .colab-df-convert:hover {\n",
              "      background-color: #434B5C;\n",
              "      box-shadow: 0px 1px 3px 1px rgba(0, 0, 0, 0.15);\n",
              "      filter: drop-shadow(0px 1px 2px rgba(0, 0, 0, 0.3));\n",
              "      fill: #FFFFFF;\n",
              "    }\n",
              "  </style>\n",
              "\n",
              "    <script>\n",
              "      const buttonEl =\n",
              "        document.querySelector('#df-37059f0e-4f02-4449-a31a-70cc2846b3ae button.colab-df-convert');\n",
              "      buttonEl.style.display =\n",
              "        google.colab.kernel.accessAllowed ? 'block' : 'none';\n",
              "\n",
              "      async function convertToInteractive(key) {\n",
              "        const element = document.querySelector('#df-37059f0e-4f02-4449-a31a-70cc2846b3ae');\n",
              "        const dataTable =\n",
              "          await google.colab.kernel.invokeFunction('convertToInteractive',\n",
              "                                                    [key], {});\n",
              "        if (!dataTable) return;\n",
              "\n",
              "        const docLinkHtml = 'Like what you see? Visit the ' +\n",
              "          '<a target=\"_blank\" href=https://colab.research.google.com/notebooks/data_table.ipynb>data table notebook</a>'\n",
              "          + ' to learn more about interactive tables.';\n",
              "        element.innerHTML = '';\n",
              "        dataTable['output_type'] = 'display_data';\n",
              "        await google.colab.output.renderOutput(dataTable, element);\n",
              "        const docLink = document.createElement('div');\n",
              "        docLink.innerHTML = docLinkHtml;\n",
              "        element.appendChild(docLink);\n",
              "      }\n",
              "    </script>\n",
              "  </div>\n",
              "\n",
              "\n",
              "<div id=\"df-2386c82d-6e9a-42c6-a36b-cd344722c2a4\">\n",
              "  <button class=\"colab-df-quickchart\" onclick=\"quickchart('df-2386c82d-6e9a-42c6-a36b-cd344722c2a4')\"\n",
              "            title=\"Suggest charts.\"\n",
              "            style=\"display:none;\">\n",
              "\n",
              "<svg xmlns=\"http://www.w3.org/2000/svg\" height=\"24px\"viewBox=\"0 0 24 24\"\n",
              "     width=\"24px\">\n",
              "    <g>\n",
              "        <path d=\"M19 3H5c-1.1 0-2 .9-2 2v14c0 1.1.9 2 2 2h14c1.1 0 2-.9 2-2V5c0-1.1-.9-2-2-2zM9 17H7v-7h2v7zm4 0h-2V7h2v10zm4 0h-2v-4h2v4z\"/>\n",
              "    </g>\n",
              "</svg>\n",
              "  </button>\n",
              "\n",
              "<style>\n",
              "  .colab-df-quickchart {\n",
              "      --bg-color: #E8F0FE;\n",
              "      --fill-color: #1967D2;\n",
              "      --hover-bg-color: #E2EBFA;\n",
              "      --hover-fill-color: #174EA6;\n",
              "      --disabled-fill-color: #AAA;\n",
              "      --disabled-bg-color: #DDD;\n",
              "  }\n",
              "\n",
              "  [theme=dark] .colab-df-quickchart {\n",
              "      --bg-color: #3B4455;\n",
              "      --fill-color: #D2E3FC;\n",
              "      --hover-bg-color: #434B5C;\n",
              "      --hover-fill-color: #FFFFFF;\n",
              "      --disabled-bg-color: #3B4455;\n",
              "      --disabled-fill-color: #666;\n",
              "  }\n",
              "\n",
              "  .colab-df-quickchart {\n",
              "    background-color: var(--bg-color);\n",
              "    border: none;\n",
              "    border-radius: 50%;\n",
              "    cursor: pointer;\n",
              "    display: none;\n",
              "    fill: var(--fill-color);\n",
              "    height: 32px;\n",
              "    padding: 0;\n",
              "    width: 32px;\n",
              "  }\n",
              "\n",
              "  .colab-df-quickchart:hover {\n",
              "    background-color: var(--hover-bg-color);\n",
              "    box-shadow: 0 1px 2px rgba(60, 64, 67, 0.3), 0 1px 3px 1px rgba(60, 64, 67, 0.15);\n",
              "    fill: var(--button-hover-fill-color);\n",
              "  }\n",
              "\n",
              "  .colab-df-quickchart-complete:disabled,\n",
              "  .colab-df-quickchart-complete:disabled:hover {\n",
              "    background-color: var(--disabled-bg-color);\n",
              "    fill: var(--disabled-fill-color);\n",
              "    box-shadow: none;\n",
              "  }\n",
              "\n",
              "  .colab-df-spinner {\n",
              "    border: 2px solid var(--fill-color);\n",
              "    border-color: transparent;\n",
              "    border-bottom-color: var(--fill-color);\n",
              "    animation:\n",
              "      spin 1s steps(1) infinite;\n",
              "  }\n",
              "\n",
              "  @keyframes spin {\n",
              "    0% {\n",
              "      border-color: transparent;\n",
              "      border-bottom-color: var(--fill-color);\n",
              "      border-left-color: var(--fill-color);\n",
              "    }\n",
              "    20% {\n",
              "      border-color: transparent;\n",
              "      border-left-color: var(--fill-color);\n",
              "      border-top-color: var(--fill-color);\n",
              "    }\n",
              "    30% {\n",
              "      border-color: transparent;\n",
              "      border-left-color: var(--fill-color);\n",
              "      border-top-color: var(--fill-color);\n",
              "      border-right-color: var(--fill-color);\n",
              "    }\n",
              "    40% {\n",
              "      border-color: transparent;\n",
              "      border-right-color: var(--fill-color);\n",
              "      border-top-color: var(--fill-color);\n",
              "    }\n",
              "    60% {\n",
              "      border-color: transparent;\n",
              "      border-right-color: var(--fill-color);\n",
              "    }\n",
              "    80% {\n",
              "      border-color: transparent;\n",
              "      border-right-color: var(--fill-color);\n",
              "      border-bottom-color: var(--fill-color);\n",
              "    }\n",
              "    90% {\n",
              "      border-color: transparent;\n",
              "      border-bottom-color: var(--fill-color);\n",
              "    }\n",
              "  }\n",
              "</style>\n",
              "\n",
              "  <script>\n",
              "    async function quickchart(key) {\n",
              "      const quickchartButtonEl =\n",
              "        document.querySelector('#' + key + ' button');\n",
              "      quickchartButtonEl.disabled = true;  // To prevent multiple clicks.\n",
              "      quickchartButtonEl.classList.add('colab-df-spinner');\n",
              "      try {\n",
              "        const charts = await google.colab.kernel.invokeFunction(\n",
              "            'suggestCharts', [key], {});\n",
              "      } catch (error) {\n",
              "        console.error('Error during call to suggestCharts:', error);\n",
              "      }\n",
              "      quickchartButtonEl.classList.remove('colab-df-spinner');\n",
              "      quickchartButtonEl.classList.add('colab-df-quickchart-complete');\n",
              "    }\n",
              "    (() => {\n",
              "      let quickchartButtonEl =\n",
              "        document.querySelector('#df-2386c82d-6e9a-42c6-a36b-cd344722c2a4 button');\n",
              "      quickchartButtonEl.style.display =\n",
              "        google.colab.kernel.accessAllowed ? 'block' : 'none';\n",
              "    })();\n",
              "  </script>\n",
              "</div>\n",
              "    </div>\n",
              "  </div>\n"
            ]
          },
          "metadata": {},
          "execution_count": 1
        }
      ]
    },
    {
      "cell_type": "code",
      "source": [
        "df.info()"
      ],
      "metadata": {
        "colab": {
          "base_uri": "https://localhost:8080/"
        },
        "id": "Xq9h0MSy7mZr",
        "outputId": "96135242-c422-49dc-cda3-31641f1d59a2"
      },
      "execution_count": null,
      "outputs": [
        {
          "output_type": "stream",
          "name": "stdout",
          "text": [
            "<class 'pandas.core.frame.DataFrame'>\n",
            "RangeIndex: 5735 entries, 0 to 5734\n",
            "Data columns (total 28 columns):\n",
            " #   Column    Non-Null Count  Dtype  \n",
            "---  ------    --------------  -----  \n",
            " 0   SEQN      5735 non-null   int64  \n",
            " 1   ALQ101    5208 non-null   float64\n",
            " 2   ALQ110    1731 non-null   float64\n",
            " 3   ALQ130    3379 non-null   float64\n",
            " 4   SMQ020    5735 non-null   int64  \n",
            " 5   RIAGENDR  5735 non-null   int64  \n",
            " 6   RIDAGEYR  5735 non-null   int64  \n",
            " 7   RIDRETH1  5735 non-null   int64  \n",
            " 8   DMDCITZN  5734 non-null   float64\n",
            " 9   DMDEDUC2  5474 non-null   float64\n",
            " 10  DMDMARTL  5474 non-null   float64\n",
            " 11  DMDHHSIZ  5735 non-null   int64  \n",
            " 12  WTINT2YR  5735 non-null   float64\n",
            " 13  SDMVPSU   5735 non-null   int64  \n",
            " 14  SDMVSTRA  5735 non-null   int64  \n",
            " 15  INDFMPIR  5134 non-null   float64\n",
            " 16  BPXSY1    5401 non-null   float64\n",
            " 17  BPXDI1    5401 non-null   float64\n",
            " 18  BPXSY2    5535 non-null   float64\n",
            " 19  BPXDI2    5535 non-null   float64\n",
            " 20  BMXWT     5666 non-null   float64\n",
            " 21  BMXHT     5673 non-null   float64\n",
            " 22  BMXBMI    5662 non-null   float64\n",
            " 23  BMXLEG    5345 non-null   float64\n",
            " 24  BMXARML   5427 non-null   float64\n",
            " 25  BMXARMC   5427 non-null   float64\n",
            " 26  BMXWAIST  5368 non-null   float64\n",
            " 27  HIQ210    4732 non-null   float64\n",
            "dtypes: float64(20), int64(8)\n",
            "memory usage: 1.2 MB\n"
          ]
        }
      ]
    },
    {
      "cell_type": "markdown",
      "source": [
        "Après recheche, on s'intéresse à la colonne BMXBMI."
      ],
      "metadata": {
        "id": "7B1hvYBfBJwz"
      }
    },
    {
      "cell_type": "code",
      "source": [
        "men = df[df[\"RIAGENDR\"] == 1]\n",
        "women = df[df[\"RIAGENDR\"] == 2]\n",
        "\n",
        "print(f\"{women.shape[0]} Female Adults  μ1={women['BMXBMI'].mean():.4}   σ1={women['BMXBMI'].std():.3}\")\n",
        "print(f\"{men.shape[0]} Male Adults  μ2={men['BMXBMI'].mean():.4}   σ2={men['BMXBMI'].std():.3}\")"
      ],
      "metadata": {
        "colab": {
          "base_uri": "https://localhost:8080/"
        },
        "id": "i88kp_VA7jRf",
        "outputId": "35e9d5aa-3562-4baa-da62-2a72db8e02e0"
      },
      "execution_count": null,
      "outputs": [
        {
          "output_type": "stream",
          "name": "stdout",
          "text": [
            "2976 Female Adults  μ1=29.94   σ1=7.75\n",
            "2759 Male Adults  μ2=28.78   σ2=6.25\n"
          ]
        }
      ]
    },
    {
      "cell_type": "markdown",
      "source": [
        "ztest documentation : https://www.statsmodels.org/stable/generated/statsmodels.stats.weightstats.ztest.html"
      ],
      "metadata": {
        "id": "hSMwr1NCAyEA"
      }
    },
    {
      "cell_type": "markdown",
      "source": [
        "ztest_ind documentation : https://www.statsmodels.org/stable/generated/statsmodels.stats.weightstats.CompareMeans.ztest_ind.html#statsmodels.stats.weightstats.CompareMeans.ztest_ind"
      ],
      "metadata": {
        "id": "hlmxMLAFDiHg"
      }
    },
    {
      "cell_type": "code",
      "source": [
        "#Cleaning\n",
        "men_clean = men['BMXBMI'].dropna()\n",
        "women_clean = women['BMXBMI'].dropna()\n",
        "\n",
        "print(men_clean.shape[0], women_clean.shape[0])"
      ],
      "metadata": {
        "colab": {
          "base_uri": "https://localhost:8080/"
        },
        "id": "6D8KSZiFBeyp",
        "outputId": "4cb8396e-8ff9-48e4-c794-731cda7d228d"
      },
      "execution_count": null,
      "outputs": [
        {
          "output_type": "stream",
          "name": "stdout",
          "text": [
            "2718 2944\n"
          ]
        }
      ]
    },
    {
      "cell_type": "code",
      "source": [
        "import statsmodels.stats.weightstats as ws\n",
        "\n",
        "col1 = ws.DescrStatsW(men_clean)\n",
        "col2 = ws.DescrStatsW(women_clean)\n",
        "\n",
        "cm_obj = ws.CompareMeans(col1, col2)\n",
        "\n",
        "zstat, z_pval = cm_obj.ztest_ind(alternative='two-sided', usevar='unequal')\n",
        "\n",
        "print(f\"Statistique Z : {zstat:.3}\")\n",
        "print(f\"p-value : {z_pval:.10%}\")\n",
        "\n",
        "# Interpréter les résultats\n",
        "alpha = 0.05\n",
        "\n",
        "if z_pval < alpha:\n",
        "    print(\"La p-value est inférieure au seuil alpha.\")\n",
        "    print(\"Nous rejetons donc l'hypothèse nulle.\")\n",
        "else:\n",
        "    print(\"La p-value est supérieure au seuil alpha.\")\n",
        "    print(\"Nous n'avons pas suffisamment de preuves pour rejeter l'hypothèse nulle.\")"
      ],
      "metadata": {
        "colab": {
          "base_uri": "https://localhost:8080/"
        },
        "id": "VHlGM2DM_gX0",
        "outputId": "114e55d5-820d-4776-ffb8-f0bc4a25b11c"
      },
      "execution_count": null,
      "outputs": [
        {
          "output_type": "stream",
          "name": "stdout",
          "text": [
            "Statistique Z : -6.23\n",
            "p-value : 0.0000000472%\n",
            "La p-value est inférieure au seuil alpha.\n",
            "Nous rejetons donc l'hypothèse nulle.\n"
          ]
        }
      ]
    },
    {
      "cell_type": "code",
      "source": [
        "import statsmodels.stats.weightstats as ws\n",
        "\n",
        "col1 = ws.DescrStatsW(men_clean)\n",
        "col2 = ws.DescrStatsW(women_clean)\n",
        "\n",
        "cm_obj = ws.CompareMeans(col1, col2)\n",
        "\n",
        "zstat, z_pval = cm_obj.ztest_ind(alternative='two-sided', usevar='pooled')\n",
        "\n",
        "print(f\"Statistique Z : {zstat:.3}\")\n",
        "print(f\"p-value : {z_pval:.10%}\")\n",
        "\n",
        "# Interpréter les résultats\n",
        "alpha = 0.05\n",
        "\n",
        "if z_pval < alpha:\n",
        "    print(\"La p-value est inférieure au seuil alpha.\")\n",
        "    print(\"Nous rejetons donc l'hypothèse nulle.\")\n",
        "else:\n",
        "    print(\"La p-value est supérieure au seuil alpha.\")\n",
        "    print(\"Nous n'avons pas suffisamment de preuves pour rejeter l'hypothèse nulle.\")"
      ],
      "metadata": {
        "colab": {
          "base_uri": "https://localhost:8080/"
        },
        "id": "z2JmFIL8YLLY",
        "outputId": "bc3c7672-1ac8-4766-d877-136c78c284be"
      },
      "execution_count": null,
      "outputs": [
        {
          "output_type": "stream",
          "name": "stdout",
          "text": [
            "Statistique Z : -6.18\n",
            "p-value : 0.0000000659%\n",
            "La p-value est inférieure au seuil alpha.\n",
            "Nous rejetons donc l'hypothèse nulle.\n"
          ]
        }
      ]
    },
    {
      "cell_type": "markdown",
      "source": [
        "L'IMC semble différent chez les hommes et les femmes."
      ],
      "metadata": {
        "id": "cafya82wDPu0"
      }
    },
    {
      "cell_type": "markdown",
      "metadata": {
        "id": "RJPIhNx8WFh6"
      },
      "source": [
        "# **Optional**"
      ]
    },
    {
      "cell_type": "markdown",
      "metadata": {
        "id": "gj5yikuLWV-X"
      },
      "source": [
        "## Theoretical exercises"
      ]
    },
    {
      "cell_type": "markdown",
      "metadata": {
        "id": "0BiPhdUMWbne"
      },
      "source": [
        "### Question 1\n",
        "\n",
        "Some of the following statements refer to the null hypothesis, some to the alternate hypothesis.\n",
        "\n",
        "State the null hypothesis,  H0 , and the alternative hypothesis  Ha , in terms of the appropriate parameter  (*μ* or *p*) .\n",
        "\n",
        "**For example:**\n",
        "\n",
        "*Statement:* At most 60% of Americans vote in presidential elections.\n",
        "\n",
        "*Answer:* H0: p≤0.60; Ha: p>0.60\n",
        "\n",
        "*Statement:* The mean number of years Americans work before retiring is 34.\n",
        "\n",
        "*Answer:* H0: μ=34; Ha: μ≠34\n",
        "\n",
        "\n",
        "**Your turn:**\n",
        "1. The mean starting salary for San Jose State University graduates is at least USD 100,000 per year.\n",
        "\n",
        "    **H0: μ>=100,000; Ha: μ<100,000**\n",
        "2. Twenty-nine percent of high school seniors get drunk each month.\n",
        "\n",
        "    **H0: p=0.29; Ha: p=/=0.29**\n",
        "3. Fewer than 5% of adults ride the bus to work in Los Angeles.\n",
        "\n",
        "    **H0: p<0.05; Ha: p>0.05**\n",
        "4. The mean number of cars a person owns in her lifetime is not more than ten.\n",
        "\n",
        "    **H0: μ<=10; Ha: μ>10**\n",
        "5. About half of Americans prefer to live away from cities, given the choice.\n",
        "\n",
        "    **H0: p=0.5; Ha: p=/=0.5**\n",
        "6. Europeans have a mean paid vacation each year of six weeks.\n",
        "\n",
        "    **H0: μ=6; Ha: μ=/=6**\n",
        "7. The chance of developing breast cancer is under 11% for women.\n",
        "\n",
        "    **H0: p<0.11; Ha: p>0.11**\n",
        "8. Private universities' mean tuition cost is more than $20,000 per year.\n",
        "\n",
        "    **H0: μ>20,000; μ<20,000**\n",
        "\n"
      ]
    },
    {
      "cell_type": "markdown",
      "metadata": {
        "id": "oi5B1Y0PXg5I"
      },
      "source": [
        "### Question 2\n",
        "\n",
        "Over the past few decades, public health officials have examined the link between weight concerns and teen girls' smoking. Researchers surveyed a group of 273 randomly selected teen girls living in Massachusetts (between 12 and 15 years old). After four years the girls were surveyed again. Sixty-three said they smoked to stay thin. Is there good evidence that more than thirty percent of the teen girls smoke to stay thin? The alternative hypothesis is:\n",
        "\n",
        "> a. p<0.30\n",
        "\n",
        "> b. p≤0.30\n",
        "\n",
        "> c. p≥0.30\n",
        "\n",
        "> d. p>0.30"
      ]
    },
    {
      "cell_type": "code",
      "source": [],
      "metadata": {
        "id": "h2mv0dJymIpp"
      },
      "execution_count": null,
      "outputs": []
    },
    {
      "cell_type": "markdown",
      "source": [
        "Hypothèse Nulle (H0) : La proportion de filles adolescentes qui fument pour rester minces est égale ou inférieure à 30% :\n",
        "\n",
        "H0: p ≤ 0.30\n",
        "\n",
        "Hypothèse Alternative (Ha) : La proportion de filles adolescentes qui fument pour rester minces est supérieure à 30% :\n",
        "\n",
        "Ha: p > 0.30"
      ],
      "metadata": {
        "id": "bpoFYu7yLjqA"
      }
    },
    {
      "cell_type": "markdown",
      "metadata": {
        "id": "4_9yuVbzYHeP"
      },
      "source": [
        "### Question 3\n",
        "\n",
        "State the Type I and Type II errors in complete sentences given the following statements.\n",
        "\n",
        "**For example:**\n",
        "\n",
        "*Statement:* The mean number of years Americans work before retiring is 34.\n",
        "\n",
        "*Answer:* We conclude that the mean is not 34 years, when it really is 34 years. Type II error: We conclude that the mean is 34 years, when in fact it really is not 34 years.\n",
        "\n",
        "**Your turn:**\n",
        "1. At most 60% of Americans vote in presidential elections.\n",
        "2. The mean starting salary for San Jose State University graduates is at least USD 100,000 per year.\n",
        "3. Twenty-nine percent of high school seniors get drunk each month.\n",
        "4. Fewer than 5% of adults ride the bus to work in Los Angeles.\n",
        "5. The mean number of cars a person owns in his or her lifetime is not more than ten.\n",
        "6. About half of Americans prefer to live away from cities, given the choice.\n",
        "7. Europeans have a mean paid vacation each year of six weeks.\n",
        "8. The chance of developing breast cancer is under 11% for women.\n",
        "9. Private universities mean tuition cost is more than USD 20,000 per year."
      ]
    },
    {
      "cell_type": "markdown",
      "source": [
        "A type I error (false-positive) occurs if an investigator rejects a null hypothesis that is actually true in the population; a type II error (false-negative) occurs if the investigator fails to reject a null hypothesis that is actually false in the population."
      ],
      "metadata": {
        "id": "aA3JZYX-PNhh"
      }
    },
    {
      "cell_type": "markdown",
      "source": [
        "**1. At most 60% of Americans vote in presidential elections:**\n",
        "\n",
        "Type I error: We conclude that more than 60% of Americans vote in presidential elections when, in reality, it's not the case.\n",
        "\n",
        "Type II error: We conclude that at most 60% of Americans vote in presidential elections when, in reality, more than 60% do vote.\n",
        "\n",
        "**2. The mean starting salary for San Jose State University graduates is at least USD 100,000 per year:**\n",
        "\n",
        "Type I error: We conclude that the mean starting salary is not at least USD 100,000 per year when, in reality, it is.\n",
        "\n",
        "Type II error: We conclude that the mean starting salary is at least USD 100,000 per year when, in reality, it's not.\n",
        "\n",
        "**3. Twenty-nine percent of high school seniors get drunk each month:**\n",
        "\n",
        "Type I error: We conclude that 29% of high school seniors didn't got drunk each month when, in reality, it's the case.\n",
        "\n",
        "Type II error: We conclude that 29% of high school seniors get drunk each month when, in reality, it's note the case.\n",
        "\n",
        "**4. Fewer than 5% of adults ride the bus to work in Los Angeles:**\n",
        "\n",
        "Type I error: We conclude that 5% or more of adults ride the bus to work in Los Angeles when, in reality, it's not the case.\n",
        "\n",
        "Type II error: We conclude that fewer than 5% of adults ride the bus to work in Los Angeles when, in reality, more than 5% do.\n",
        "\n",
        "**5. The mean number of cars a person owns in his or her lifetime is not more than ten:**\n",
        "\n",
        "Type I error: We conclude that the mean number of cars a person owns in their lifetime is more than ten when, in reality, it's not.\n",
        "\n",
        "Type II error: We conclude that the mean number of cars a person owns in their lifetime is not more than ten when, in reality, it is.\n",
        "\n",
        "**6. About half of Americans prefer to live away from cities, given the choice:**\n",
        "\n",
        "Type I error: We conclude that less than half of Americans prefer to live away from cities when, in reality, it's not the case.\n",
        "\n",
        "Type II error: We conclude that about half of Americans prefer to live away from cities when, in reality, it's less than half.\n",
        "\n",
        "**7. Europeans have a mean paid vacation each year of six weeks:**\n",
        "\n",
        "Type I error: We conclude that the mean paid vacation for Europeans each year is less than six weeks when, in reality, it's not.\n",
        "\n",
        "Type II error: We conclude that the mean paid vacation for Europeans each year is six weeks when, in reality, it's more than six weeks.\n",
        "\n",
        "**8. The chance of developing breast cancer is under 11% for women:**\n",
        "\n",
        "Type I error: We conclude that the chance of developing breast cancer is 11% or more for women when, in reality, it's not.\n",
        "\n",
        "Type II error: We conclude that the chance of developing breast cancer is under 11% for women when, in reality, it's more than 11%.\n",
        "\n",
        "**9. Private universities' mean tuition cost is more than USD 20,000 per year:**\n",
        "\n",
        "Type I error: We conclude that the mean tuition cost for private universities is USD 20,000 or less per year when, in reality, it's more.\n",
        "\n",
        "Type II error: We conclude that the mean tuition cost for private universities is more than USD 20,000 per year when, in reality, it's less."
      ],
      "metadata": {
        "id": "rjuEmVSUMXSS"
      }
    },
    {
      "cell_type": "markdown",
      "metadata": {
        "id": "JrQPsofkZREK"
      },
      "source": [
        "## **Python exercises**"
      ]
    },
    {
      "cell_type": "markdown",
      "metadata": {
        "id": "wNZrfEJUZWTu"
      },
      "source": [
        "### Research Question\n",
        "Is there a significant difference between the population proportions of parents of black children and parents of Hispanic children who report that their child has had some swimming lessons?\n",
        "\n",
        "**Populations:** All parents of black children age 6-18 and all parents of Hispanic children age 6-18\n",
        "\n",
        "**Parameter of Interest:** p1 - p2, where p1 = black and p2 = hispanic\n",
        "\n",
        "**Null Hypothesis:** p1 - p2 = 0\n",
        "\n",
        "**Alternative Hypthosis:** p1 - p2 $\\neq$ 0\n",
        "\n",
        "**Data:**\n",
        "\n",
        "247 Parents of Black Children. 36.8% of parents report that their child has had some swimming lessons.\n",
        "\n",
        "308 Parents of Hispanic Children. 38.9% of parents report that their child has had some swimming lessons.\n",
        "\n",
        "*Hint:* use ttest_ind() from statsmodels"
      ]
    },
    {
      "cell_type": "code",
      "metadata": {
        "id": "FO50LqExbMYV"
      },
      "source": [
        "import numpy as np\n",
        "from statsmodels.stats.weightstats import ttest_ind\n",
        "\n",
        "n_black = 247\n",
        "p1 = 0.368\n",
        "n_hisp = 308\n",
        "p2 = 0.389\n",
        "\n",
        "sample_black = np.random.binomial(n=1, p=p1, size=n_black)\n",
        "sample_hisp = np.random.binomial(n=1, p=p2, size=n_hisp)"
      ],
      "execution_count": null,
      "outputs": []
    },
    {
      "cell_type": "code",
      "source": [
        "print(sample_black)\n",
        "print(sample_black.shape)\n",
        "print(f\"{sample_black.mean():.2%}\")"
      ],
      "metadata": {
        "colab": {
          "base_uri": "https://localhost:8080/"
        },
        "id": "0fsZRF0zTE1f",
        "outputId": "dceae6b9-5e97-4ab8-dd58-30c7dbbc239d"
      },
      "execution_count": null,
      "outputs": [
        {
          "output_type": "stream",
          "name": "stdout",
          "text": [
            "[0 0 0 1 1 1 1 0 0 0 0 1 0 0 0 0 0 1 0 0 0 0 0 0 0 0 1 0 1 0 0 0 0 0 0 1 1\n",
            " 1 1 1 1 0 1 0 1 0 1 0 0 1 0 0 0 0 0 1 0 1 1 0 1 0 0 0 0 0 0 0 1 1 1 0 0 0\n",
            " 0 1 0 0 0 1 0 1 0 0 0 1 0 0 1 0 0 0 1 0 0 1 0 0 1 0 0 0 0 1 0 1 0 1 0 0 1\n",
            " 1 0 0 1 0 1 1 0 0 0 0 0 1 0 0 0 0 1 0 1 0 1 0 0 1 0 0 1 0 1 0 1 0 1 0 0 0\n",
            " 1 1 0 0 0 0 0 0 0 0 1 0 1 1 1 1 1 0 1 0 0 1 1 0 1 0 1 1 0 0 0 1 0 0 0 0 1\n",
            " 0 0 1 0 0 0 0 0 1 0 0 0 1 0 1 1 0 0 0 1 0 0 0 1 1 0 1 1 0 0 0 1 0 0 0 1 1\n",
            " 0 1 1 0 1 1 0 0 0 0 1 0 0 0 0 1 0 1 1 0 1 0 0 0 1]\n",
            "(247,)\n",
            "36.03%\n"
          ]
        }
      ]
    },
    {
      "cell_type": "code",
      "source": [
        "tstat, p_value, d = ttest_ind(sample_black, sample_hisp)\n",
        "\n",
        "print(tstat, p_value)\n",
        "\n",
        "# Interpréter les résultats\n",
        "alpha = 0.05\n",
        "\n",
        "if p_value < alpha:\n",
        "    print(\"La p-value est inférieure au seuil alpha.\")\n",
        "    print(\"Nous rejetons donc l'hypothèse nulle.\")\n",
        "else:\n",
        "    print(\"La p-value est supérieure au seuil alpha.\")\n",
        "    print(\"Nous n'avons pas suffisamment de preuves pour rejeter l'hypothèse nulle.\")"
      ],
      "metadata": {
        "colab": {
          "base_uri": "https://localhost:8080/"
        },
        "id": "ThWKWyDzT3Ja",
        "outputId": "5ab0cb7d-37c3-4cf7-eb70-3e054de7dacc"
      },
      "execution_count": null,
      "outputs": [
        {
          "output_type": "stream",
          "name": "stdout",
          "text": [
            "-0.5509753903525183 0.5818730678288508\n",
            "La p-value est supérieure au seuil alpha.\n",
            "Nous n'avons pas suffisamment de preuves pour rejeter l'hypothèse nulle.\n"
          ]
        }
      ]
    },
    {
      "cell_type": "markdown",
      "source": [
        "-> Pas de différence significative entre les deux populations"
      ],
      "metadata": {
        "id": "vL5c1VtvUkn9"
      }
    },
    {
      "cell_type": "markdown",
      "metadata": {
        "id": "ct8oGLGVbRDq"
      },
      "source": [
        "### Research Question\n",
        "Let's say a cartwheeling competition was organized for some adults. The data looks like following,\n",
        "\n",
        "(80.57, 98.96, 85.28, 83.83, 69.94, 89.59, 91.09, 66.25, 91.21, 82.7 , 73.54, 81.99, 54.01, 82.89, 75.88, 98.32, 107.2 , 85.53, 79.08, 84.3 , 89.32, 86.35, 78.98, 92.26, 87.01)\n",
        "\n",
        "Is the average cartwheel distance (in inches) for adults more than 80 inches?\n",
        "\n",
        "**Population:** All adults\n",
        "\n",
        "**Parameter of Interest:** $\\mu$, population mean cartwheel distance.\n",
        "\n",
        "**Null Hypothesis:** $\\mu$ = 80\n",
        "\n",
        "**Alternative Hypthosis:** $\\mu$ > 80\n",
        "\n",
        "**Data:**\n",
        "\n",
        "25 adult participants.\n",
        "\n",
        "$\\mu$ = 83.84\n",
        "\n",
        "$\\sigma$ = 10.72\n",
        "\n"
      ]
    },
    {
      "cell_type": "markdown",
      "source": [
        "# New Section"
      ],
      "metadata": {
        "id": "RyLXzsiPtn-8"
      }
    },
    {
      "cell_type": "code",
      "metadata": {
        "id": "bv9-l707b4Iv",
        "colab": {
          "base_uri": "https://localhost:8080/"
        },
        "outputId": "c243e00c-898e-40d5-8271-974ba3281267"
      },
      "source": [
        "from statsmodels.stats.weightstats import ztest\n",
        "\n",
        "data = np.array([80.57, 98.96, 85.28, 83.83, 69.94, 89.59, 91.09, 66.25, 91.21, 82.7 , 73.54, 81.99, 54.01, 82.89, 75.88, 98.32, 107.2 , 85.53, 79.08, 84.3 , 89.32, 86.35, 78.98, 92.26, 87.01])\n",
        "\n",
        "n = data.shape\n",
        "mu = data.mean()\n",
        "std = data.std()\n",
        "print(n, mu, std, '\\n')\n",
        "\n",
        "zstat, p_value = ztest(data, value=80, alternative='larger')\n",
        "print(zstat, p_value, '\\n')\n",
        "\n",
        "# Interpréter les résultats\n",
        "alpha = 0.05\n",
        "if p_value < alpha:\n",
        "    print(\"La p-value est inférieure au seuil alpha.\")\n",
        "    print(\"Nous rejetons donc l'hypothèse nulle.\")\n",
        "else:\n",
        "    print(\"La p-value est supérieure au seuil alpha.\")\n",
        "    print(\"Nous n'avons pas suffisamment de preuves pour rejeter l'hypothèse nulle.\")"
      ],
      "execution_count": null,
      "outputs": [
        {
          "output_type": "stream",
          "name": "stdout",
          "text": [
            "(25,) 83.84320000000001 10.716018932420752 \n",
            "\n",
            "1.756973189172546 0.039461189601168366 \n",
            "\n",
            "La p-value est inférieure au seuil alpha.\n",
            "Nous rejetons donc l'hypothèse nulle.\n"
          ]
        }
      ]
    },
    {
      "cell_type": "code",
      "source": [],
      "metadata": {
        "id": "z07_pQhpVO8A"
      },
      "execution_count": null,
      "outputs": []
    }
  ]
}