{
  "nbformat": 4,
  "nbformat_minor": 0,
  "metadata": {
    "colab": {
      "provenance": [],
      "authorship_tag": "ABX9TyM0IfF7Y3uXrQTDHflv8v2C",
      "include_colab_link": true
    },
    "kernelspec": {
      "name": "python3",
      "display_name": "Python 3"
    },
    "language_info": {
      "name": "python"
    }
  },
  "cells": [
    {
      "cell_type": "markdown",
      "metadata": {
        "id": "view-in-github",
        "colab_type": "text"
      },
      "source": [
        "<a href=\"https://colab.research.google.com/github/Azimoj/WCS/blob/main/W3_Data_Science_Challenges_.ipynb\" target=\"_parent\"><img src=\"https://colab.research.google.com/assets/colab-badge.svg\" alt=\"Open In Colab\"/></a>"
      ]
    },
    {
      "cell_type": "markdown",
      "source": [
        "**Growth of Airbnb**\n",
        "\n",
        "\n",
        "Estimate the growth of Airbnb each year using the number of hosts registered as the growth metric. The rate of growth is calculated by taking ((number of hosts registered in the current year - number of hosts registered in the previous year) / the number of hosts registered in the previous year) * 100.\n",
        "Output the year, number of hosts in the current year, number of hosts in the previous year, and the rate of growth. Round the rate of growth to the nearest percent and order the result in the ascending order based on the year.\n",
        "Assume that the dataset consists only of unique hosts, meaning there are no duplicate hosts listed."
      ],
      "metadata": {
        "id": "Jhmyk2_RlaVx"
      }
    },
    {
      "cell_type": "code",
      "execution_count": null,
      "metadata": {
        "id": "AV-0RZc4iUBz"
      },
      "outputs": [],
      "source": [
        "import numpy as np\n",
        "import pandas as pd\n",
        "import matplotlib.pylab as plt"
      ]
    },
    {
      "cell_type": "code",
      "source": [
        "from datetime import datetime\n",
        "df_details['host_since'] = pd.to_datetime(df_details['host_since'])\n",
        "df_details['host_since_year'] = df_details['host_since'].apply(lambda x: x.strftime('%Y'))"
      ],
      "metadata": {
        "id": "i-WUvShAijeF"
      },
      "execution_count": null,
      "outputs": []
    },
    {
      "cell_type": "code",
      "source": [
        "df= pd.DataFrame(df_details['host_since_year'].value_counts().reset_index())"
      ],
      "metadata": {
        "id": "yUXVNV0eijjj"
      },
      "execution_count": null,
      "outputs": []
    },
    {
      "cell_type": "code",
      "source": [
        "df.columns = ['year', 'current_year']\n",
        "df = df.sort_values(by = 'year')\n",
        "df"
      ],
      "metadata": {
        "id": "Df_SCOt3ijmX"
      },
      "execution_count": null,
      "outputs": []
    },
    {
      "cell_type": "code",
      "source": [
        "df['last_year'] = df['current_year'].shift(1)\n",
        "df\n"
      ],
      "metadata": {
        "id": "SVZSly3fijo1"
      },
      "execution_count": null,
      "outputs": []
    },
    {
      "cell_type": "code",
      "source": [
        "df['estimated_growth'] = round((df['current_year'] - df['last_year'])/df['last_year'] * 100)"
      ],
      "metadata": {
        "id": "QJ7osMCNijvZ"
      },
      "execution_count": null,
      "outputs": []
    },
    {
      "cell_type": "code",
      "source": [
        "df_details['host_since'] = pd.to_datetime(df_details['host_since'])\n",
        "df_details = df_details.set_index('host_since')\n",
        "df_details = df_details.resample('Y').count()"
      ],
      "metadata": {
        "id": "p_X4PN8SiywT"
      },
      "execution_count": null,
      "outputs": []
    },
    {
      "cell_type": "code",
      "source": [],
      "metadata": {
        "id": "AOCaRR_QiyzI"
      },
      "execution_count": null,
      "outputs": []
    },
    {
      "cell_type": "code",
      "source": [],
      "metadata": {
        "id": "EUrmCVihm5x7"
      },
      "execution_count": null,
      "outputs": []
    },
    {
      "cell_type": "code",
      "source": [
        "df_host = df.copy()\n",
        "\n",
        "# Conversion en datetime et récupération du nombre d'host par an\n",
        "df_host['host_since'] = pd.to_datetime(df_host['host_since'])\n",
        "df_host = df_host.sort_values('host_since')\n",
        "df_host = df_host.set_index('host_since')\n",
        "df_host = df_host.resample('Y').count() # On groupe par an\n",
        "df_host = df_host['host_identity_verified'].reset_index()\n",
        "df_host['host_since'] = df_host['host_since'].dt.year\n",
        "\n",
        "# Création de la colonne année précédente en décalant la colonne année actuelle de 1\n",
        "df_host['prev_year'] = df_host['host_identity_verified'].shift(1)\n",
        "\n",
        "# On renomme nos colonnes\n",
        "df_host.columns = ['year', 'current_year', 'prev_year']\n",
        "\n",
        "# Puis on calcule le taux de croissance\n",
        "df_host['estimated_growth'] = round(((df_host['current_year'] - df_host['prev_year']) / df_host['prev_year']) * 100)\n",
        "\n",
        "df_host"
      ],
      "metadata": {
        "id": "7jpbwYrMiy4p"
      },
      "execution_count": null,
      "outputs": []
    },
    {
      "cell_type": "code",
      "source": [],
      "metadata": {
        "id": "rxP-qBWsm6Rx"
      },
      "execution_count": null,
      "outputs": []
    },
    {
      "cell_type": "code",
      "source": [],
      "metadata": {
        "id": "2tv_XXflm6VE"
      },
      "execution_count": null,
      "outputs": []
    },
    {
      "cell_type": "markdown",
      "source": [
        "**Cum Sum Energy Consumption**\n",
        "\n",
        "Calculate the running total (i.e., cumulative sum) energy consumption of the Meta/Facebook data centers in 3 continents (Europe, Asia, North America) by the date. Output the date, running total energy consumption, and running total percentage rounded to the nearest whole number."
      ],
      "metadata": {
        "id": "ANueW5K0lTgb"
      }
    },
    {
      "cell_type": "code",
      "source": [
        "# import des datasets\n",
        "energy_asia = pd.read_csv(\"/work/facebook/fb_asia_energy.csv\")\n",
        "energy_eu = pd.read_csv(\"/work/facebook/fb_eu_energy.csv\")\n",
        "energy_na = pd.read_csv(\"/work/facebook/fb_na_energy.csv\")"
      ],
      "metadata": {
        "id": "3_ajr6wuiy94"
      },
      "execution_count": null,
      "outputs": []
    },
    {
      "cell_type": "code",
      "source": [
        "# merge des différents datasets\n",
        "energy_fb = pd.merge(energy_asia, energy_eu, on=\"date\", how=\"outer\")\n",
        "energy_fb = pd.merge(energy_fb, energy_na, on=\"date\", how=\"outer\")"
      ],
      "metadata": {
        "id": "flkMOS_PizA6"
      },
      "execution_count": null,
      "outputs": []
    },
    {
      "cell_type": "code",
      "source": [
        "# To datetime pour travailler les dates\n",
        "energy_fb[\"date\"] = pd.to_datetime(energy_fb[\"date\"])\n",
        "\n",
        "# On sort en ascending et on ignore les index pour éviter les erreurs d'index\n",
        "# dans nos dates et calculer ensuite les sommes\n",
        "energy_fb = energy_fb.sort_values(by=\"date\", ascending=True, ignore_index=True)\n",
        "\n",
        "# On formate les dates\n",
        "energy_fb[\"formated_date\"] = energy_fb[\"date\"].dt.strftime(\"%B %d, %Y\")"
      ],
      "metadata": {
        "id": "RFCk0voBlneC"
      },
      "execution_count": null,
      "outputs": []
    },
    {
      "cell_type": "code",
      "source": [
        "# Remplacement des NaN par des 0 qui n'ont pas d'incidence dans les sommes\n",
        "energy_fb.fillna(0, inplace=True)\n",
        "\n",
        "# Calcul de la somme des colonnes consumption\n",
        "sum_columns = energy_fb[[\"consumption_x\", \"consumption_y\", \"consumption\"]].sum(axis=1)\n",
        "\n",
        "# Calcul de la somme cumulative et création de la colonne demandée\n",
        "energy_fb[\"cumulative_total_consumption\"] = sum_columns.cumsum()"
      ],
      "metadata": {
        "id": "W-3VQlTmlnhr"
      },
      "execution_count": null,
      "outputs": []
    },
    {
      "cell_type": "code",
      "source": [
        "# On récupère le total de la consommation et on l'enregistre dans la variable total\n",
        "total = energy_fb[\"cumulative_total_consumption\"].iloc[-1]\n",
        "\n",
        "# Calcul du pourcentage de consommation vs total et création de la colonne demandée\n",
        "energy_fb[\"percentage_of_total_consumption\"] = round((sum_columns.cumsum()/total)*100)\n",
        "\n",
        "energy_fb"
      ],
      "metadata": {
        "id": "wJ5Pi3Gelnkc"
      },
      "execution_count": null,
      "outputs": []
    },
    {
      "cell_type": "code",
      "source": [
        "# Création d'une liste de colonnes à suppr pour résultat propre\n",
        "columns_to_drop = [\"date\",\"consumption_x\",\"consumption_y\",\"consumption\"]\n",
        "\n",
        "# Drop des colonnes\n",
        "energy_fb.drop(columns=columns_to_drop,inplace=True)\n",
        "\n",
        "# Rename de la colonne des dates pour résultat propre\n",
        "energy_fb.rename(columns={\"formated_date\": \"date\"}, inplace=True)\n",
        "\n",
        "energy_fb"
      ],
      "metadata": {
        "id": "aSDNJx1pluO3"
      },
      "execution_count": null,
      "outputs": []
    },
    {
      "cell_type": "code",
      "source": [],
      "metadata": {
        "id": "WwuLx9UGm7Zb"
      },
      "execution_count": null,
      "outputs": []
    },
    {
      "cell_type": "code",
      "source": [],
      "metadata": {
        "id": "w1zOTuagm7cV"
      },
      "execution_count": null,
      "outputs": []
    },
    {
      "cell_type": "code",
      "source": [
        "# On merge les données\n",
        "df_inter = pd.merge(left=fb_eu, right=fb_asia, on='date', how='outer')\n",
        "df_final = pd.merge(left=df_inter, right=fb_na, on='date', how='outer')\n",
        "\n",
        "# On calcule la somme pour eu/asia/na\n",
        "df_final = df_final.fillna(0).sort_values('date')\n",
        "df_final['consumption_sum'] = df_final['consumption'] + df_final['consumption_x'] + df_final['consumption_y']\n",
        "\n",
        "# On fait la somme cumulée\n",
        "df_final['cumulative_total_consumption'] = df_final['consumption_sum'].cumsum()\n",
        "# Puis on calcule le pourcentage cumulé\n",
        "df_final['percentage_of_total_consumption'] = round((df_final['cumulative_total_consumption'] / df_final['consumption_sum'].sum()) * 100)\n",
        "\n",
        "# On retient uniquement les colonnes que l'on souhaite\n",
        "df_final = df_final.loc[:, ['date', 'cumulative_total_consumption', 'percentage_of_total_consumption']]\n",
        "df_final"
      ],
      "metadata": {
        "id": "K509Arbvm7gz"
      },
      "execution_count": null,
      "outputs": []
    },
    {
      "cell_type": "code",
      "source": [],
      "metadata": {
        "id": "o0Q2a17Cm7kB"
      },
      "execution_count": null,
      "outputs": []
    },
    {
      "cell_type": "code",
      "source": [],
      "metadata": {
        "id": "KPBF-Cwvm7qa"
      },
      "execution_count": null,
      "outputs": []
    },
    {
      "cell_type": "markdown",
      "source": [
        "**Year Over Year Churn**\n",
        "\n",
        "Find whether the number of drivers that have churned increased or decreased in each year compared to the previous one. Output the year (specifically, you can use the year the driver left Lyft) along with the corresponding number of churns in that year, the number of churns in the previous year, and an indication on whether the number has been increased (output the value 'increase') or decreased (output the value 'decrease'. Order records by the year in ascending order."
      ],
      "metadata": {
        "id": "XRFd3WAYly6B"
      }
    },
    {
      "cell_type": "code",
      "source": [
        "# Suppression des nan\n",
        "lyft.dropna(subset=['end_date'], inplace=True)"
      ],
      "metadata": {
        "id": "eQOIyORDluSw"
      },
      "execution_count": null,
      "outputs": []
    },
    {
      "cell_type": "code",
      "source": [
        "# Transformation de la date en string pour utiliser datetime derrière\n",
        "lyft['end_date'] = lyft['end_date'].astype(str)"
      ],
      "metadata": {
        "id": "SO5PH0LuluWh"
      },
      "execution_count": null,
      "outputs": []
    },
    {
      "cell_type": "code",
      "source": [
        "#Fonction pour extraire seulement l'année du départ du conducteur\n",
        "from datetime import datetime\n",
        "def extraction_annee(date_str):\n",
        "    date_obj = datetime.strptime(date_str, \"%Y-%m-%d %H:%M:%S\")\n",
        "    annee = date_obj.year\n",
        "    return annee"
      ],
      "metadata": {
        "id": "JsOAbgjplnnV"
      },
      "execution_count": null,
      "outputs": []
    },
    {
      "cell_type": "code",
      "source": [
        "#Application de la fonction sur une colonne\n",
        "lyft['annee_depart'] = lyft['end_date'].apply(extraction_annee)"
      ],
      "metadata": {
        "id": "BfE7F-O0lnqM"
      },
      "execution_count": null,
      "outputs": []
    },
    {
      "cell_type": "code",
      "source": [
        "annee_depart_counts = lyft['annee_depart'].value_counts().reset_index()\n",
        "annee_depart_counts.columns = ['Annee', 'total_churns']\n",
        "annee_depart_counts = annee_depart_counts.sort_values(by = 'Annee')"
      ],
      "metadata": {
        "id": "EuWd9u_WlntU"
      },
      "execution_count": null,
      "outputs": []
    },
    {
      "cell_type": "code",
      "source": [
        "# Création de la colonne annee_precedente\n",
        "annee_depart_counts['nb_depart_(N-1)'] = annee_depart_counts['total_churns'].shift(1)\n",
        "annee_depart_counts"
      ],
      "metadata": {
        "id": "MlnwEIRjmDl-"
      },
      "execution_count": null,
      "outputs": []
    },
    {
      "cell_type": "code",
      "source": [
        "annee_depart_counts['nb_depart_(N-1)'].fillna(0, inplace = True)"
      ],
      "metadata": {
        "id": "cYPHv_RMmDpX"
      },
      "execution_count": null,
      "outputs": []
    },
    {
      "cell_type": "code",
      "source": [
        "annee_depart_counts['evolution'] = annee_depart_counts['total_churns'] - annee_depart_counts['nb_depart_(N-1)']"
      ],
      "metadata": {
        "id": "oWoQVx7KmIxz"
      },
      "execution_count": null,
      "outputs": []
    },
    {
      "cell_type": "code",
      "source": [
        "annee_depart_counts['inc/dec']= annee_depart_counts['evolution'].apply(lambda x: 'increase' if x > 0 else 'decrease')"
      ],
      "metadata": {
        "id": "av-cwh4cmI1K"
      },
      "execution_count": null,
      "outputs": []
    },
    {
      "cell_type": "code",
      "source": [],
      "metadata": {
        "id": "mFhlXbclmI4O"
      },
      "execution_count": null,
      "outputs": []
    },
    {
      "cell_type": "code",
      "source": [],
      "metadata": {
        "id": "kxC3zJkfm9gk"
      },
      "execution_count": null,
      "outputs": []
    },
    {
      "cell_type": "code",
      "source": [
        "df_churn = df.copy()\n",
        "\n",
        "# Conversion en type date et mise en index\n",
        "df_churn['start_date'] = pd.to_datetime(df_churn['start_date'])\n",
        "df_churn['end_date'] = pd.to_datetime(df_churn['end_date'])\n",
        "df_churn = df_churn.sort_values('end_date')\n",
        "df_churn = df_churn.set_index('end_date')\n",
        "\n",
        "# On compte le nombre de churn par an\n",
        "df_churn = df_churn.resample('Y').count().loc[:, 'start_date'].reset_index()\n",
        "\n",
        "# Mise en forme\n",
        "df_churn['end_date'] = df_churn['end_date'].dt.year\n",
        "df_churn.columns = ['year_left', 'total_churn']\n",
        "\n",
        "# On décale total_churn de 1 pour créer prev_year_churn\n",
        "df_churn['prev_year_churn'] = df_churn['total_churn'].shift(1).fillna(0)\n",
        "\n",
        "# Création de inc/dec à partir de la différence entre l'année actuelle et précédente\n",
        "df_churn['inc/dec'] = df_churn['total_churn'] - df_churn['prev_year_churn']\n",
        "df_churn['inc/dec'] = df_churn['inc/dec'].apply(lambda x : 'increase' if x > 0 else 'decrease')\n",
        "\n",
        "df_churn"
      ],
      "metadata": {
        "id": "_X_hyUA_m9jt"
      },
      "execution_count": null,
      "outputs": []
    },
    {
      "cell_type": "code",
      "source": [],
      "metadata": {
        "id": "_dPvzHQ8m9me"
      },
      "execution_count": null,
      "outputs": []
    },
    {
      "cell_type": "code",
      "source": [],
      "metadata": {
        "id": "RrVZJ1q-m9pg"
      },
      "execution_count": null,
      "outputs": []
    },
    {
      "cell_type": "code",
      "source": [],
      "metadata": {
        "id": "D9zBXeojm9sO"
      },
      "execution_count": null,
      "outputs": []
    }
  ]
}