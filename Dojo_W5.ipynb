{
  "nbformat": 4,
  "nbformat_minor": 0,
  "metadata": {
    "colab": {
      "provenance": [],
      "authorship_tag": "ABX9TyNWPXKv40OaiNexBWDNGjxB",
      "include_colab_link": true
    },
    "kernelspec": {
      "name": "python3",
      "display_name": "Python 3"
    },
    "language_info": {
      "name": "python"
    }
  },
  "cells": [
    {
      "cell_type": "markdown",
      "metadata": {
        "id": "view-in-github",
        "colab_type": "text"
      },
      "source": [
        "<a href=\"https://colab.research.google.com/github/Azimoj/WCS/blob/main/Dojo_W5.ipynb\" target=\"_parent\"><img src=\"https://colab.research.google.com/assets/colab-badge.svg\" alt=\"Open In Colab\"/></a>"
      ]
    },
    {
      "cell_type": "markdown",
      "source": [
        "ookbook Recipes\n",
        "\n",
        "\n",
        "\n",
        "You are given the table with titles of recipes from a cookbook and their page numbers. You are asked to represent how the recipes will be distributed in the book.\n",
        "Produce a table consisting of three columns: left_page_number, left_title and right_title. The k-th row (counting from 0), should contain the number and the title of the page with the number\n",
        "2×k in the first and second columns respectively, and the title of the page with the number\n",
        "2×k+1 in the third column.\n",
        "Each page contains at most 1 recipe. If the page does not contain a recipe, the appropriate cell should remain empty (NULL value). Page 0 (the internal side of the front cover) is guaranteed to be empty.\n",
        "\n",
        "\n",
        "\n"
      ],
      "metadata": {
        "id": "E6DgtGJn0f19"
      }
    },
    {
      "cell_type": "code",
      "source": [
        "# Jean-Simon\n",
        "\n",
        "import pandas as pd\n",
        "import numpy as np\n",
        "\n",
        "facebook_friends = pd.read_csv('/work/facebook/facebook_friends.csv')\n",
        "\n",
        "concatvalues =len(np.unique(np.concatenate([facebook_friends.user1.values,facebook_friends.user2.values])))\n",
        "revert = facebook_friends.rename(columns= {'user1':'user2','user2':'user1'})\n",
        "final = pd.concat([facebook_friends, revert],sort = False).drop_duplicates()\n",
        "\n",
        "result = final.groupby('user1').size().to_frame('count').reset_index()\n",
        "result['popularity_percent'] = 100*(result['count'] /concatvalues)"
      ],
      "metadata": {
        "id": "haebw6pd03Ju"
      },
      "execution_count": null,
      "outputs": []
    },
    {
      "cell_type": "code",
      "execution_count": null,
      "metadata": {
        "id": "EkwlG_G-0Lgq"
      },
      "outputs": [],
      "source": [
        "df[\"right page\"] = df.apply(lambda x : x[1] if x[0] %2 != 0 else \"\", axis=1)\n",
        "df[\"left page\"] = df.apply(lambda x : x[1] if x[0] %2 == 0 else \"\", axis=1)\n",
        "df[\"left page number\"] = df.apply(lambda x : x[0] if x[0] %2 == 0 else x[0]-1, axis=1)\n",
        "df = df[[\"right page\",\"left page\",\"left page number\"]]\n",
        "\n",
        "\n",
        "df.groupby(by=\"left page number\").agg(lambda x: ''.join(map(str, set(x))))"
      ]
    },
    {
      "cell_type": "code",
      "source": [],
      "metadata": {
        "id": "BRpt4aQQ7Rw2"
      },
      "execution_count": null,
      "outputs": []
    },
    {
      "cell_type": "code",
      "source": [
        "\n",
        "\n",
        "df.sort_values(by='page_number', inplace=True)\n",
        "\n",
        "max_page = df['page_number'].max()\n",
        "page_range = range(0, max_page + 1, 2)\n",
        "\n",
        "df_result = pd.DataFrame(index=page_range, columns=['left_page_number', 'left_title', 'right_title'])\n",
        "\n",
        "for k in page_range:\n",
        "    left_page_number = k\n",
        "    left_title = df[df['page_number'] == k]['title'].values[0] if k in df['page_number'].values else ''\n",
        "\n",
        "    right_page_number = k + 1\n",
        "    right_title = df[df['page_number'] == right_page_number]['title'].values[0] if right_page_number in df['page_number'].values else ''\n",
        "\n",
        "    df_result.loc[k] = [left_page_number, left_title, right_title]\n",
        "\n",
        "\n",
        "df_result"
      ],
      "metadata": {
        "id": "tInvSEsG7R0p"
      },
      "execution_count": null,
      "outputs": []
    },
    {
      "cell_type": "code",
      "source": [],
      "metadata": {
        "id": "M6Qh7UZg03N-"
      },
      "execution_count": null,
      "outputs": []
    },
    {
      "cell_type": "markdown",
      "source": [
        "Popularity Percentage\n",
        "\n",
        "\n",
        "\n",
        "Find the popularity percentage for each user on Meta/Facebook. The popularity percentage is defined as the total number of friends the user has divided by the total number of users on the platform, then converted into a percentage by multiplying by 100.\n",
        "Output each user along with their popularity percentage. Order records in ascending order by user id.\n",
        "The 'user1' and 'user2' column are pairs of friends.\n",
        "\n",
        "\n",
        "\n"
      ],
      "metadata": {
        "id": "dP-NZpay2pcP"
      }
    },
    {
      "cell_type": "code",
      "source": [
        "# Jean-Simon\n",
        "\n",
        "import pandas as pd\n",
        "import numpy as np\n",
        "\n",
        "facebook_friends = pd.read_csv('/work/facebook/facebook_friends.csv')\n",
        "\n",
        "concatvalues =len(np.unique(np.concatenate([facebook_friends.user1.values,facebook_friends.user2.values])))\n",
        "revert = facebook_friends.rename(columns= {'user1':'user2','user2':'user1'})\n",
        "final = pd.concat([facebook_friends, revert],sort = False).drop_duplicates()\n",
        "\n",
        "result = final.groupby('user1').size().to_frame('count').reset_index()\n",
        "result['popularity_percent'] = 100*(result['count'] /concatvalues)\n",
        "result\n",
        "\n"
      ],
      "metadata": {
        "id": "LK-grAcWBfev"
      },
      "execution_count": null,
      "outputs": []
    },
    {
      "cell_type": "code",
      "source": [
        "# Start writing code here...\n",
        "import pandas as pd\n",
        "from collections import defaultdict\n",
        "\n",
        "df_facebook = pd.read_csv('/work/facebook/facebook_friends.csv')\n",
        "df_facebook\n",
        "\n",
        "# Concaténer les colonnes user1 et user2 pour obtenir la liste complète d'utilisateurs\n",
        "all_users = pd.concat([df_facebook['user1'], df_facebook['user2']])\n",
        "\n",
        "# Calculer le nombre total d'utilisateurs sur la plateforme\n",
        "total_users = len(all_users.unique())\n",
        "\n",
        "total_users\n",
        "\n",
        "# Créer un dataframe pour stocker le nombre d'amis pour chaque utilisateur\n",
        "friend_count = pd.Series(all_users.value_counts(), name='friend_count').reset_index()\n",
        "friend_count\n",
        "\n",
        "# Renommer les colonnes pour la fusion\n",
        "friend_count.columns = ['user_id', 'friend_count']\n",
        "\n",
        "# Fusionner les dataframes pour obtenir le nombre d'amis pour chaque utilisateur\n",
        "result_df = pd.merge(friend_count, df_facebook, left_on='user_id', right_on='user2', how='right')\n",
        "result_df\n",
        "\n",
        "\n",
        "# Calculer le pourcentage de popularité pour chaque utilisateur\n",
        "result_df['popularity_percentage'] = (result_df['friend_count'] / total_users) * 100\n",
        "\n",
        "# Arrondir les pourcentages\n",
        "result_df['popularity_percentage'] = result_df['popularity_percentage'].round(2)\n",
        "\n",
        "# Afficher le résultat trié par user_id\n",
        "result_df = result_df[['user_id', 'popularity_percentage']].sort_values(by='user_id').reset_index(drop=True)\n",
        "result_df\n",
        "\n",
        "\n",
        "# Groupby par user_id\n",
        "grouped_result = result_df.groupby('user_id').agg({'popularity_percentage': 'max'}).reset_index()\n",
        "\n",
        "# Afficher le résultat\n",
        "grouped_result"
      ],
      "metadata": {
        "id": "86wT-fOA2pwe"
      },
      "execution_count": null,
      "outputs": []
    },
    {
      "cell_type": "code",
      "source": [
        "# df con usuarios únicos\n",
        "all_users = pd.unique(df[['user1', 'user2']].values.ravel('K'))\n",
        "all_users\n",
        "#número de amigos para cada usuario\n",
        "friends_count = df['user1'].append(df['user2']).value_counts()\n",
        "friends_count\n",
        "\n",
        "# total de usuarios\n",
        "total_users = len(all_users)\n",
        "total_users\n",
        "\n",
        "# porcentaje\n",
        "popularity = (friends_count / total_users) * 100\n",
        "\n",
        "popularity = popularity.sort_index()\n",
        "\n",
        "\n",
        "print(popularity)"
      ],
      "metadata": {
        "id": "q7ayPQ8b2p0N"
      },
      "execution_count": null,
      "outputs": []
    },
    {
      "cell_type": "code",
      "source": [],
      "metadata": {
        "id": "Clxrn4xc03Qp"
      },
      "execution_count": null,
      "outputs": []
    },
    {
      "cell_type": "code",
      "source": [],
      "metadata": {
        "id": "XJVVAwOs3jus"
      },
      "execution_count": null,
      "outputs": []
    },
    {
      "cell_type": "code",
      "source": [],
      "metadata": {
        "id": "J74-3ypv3j3h"
      },
      "execution_count": null,
      "outputs": []
    },
    {
      "cell_type": "code",
      "source": [],
      "metadata": {
        "id": "qkndEQP03j9r"
      },
      "execution_count": null,
      "outputs": []
    },
    {
      "cell_type": "code",
      "source": [],
      "metadata": {
        "id": "pKJ1RjBb03St"
      },
      "execution_count": null,
      "outputs": []
    },
    {
      "cell_type": "markdown",
      "source": [
        "Risky Projects\n",
        "\n",
        "\n",
        "\n",
        "Identify projects that are at risk for going overbudget. A project is considered to be overbudget if the cost of all employees assigned to the project is greater than the budget of the project.\n",
        "\n",
        "\n",
        "\n",
        "You'll need to prorate the cost of the employees to the duration of the project. For example, if the budget for a project that takes half a year to complete is $10K, then the total half-year salary of all employees assigned to the project should not exceed $10K. Salary is defined on a yearly basis, so be careful how to calculate salaries for the projects that last less or more than one year.\n",
        "\n",
        "\n",
        "\n",
        "Output a list of projects that are overbudget with their project name, project budget, and prorated total employee expense (rounded to the next dollar amount).\n",
        "\n",
        "\n",
        "\n"
      ],
      "metadata": {
        "id": "Klf9E82U1_8n"
      }
    },
    {
      "cell_type": "code",
      "source": [
        "# Jean-Simon\n",
        "\n",
        "import pandas as pd\n",
        "import numpy as np\n",
        "from datetime import datetime\n",
        "\n",
        "linkedin_projects = pd.read_csv('/work/linkedin/linkedin_projects.csv')\n",
        "linkedin_emp_projects = pd.read_csv('/work/linkedin/linkedin_emp_projects.csv')\n",
        "linkedin_employees = pd.read_csv('/work/linkedin/linkedin_employees.csv')\n",
        "\n",
        "\n",
        "\n",
        "df = pd.merge(linkedin_projects, linkedin_emp_projects, how = 'inner',left_on = ['id'], right_on=['project_id'])\n",
        "df1 = pd.merge(df, linkedin_employees, how = 'inner',left_on = ['emp_id'], right_on=['id'])\n",
        "\n",
        "df1['project_duration'] = (pd.to_datetime(df1['end_date']) - pd.to_datetime(df1['start_date'])).dt.days\n",
        "\n",
        "df_expense = df1.groupby('title')['salary'].sum().reset_index(name='expense')\n",
        "df_budget_expense = pd.merge(df1, df_expense, how = 'left',left_on = ['title'], right_on=['title'])\n",
        "df_budget_expense['prorated_expense'] = np.ceil(df_budget_expense['expense']*(df_budget_expense['project_duration'])/365)\n",
        "df_budget_expense['budget_diff'] = df_budget_expense['prorated_expense'] - df_budget_expense['budget']\n",
        "df_over_budget = df_budget_expense[df_budget_expense[\"budget_diff\"] > 0]\n",
        "\n",
        "result = df_over_budget[['title','budget','prorated_expense']]\n",
        "result = result.drop_duplicates().sort_values('title')"
      ],
      "metadata": {
        "id": "32owig61BOkQ"
      },
      "execution_count": null,
      "outputs": []
    },
    {
      "cell_type": "code",
      "source": [],
      "metadata": {
        "id": "RdsbRdqwBOni"
      },
      "execution_count": null,
      "outputs": []
    },
    {
      "cell_type": "code",
      "source": [
        "df3['start_date'] = pd.to_datetime(df3['start_date'])\n",
        "df3['end_date'] = pd.to_datetime(df3['end_date'])"
      ],
      "metadata": {
        "id": "cT4Lr9KW2AzC"
      },
      "execution_count": null,
      "outputs": []
    },
    {
      "cell_type": "code",
      "source": [
        "df3['project_duration'] = (df3['end_date'] - df3['start_date']).dt.days\n",
        "df3"
      ],
      "metadata": {
        "id": "iQh1VZby2A4s"
      },
      "execution_count": null,
      "outputs": []
    },
    {
      "cell_type": "code",
      "source": [
        "df = pd.merge(df1, df2, left_on='emp_id', right_on='id', how='left')\n",
        "df"
      ],
      "metadata": {
        "id": "lpi4soFH2PH4"
      },
      "execution_count": null,
      "outputs": []
    },
    {
      "cell_type": "code",
      "source": [
        "df[\"salary\"] = df[\"salary\"]/365"
      ],
      "metadata": {
        "id": "0QCg7jSQ2PQO"
      },
      "execution_count": null,
      "outputs": []
    },
    {
      "cell_type": "code",
      "source": [
        "project_costs = df.groupby('project_id')['salary'].sum().reset_index()\n",
        "project_costs"
      ],
      "metadata": {
        "id": "mmsixS_g2PTg"
      },
      "execution_count": null,
      "outputs": []
    },
    {
      "cell_type": "code",
      "source": [
        "df_all = pd.merge(df3, project_costs, left_on='id', right_on='project_id', how='inner')\n",
        "df_all"
      ],
      "metadata": {
        "id": "kadXjqJf2alv"
      },
      "execution_count": null,
      "outputs": []
    },
    {
      "cell_type": "code",
      "source": [
        "df_all['prorated_expense'] = round(df_all['salary'] * df_all['project_duration'])\n",
        "df_all"
      ],
      "metadata": {
        "id": "1DAM68nM2apS"
      },
      "execution_count": null,
      "outputs": []
    },
    {
      "cell_type": "code",
      "source": [
        "# Identificar proyectos sobre presupuesto\n",
        "\n",
        "df_overbudget = df_all[['title', 'budget', 'prorated_expense']]\n",
        "df_overbudget"
      ],
      "metadata": {
        "id": "WzRQGU_R2aua"
      },
      "execution_count": null,
      "outputs": []
    },
    {
      "cell_type": "code",
      "source": [
        "df_final_overbudget = df_overbudget[df_overbudget['prorated_expense'] > df_overbudget['budget']]\n",
        "df_final_overbudget"
      ],
      "metadata": {
        "id": "YNxBCn9C2kdF"
      },
      "execution_count": null,
      "outputs": []
    },
    {
      "cell_type": "code",
      "source": [],
      "metadata": {
        "id": "KsbKiF3_2khO"
      },
      "execution_count": null,
      "outputs": []
    },
    {
      "cell_type": "code",
      "source": [],
      "metadata": {
        "id": "BiMlh5xC2kkS"
      },
      "execution_count": null,
      "outputs": []
    }
  ]
}