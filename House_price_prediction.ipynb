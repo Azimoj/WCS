{
  "nbformat": 4,
  "nbformat_minor": 0,
  "metadata": {
    "colab": {
      "provenance": [],
      "authorship_tag": "ABX9TyNgwhtQpZ4DvQHKyear5yTQ",
      "include_colab_link": true
    },
    "kernelspec": {
      "name": "python3",
      "display_name": "Python 3"
    },
    "language_info": {
      "name": "python"
    }
  },
  "cells": [
    {
      "cell_type": "markdown",
      "metadata": {
        "id": "view-in-github",
        "colab_type": "text"
      },
      "source": [
        "<a href=\"https://colab.research.google.com/github/Azimoj/WCS/blob/main/House_price_prediction.ipynb\" target=\"_parent\"><img src=\"https://colab.research.google.com/assets/colab-badge.svg\" alt=\"Open In Colab\"/></a>"
      ]
    },
    {
      "cell_type": "markdown",
      "source": [
        "In such type of data, Machine Learning practitioners often suggest taking the log of the continuous variable like Income, to improve the accuracy of the model. The reason behind doing this is that the “income” variable spans a very large range of values starting from 12K to 700K."
      ],
      "metadata": {
        "id": "aTWurlsyviKh"
      }
    },
    {
      "cell_type": "markdown",
      "source": [
        "\n",
        "https://www.analyticsvidhya.com/blog/2020/03/one-hot-encoding-vs-label-encoding-using-scikit-learn/"
      ],
      "metadata": {
        "id": "NfYoLa2KT7z4"
      }
    },
    {
      "cell_type": "code",
      "execution_count": null,
      "metadata": {
        "colab": {
          "base_uri": "https://localhost:8080/"
        },
        "id": "S3L4RxBEX2VR",
        "outputId": "3540c787-79d0-4403-96a0-3f1b545d16df"
      },
      "outputs": [
        {
          "output_type": "stream",
          "name": "stdout",
          "text": [
            "Populating the interactive namespace from numpy and matplotlib\n"
          ]
        }
      ],
      "source": [
        "# importation des librairies\n",
        "import numpy as np\n",
        "import pandas as pd\n",
        "%pylab inline\n",
        "import seaborn as sns\n",
        "import matplotlib.pyplot as plt\n",
        "\n",
        "import warnings\n",
        "warnings.filterwarnings('ignore')"
      ]
    },
    {
      "cell_type": "code",
      "source": [
        "from google.colab import drive\n",
        "drive.mount(\"/content/drive\", force_remount=True)"
      ],
      "metadata": {
        "colab": {
          "base_uri": "https://localhost:8080/"
        },
        "id": "Fl2782CTYHNg",
        "outputId": "70acd908-42f9-4199-f184-a7e7c9f27617"
      },
      "execution_count": null,
      "outputs": [
        {
          "output_type": "stream",
          "name": "stdout",
          "text": [
            "Mounted at /content/drive\n"
          ]
        }
      ]
    },
    {
      "cell_type": "code",
      "source": [
        "from sklearn.pipeline import Pipeline\n",
        "from sklearn.preprocessing import StandardScaler, OneHotEncoder\n",
        "from sklearn.impute import SimpleImputer\n",
        "from sklearn import preprocessing\n",
        "from sklearn.preprocessing import FunctionTransformer\n",
        "from sklearn.compose import ColumnTransformer\n",
        "from sklearn.compose import TransformedTargetRegressor\n",
        "from sklearn.model_selection import train_test_split\n",
        "from sklearn.model_selection import GridSearchCV"
      ],
      "metadata": {
        "id": "nwwpqqiCX29f"
      },
      "execution_count": null,
      "outputs": []
    },
    {
      "cell_type": "code",
      "source": [
        "from sklearn.ensemble import RandomForestRegressor\n",
        "from sklearn.ensemble import ExtraTreesRegressor\n",
        "from sklearn.ensemble import GradientBoostingRegressor\n",
        "from sklearn.svm import SVR\n",
        "from sklearn.metrics import mean_squared_error\n",
        "from sklearn.metrics import mean_squared_log_error"
      ],
      "metadata": {
        "id": "jqNw2pLxcvbN"
      },
      "execution_count": null,
      "outputs": []
    },
    {
      "cell_type": "code",
      "source": [
        "data = pd.read_csv('/content/drive/MyDrive/WCS/W2/train_clean.csv')"
      ],
      "metadata": {
        "id": "H4JBjd5YYpqQ"
      },
      "execution_count": null,
      "outputs": []
    },
    {
      "cell_type": "code",
      "source": [
        "pd.set_option('display.max_columns', None)\n",
        "data.head()"
      ],
      "metadata": {
        "colab": {
          "base_uri": "https://localhost:8080/",
          "height": 226
        },
        "id": "cAOykxp9mCU5",
        "outputId": "b214c6d4-ee2b-4d13-d15f-3597040446ae"
      },
      "execution_count": null,
      "outputs": [
        {
          "output_type": "execute_result",
          "data": {
            "text/plain": [
              "   OverallQual  GrLivArea  GarageArea  TotalBsmtSF  TotRmsAbvGrd  YearBuilt  \\\n",
              "0            7       1710         548          856             8       2003   \n",
              "1            6       1262         460         1262             6       1976   \n",
              "2            7       1786         608          920             6       2001   \n",
              "3            7       1717         642          756             7       1915   \n",
              "4            8       2198         836         1145             9       2000   \n",
              "\n",
              "   MasVnrArea  Fireplaces  BsmtFinSF1  LotFrontage  WoodDeckSF  2ndFlrSF  \\\n",
              "0       196.0           0         706         65.0           0       854   \n",
              "1         0.0           1         978         80.0         298         0   \n",
              "2       162.0           1         486         68.0           0       866   \n",
              "3         0.0           1         216         60.0           0       756   \n",
              "4       350.0           1         655         84.0         192      1053   \n",
              "\n",
              "   OpenPorchSF  HalfBath  LotArea  BsmtFullBath  BsmtUnfSF MSZoning Street  \\\n",
              "0           61         1     8450             1        150       RL   Pave   \n",
              "1            0         0     9600             0        284       RL   Pave   \n",
              "2           42         1    11250             1        434       RL   Pave   \n",
              "3           35         0     9550             1        540       RL   Pave   \n",
              "4           84         1    14260             1        490       RL   Pave   \n",
              "\n",
              "  RoofStyle RoofMatl Exterior1st ExterQual Foundation BsmtCond Heating  \\\n",
              "0     Gable  CompShg     VinylSd        Gd      PConc       TA    GasA   \n",
              "1     Gable  CompShg     MetalSd        TA     CBlock       TA    GasA   \n",
              "2     Gable  CompShg     VinylSd        Gd      PConc       TA    GasA   \n",
              "3     Gable  CompShg     Wd Sdng        TA     BrkTil       Gd    GasA   \n",
              "4     Gable  CompShg     VinylSd        Gd      PConc       TA    GasA   \n",
              "\n",
              "  CentralAir KitchenQual GarageType GarageFinish GarageQual GarageCond  \\\n",
              "0          Y          Gd     Attchd          RFn         TA         TA   \n",
              "1          Y          TA     Attchd          RFn         TA         TA   \n",
              "2          Y          Gd     Attchd          RFn         TA         TA   \n",
              "3          Y          Gd     Detchd          Unf         TA         TA   \n",
              "4          Y          Gd     Attchd          RFn         TA         TA   \n",
              "\n",
              "  SaleType SaleCondition  SalePrice  \n",
              "0       WD        Normal     208500  \n",
              "1       WD        Normal     181500  \n",
              "2       WD        Normal     223500  \n",
              "3       WD       Abnorml     140000  \n",
              "4       WD        Normal     250000  "
            ],
            "text/html": [
              "\n",
              "  <div id=\"df-f7ae2fad-d652-48b1-bb68-7dcc0d343154\" class=\"colab-df-container\">\n",
              "    <div>\n",
              "<style scoped>\n",
              "    .dataframe tbody tr th:only-of-type {\n",
              "        vertical-align: middle;\n",
              "    }\n",
              "\n",
              "    .dataframe tbody tr th {\n",
              "        vertical-align: top;\n",
              "    }\n",
              "\n",
              "    .dataframe thead th {\n",
              "        text-align: right;\n",
              "    }\n",
              "</style>\n",
              "<table border=\"1\" class=\"dataframe\">\n",
              "  <thead>\n",
              "    <tr style=\"text-align: right;\">\n",
              "      <th></th>\n",
              "      <th>OverallQual</th>\n",
              "      <th>GrLivArea</th>\n",
              "      <th>GarageArea</th>\n",
              "      <th>TotalBsmtSF</th>\n",
              "      <th>TotRmsAbvGrd</th>\n",
              "      <th>YearBuilt</th>\n",
              "      <th>MasVnrArea</th>\n",
              "      <th>Fireplaces</th>\n",
              "      <th>BsmtFinSF1</th>\n",
              "      <th>LotFrontage</th>\n",
              "      <th>WoodDeckSF</th>\n",
              "      <th>2ndFlrSF</th>\n",
              "      <th>OpenPorchSF</th>\n",
              "      <th>HalfBath</th>\n",
              "      <th>LotArea</th>\n",
              "      <th>BsmtFullBath</th>\n",
              "      <th>BsmtUnfSF</th>\n",
              "      <th>MSZoning</th>\n",
              "      <th>Street</th>\n",
              "      <th>RoofStyle</th>\n",
              "      <th>RoofMatl</th>\n",
              "      <th>Exterior1st</th>\n",
              "      <th>ExterQual</th>\n",
              "      <th>Foundation</th>\n",
              "      <th>BsmtCond</th>\n",
              "      <th>Heating</th>\n",
              "      <th>CentralAir</th>\n",
              "      <th>KitchenQual</th>\n",
              "      <th>GarageType</th>\n",
              "      <th>GarageFinish</th>\n",
              "      <th>GarageQual</th>\n",
              "      <th>GarageCond</th>\n",
              "      <th>SaleType</th>\n",
              "      <th>SaleCondition</th>\n",
              "      <th>SalePrice</th>\n",
              "    </tr>\n",
              "  </thead>\n",
              "  <tbody>\n",
              "    <tr>\n",
              "      <th>0</th>\n",
              "      <td>7</td>\n",
              "      <td>1710</td>\n",
              "      <td>548</td>\n",
              "      <td>856</td>\n",
              "      <td>8</td>\n",
              "      <td>2003</td>\n",
              "      <td>196.0</td>\n",
              "      <td>0</td>\n",
              "      <td>706</td>\n",
              "      <td>65.0</td>\n",
              "      <td>0</td>\n",
              "      <td>854</td>\n",
              "      <td>61</td>\n",
              "      <td>1</td>\n",
              "      <td>8450</td>\n",
              "      <td>1</td>\n",
              "      <td>150</td>\n",
              "      <td>RL</td>\n",
              "      <td>Pave</td>\n",
              "      <td>Gable</td>\n",
              "      <td>CompShg</td>\n",
              "      <td>VinylSd</td>\n",
              "      <td>Gd</td>\n",
              "      <td>PConc</td>\n",
              "      <td>TA</td>\n",
              "      <td>GasA</td>\n",
              "      <td>Y</td>\n",
              "      <td>Gd</td>\n",
              "      <td>Attchd</td>\n",
              "      <td>RFn</td>\n",
              "      <td>TA</td>\n",
              "      <td>TA</td>\n",
              "      <td>WD</td>\n",
              "      <td>Normal</td>\n",
              "      <td>208500</td>\n",
              "    </tr>\n",
              "    <tr>\n",
              "      <th>1</th>\n",
              "      <td>6</td>\n",
              "      <td>1262</td>\n",
              "      <td>460</td>\n",
              "      <td>1262</td>\n",
              "      <td>6</td>\n",
              "      <td>1976</td>\n",
              "      <td>0.0</td>\n",
              "      <td>1</td>\n",
              "      <td>978</td>\n",
              "      <td>80.0</td>\n",
              "      <td>298</td>\n",
              "      <td>0</td>\n",
              "      <td>0</td>\n",
              "      <td>0</td>\n",
              "      <td>9600</td>\n",
              "      <td>0</td>\n",
              "      <td>284</td>\n",
              "      <td>RL</td>\n",
              "      <td>Pave</td>\n",
              "      <td>Gable</td>\n",
              "      <td>CompShg</td>\n",
              "      <td>MetalSd</td>\n",
              "      <td>TA</td>\n",
              "      <td>CBlock</td>\n",
              "      <td>TA</td>\n",
              "      <td>GasA</td>\n",
              "      <td>Y</td>\n",
              "      <td>TA</td>\n",
              "      <td>Attchd</td>\n",
              "      <td>RFn</td>\n",
              "      <td>TA</td>\n",
              "      <td>TA</td>\n",
              "      <td>WD</td>\n",
              "      <td>Normal</td>\n",
              "      <td>181500</td>\n",
              "    </tr>\n",
              "    <tr>\n",
              "      <th>2</th>\n",
              "      <td>7</td>\n",
              "      <td>1786</td>\n",
              "      <td>608</td>\n",
              "      <td>920</td>\n",
              "      <td>6</td>\n",
              "      <td>2001</td>\n",
              "      <td>162.0</td>\n",
              "      <td>1</td>\n",
              "      <td>486</td>\n",
              "      <td>68.0</td>\n",
              "      <td>0</td>\n",
              "      <td>866</td>\n",
              "      <td>42</td>\n",
              "      <td>1</td>\n",
              "      <td>11250</td>\n",
              "      <td>1</td>\n",
              "      <td>434</td>\n",
              "      <td>RL</td>\n",
              "      <td>Pave</td>\n",
              "      <td>Gable</td>\n",
              "      <td>CompShg</td>\n",
              "      <td>VinylSd</td>\n",
              "      <td>Gd</td>\n",
              "      <td>PConc</td>\n",
              "      <td>TA</td>\n",
              "      <td>GasA</td>\n",
              "      <td>Y</td>\n",
              "      <td>Gd</td>\n",
              "      <td>Attchd</td>\n",
              "      <td>RFn</td>\n",
              "      <td>TA</td>\n",
              "      <td>TA</td>\n",
              "      <td>WD</td>\n",
              "      <td>Normal</td>\n",
              "      <td>223500</td>\n",
              "    </tr>\n",
              "    <tr>\n",
              "      <th>3</th>\n",
              "      <td>7</td>\n",
              "      <td>1717</td>\n",
              "      <td>642</td>\n",
              "      <td>756</td>\n",
              "      <td>7</td>\n",
              "      <td>1915</td>\n",
              "      <td>0.0</td>\n",
              "      <td>1</td>\n",
              "      <td>216</td>\n",
              "      <td>60.0</td>\n",
              "      <td>0</td>\n",
              "      <td>756</td>\n",
              "      <td>35</td>\n",
              "      <td>0</td>\n",
              "      <td>9550</td>\n",
              "      <td>1</td>\n",
              "      <td>540</td>\n",
              "      <td>RL</td>\n",
              "      <td>Pave</td>\n",
              "      <td>Gable</td>\n",
              "      <td>CompShg</td>\n",
              "      <td>Wd Sdng</td>\n",
              "      <td>TA</td>\n",
              "      <td>BrkTil</td>\n",
              "      <td>Gd</td>\n",
              "      <td>GasA</td>\n",
              "      <td>Y</td>\n",
              "      <td>Gd</td>\n",
              "      <td>Detchd</td>\n",
              "      <td>Unf</td>\n",
              "      <td>TA</td>\n",
              "      <td>TA</td>\n",
              "      <td>WD</td>\n",
              "      <td>Abnorml</td>\n",
              "      <td>140000</td>\n",
              "    </tr>\n",
              "    <tr>\n",
              "      <th>4</th>\n",
              "      <td>8</td>\n",
              "      <td>2198</td>\n",
              "      <td>836</td>\n",
              "      <td>1145</td>\n",
              "      <td>9</td>\n",
              "      <td>2000</td>\n",
              "      <td>350.0</td>\n",
              "      <td>1</td>\n",
              "      <td>655</td>\n",
              "      <td>84.0</td>\n",
              "      <td>192</td>\n",
              "      <td>1053</td>\n",
              "      <td>84</td>\n",
              "      <td>1</td>\n",
              "      <td>14260</td>\n",
              "      <td>1</td>\n",
              "      <td>490</td>\n",
              "      <td>RL</td>\n",
              "      <td>Pave</td>\n",
              "      <td>Gable</td>\n",
              "      <td>CompShg</td>\n",
              "      <td>VinylSd</td>\n",
              "      <td>Gd</td>\n",
              "      <td>PConc</td>\n",
              "      <td>TA</td>\n",
              "      <td>GasA</td>\n",
              "      <td>Y</td>\n",
              "      <td>Gd</td>\n",
              "      <td>Attchd</td>\n",
              "      <td>RFn</td>\n",
              "      <td>TA</td>\n",
              "      <td>TA</td>\n",
              "      <td>WD</td>\n",
              "      <td>Normal</td>\n",
              "      <td>250000</td>\n",
              "    </tr>\n",
              "  </tbody>\n",
              "</table>\n",
              "</div>\n",
              "    <div class=\"colab-df-buttons\">\n",
              "\n",
              "  <div class=\"colab-df-container\">\n",
              "    <button class=\"colab-df-convert\" onclick=\"convertToInteractive('df-f7ae2fad-d652-48b1-bb68-7dcc0d343154')\"\n",
              "            title=\"Convert this dataframe to an interactive table.\"\n",
              "            style=\"display:none;\">\n",
              "\n",
              "  <svg xmlns=\"http://www.w3.org/2000/svg\" height=\"24px\" viewBox=\"0 -960 960 960\">\n",
              "    <path d=\"M120-120v-720h720v720H120Zm60-500h600v-160H180v160Zm220 220h160v-160H400v160Zm0 220h160v-160H400v160ZM180-400h160v-160H180v160Zm440 0h160v-160H620v160ZM180-180h160v-160H180v160Zm440 0h160v-160H620v160Z\"/>\n",
              "  </svg>\n",
              "    </button>\n",
              "\n",
              "  <style>\n",
              "    .colab-df-container {\n",
              "      display:flex;\n",
              "      gap: 12px;\n",
              "    }\n",
              "\n",
              "    .colab-df-convert {\n",
              "      background-color: #E8F0FE;\n",
              "      border: none;\n",
              "      border-radius: 50%;\n",
              "      cursor: pointer;\n",
              "      display: none;\n",
              "      fill: #1967D2;\n",
              "      height: 32px;\n",
              "      padding: 0 0 0 0;\n",
              "      width: 32px;\n",
              "    }\n",
              "\n",
              "    .colab-df-convert:hover {\n",
              "      background-color: #E2EBFA;\n",
              "      box-shadow: 0px 1px 2px rgba(60, 64, 67, 0.3), 0px 1px 3px 1px rgba(60, 64, 67, 0.15);\n",
              "      fill: #174EA6;\n",
              "    }\n",
              "\n",
              "    .colab-df-buttons div {\n",
              "      margin-bottom: 4px;\n",
              "    }\n",
              "\n",
              "    [theme=dark] .colab-df-convert {\n",
              "      background-color: #3B4455;\n",
              "      fill: #D2E3FC;\n",
              "    }\n",
              "\n",
              "    [theme=dark] .colab-df-convert:hover {\n",
              "      background-color: #434B5C;\n",
              "      box-shadow: 0px 1px 3px 1px rgba(0, 0, 0, 0.15);\n",
              "      filter: drop-shadow(0px 1px 2px rgba(0, 0, 0, 0.3));\n",
              "      fill: #FFFFFF;\n",
              "    }\n",
              "  </style>\n",
              "\n",
              "    <script>\n",
              "      const buttonEl =\n",
              "        document.querySelector('#df-f7ae2fad-d652-48b1-bb68-7dcc0d343154 button.colab-df-convert');\n",
              "      buttonEl.style.display =\n",
              "        google.colab.kernel.accessAllowed ? 'block' : 'none';\n",
              "\n",
              "      async function convertToInteractive(key) {\n",
              "        const element = document.querySelector('#df-f7ae2fad-d652-48b1-bb68-7dcc0d343154');\n",
              "        const dataTable =\n",
              "          await google.colab.kernel.invokeFunction('convertToInteractive',\n",
              "                                                    [key], {});\n",
              "        if (!dataTable) return;\n",
              "\n",
              "        const docLinkHtml = 'Like what you see? Visit the ' +\n",
              "          '<a target=\"_blank\" href=https://colab.research.google.com/notebooks/data_table.ipynb>data table notebook</a>'\n",
              "          + ' to learn more about interactive tables.';\n",
              "        element.innerHTML = '';\n",
              "        dataTable['output_type'] = 'display_data';\n",
              "        await google.colab.output.renderOutput(dataTable, element);\n",
              "        const docLink = document.createElement('div');\n",
              "        docLink.innerHTML = docLinkHtml;\n",
              "        element.appendChild(docLink);\n",
              "      }\n",
              "    </script>\n",
              "  </div>\n",
              "\n",
              "\n",
              "<div id=\"df-ea33f3c8-4d7a-4566-a075-b44f9e09039f\">\n",
              "  <button class=\"colab-df-quickchart\" onclick=\"quickchart('df-ea33f3c8-4d7a-4566-a075-b44f9e09039f')\"\n",
              "            title=\"Suggest charts.\"\n",
              "            style=\"display:none;\">\n",
              "\n",
              "<svg xmlns=\"http://www.w3.org/2000/svg\" height=\"24px\"viewBox=\"0 0 24 24\"\n",
              "     width=\"24px\">\n",
              "    <g>\n",
              "        <path d=\"M19 3H5c-1.1 0-2 .9-2 2v14c0 1.1.9 2 2 2h14c1.1 0 2-.9 2-2V5c0-1.1-.9-2-2-2zM9 17H7v-7h2v7zm4 0h-2V7h2v10zm4 0h-2v-4h2v4z\"/>\n",
              "    </g>\n",
              "</svg>\n",
              "  </button>\n",
              "\n",
              "<style>\n",
              "  .colab-df-quickchart {\n",
              "      --bg-color: #E8F0FE;\n",
              "      --fill-color: #1967D2;\n",
              "      --hover-bg-color: #E2EBFA;\n",
              "      --hover-fill-color: #174EA6;\n",
              "      --disabled-fill-color: #AAA;\n",
              "      --disabled-bg-color: #DDD;\n",
              "  }\n",
              "\n",
              "  [theme=dark] .colab-df-quickchart {\n",
              "      --bg-color: #3B4455;\n",
              "      --fill-color: #D2E3FC;\n",
              "      --hover-bg-color: #434B5C;\n",
              "      --hover-fill-color: #FFFFFF;\n",
              "      --disabled-bg-color: #3B4455;\n",
              "      --disabled-fill-color: #666;\n",
              "  }\n",
              "\n",
              "  .colab-df-quickchart {\n",
              "    background-color: var(--bg-color);\n",
              "    border: none;\n",
              "    border-radius: 50%;\n",
              "    cursor: pointer;\n",
              "    display: none;\n",
              "    fill: var(--fill-color);\n",
              "    height: 32px;\n",
              "    padding: 0;\n",
              "    width: 32px;\n",
              "  }\n",
              "\n",
              "  .colab-df-quickchart:hover {\n",
              "    background-color: var(--hover-bg-color);\n",
              "    box-shadow: 0 1px 2px rgba(60, 64, 67, 0.3), 0 1px 3px 1px rgba(60, 64, 67, 0.15);\n",
              "    fill: var(--button-hover-fill-color);\n",
              "  }\n",
              "\n",
              "  .colab-df-quickchart-complete:disabled,\n",
              "  .colab-df-quickchart-complete:disabled:hover {\n",
              "    background-color: var(--disabled-bg-color);\n",
              "    fill: var(--disabled-fill-color);\n",
              "    box-shadow: none;\n",
              "  }\n",
              "\n",
              "  .colab-df-spinner {\n",
              "    border: 2px solid var(--fill-color);\n",
              "    border-color: transparent;\n",
              "    border-bottom-color: var(--fill-color);\n",
              "    animation:\n",
              "      spin 1s steps(1) infinite;\n",
              "  }\n",
              "\n",
              "  @keyframes spin {\n",
              "    0% {\n",
              "      border-color: transparent;\n",
              "      border-bottom-color: var(--fill-color);\n",
              "      border-left-color: var(--fill-color);\n",
              "    }\n",
              "    20% {\n",
              "      border-color: transparent;\n",
              "      border-left-color: var(--fill-color);\n",
              "      border-top-color: var(--fill-color);\n",
              "    }\n",
              "    30% {\n",
              "      border-color: transparent;\n",
              "      border-left-color: var(--fill-color);\n",
              "      border-top-color: var(--fill-color);\n",
              "      border-right-color: var(--fill-color);\n",
              "    }\n",
              "    40% {\n",
              "      border-color: transparent;\n",
              "      border-right-color: var(--fill-color);\n",
              "      border-top-color: var(--fill-color);\n",
              "    }\n",
              "    60% {\n",
              "      border-color: transparent;\n",
              "      border-right-color: var(--fill-color);\n",
              "    }\n",
              "    80% {\n",
              "      border-color: transparent;\n",
              "      border-right-color: var(--fill-color);\n",
              "      border-bottom-color: var(--fill-color);\n",
              "    }\n",
              "    90% {\n",
              "      border-color: transparent;\n",
              "      border-bottom-color: var(--fill-color);\n",
              "    }\n",
              "  }\n",
              "</style>\n",
              "\n",
              "  <script>\n",
              "    async function quickchart(key) {\n",
              "      const quickchartButtonEl =\n",
              "        document.querySelector('#' + key + ' button');\n",
              "      quickchartButtonEl.disabled = true;  // To prevent multiple clicks.\n",
              "      quickchartButtonEl.classList.add('colab-df-spinner');\n",
              "      try {\n",
              "        const charts = await google.colab.kernel.invokeFunction(\n",
              "            'suggestCharts', [key], {});\n",
              "      } catch (error) {\n",
              "        console.error('Error during call to suggestCharts:', error);\n",
              "      }\n",
              "      quickchartButtonEl.classList.remove('colab-df-spinner');\n",
              "      quickchartButtonEl.classList.add('colab-df-quickchart-complete');\n",
              "    }\n",
              "    (() => {\n",
              "      let quickchartButtonEl =\n",
              "        document.querySelector('#df-ea33f3c8-4d7a-4566-a075-b44f9e09039f button');\n",
              "      quickchartButtonEl.style.display =\n",
              "        google.colab.kernel.accessAllowed ? 'block' : 'none';\n",
              "    })();\n",
              "  </script>\n",
              "</div>\n",
              "    </div>\n",
              "  </div>\n"
            ]
          },
          "metadata": {},
          "execution_count": 35
        }
      ]
    },
    {
      "cell_type": "markdown",
      "source": [
        "## **Preprocessing**"
      ],
      "metadata": {
        "id": "p8eJuMJpSoNA"
      }
    },
    {
      "cell_type": "code",
      "source": [
        "cat=[feature for feature in data.columns if data[feature].dtypes=='O']\n",
        "cat"
      ],
      "metadata": {
        "colab": {
          "base_uri": "https://localhost:8080/"
        },
        "id": "CNvrimEIurYv",
        "outputId": "bf524e7c-1bb1-4541-ce3b-e845292bdce1"
      },
      "execution_count": null,
      "outputs": [
        {
          "output_type": "execute_result",
          "data": {
            "text/plain": [
              "['MSZoning',\n",
              " 'Street',\n",
              " 'RoofStyle',\n",
              " 'RoofMatl',\n",
              " 'Exterior1st',\n",
              " 'ExterQual',\n",
              " 'Foundation',\n",
              " 'BsmtCond',\n",
              " 'Heating',\n",
              " 'CentralAir',\n",
              " 'KitchenQual',\n",
              " 'GarageType',\n",
              " 'GarageFinish',\n",
              " 'GarageQual',\n",
              " 'GarageCond',\n",
              " 'SaleType',\n",
              " 'SaleCondition']"
            ]
          },
          "metadata": {},
          "execution_count": 46
        }
      ]
    },
    {
      "cell_type": "code",
      "source": [
        "num =[feature for feature in data.columns if data[feature].dtypes != 'O']\n",
        "num"
      ],
      "metadata": {
        "colab": {
          "base_uri": "https://localhost:8080/"
        },
        "id": "skje0KeuJgDg",
        "outputId": "76258e09-94b3-42f5-e070-a167dd09bc9b"
      },
      "execution_count": null,
      "outputs": [
        {
          "output_type": "execute_result",
          "data": {
            "text/plain": [
              "['OverallQual',\n",
              " 'GrLivArea',\n",
              " 'GarageArea',\n",
              " 'TotalBsmtSF',\n",
              " 'TotRmsAbvGrd',\n",
              " 'YearBuilt',\n",
              " 'MasVnrArea',\n",
              " 'Fireplaces',\n",
              " 'BsmtFinSF1',\n",
              " 'LotFrontage',\n",
              " 'WoodDeckSF',\n",
              " '2ndFlrSF',\n",
              " 'OpenPorchSF',\n",
              " 'HalfBath',\n",
              " 'LotArea',\n",
              " 'BsmtFullBath',\n",
              " 'BsmtUnfSF',\n",
              " 'SalePrice']"
            ]
          },
          "metadata": {},
          "execution_count": 61
        }
      ]
    },
    {
      "cell_type": "markdown",
      "source": [
        "***Creating pipeline***"
      ],
      "metadata": {
        "id": "tpDpI0jnSGg1"
      }
    },
    {
      "cell_type": "code",
      "source": [
        "# split \"SiteEnergyUse\" et \"SiteEnergyUse\" into train test sets\n",
        "X= data.drop(columns=['SalePrice'], axis=1)\n",
        "y = data['SalePrice']\n",
        "\n",
        "X_train, X_test, y_train, y_test = train_test_split(X,y, test_size=0.2, random_state=34)\n",
        "\n",
        "# traitement des variables discrete\n",
        "numeric_features = ['OverallQual', 'GrLivArea', 'GarageArea', 'TotalBsmtSF', 'TotRmsAbvGrd', 'YearBuilt', 'MasVnrArea', 'Fireplaces',\n",
        " 'BsmtFinSF1', 'LotFrontage', 'WoodDeckSF', '2ndFlrSF', 'OpenPorchSF', 'HalfBath', 'LotArea', 'BsmtFullBath', 'BsmtUnfSF']\n",
        "numeric_transformer = Pipeline(steps=[('imputer', SimpleImputer(strategy='median')),\n",
        "                                      ('scaler', StandardScaler())])\n",
        "\n",
        "# traitement des variables continues : imputation par médiane + log + standardcaler\n",
        "numeric_log_features = ['LotFrontage','MasVnrArea','MasVnrArea']\n",
        "numeric_log_transformer = Pipeline(steps=[('imputer', SimpleImputer(strategy='median')),\n",
        "                                          ('log', FunctionTransformer()),\n",
        "                                          ('scaler', StandardScaler())])\n",
        "\n",
        "categorical_features = ['MSZoning', 'Street', 'RoofStyle', 'RoofMatl', 'Exterior1st', 'ExterQual', 'Foundation', 'BsmtCond',\n",
        " 'Heating', 'CentralAir', 'KitchenQual', 'GarageType', 'GarageFinish', 'GarageQual', 'GarageCond', 'SaleType', 'SaleCondition']\n",
        "categorical_transformer = Pipeline(steps=[('imputer', SimpleImputer(strategy='constant', fill_value='Other')),\n",
        "                                          ('onehot', OneHotEncoder(handle_unknown='ignore'))])\n",
        "\n",
        "\n",
        "# couche de preprocessing avec les deux parties ci-dessus appliquées aux données continues et catégorielles\n",
        "preprocessor = ColumnTransformer(transformers=[('num', numeric_transformer, numeric_features),\n",
        "                                               ('num_log', numeric_log_transformer, numeric_log_features),\n",
        "                                               ('cat', categorical_transformer, categorical_features)])\n",
        "from sklearn import set_config\n",
        "set_config(display='diagram')\n",
        "\n",
        "preprocessor.fit(X_train, y_train)"
      ],
      "metadata": {
        "colab": {
          "base_uri": "https://localhost:8080/",
          "height": 185
        },
        "id": "ypAIMUQQurdQ",
        "outputId": "0b64b98e-ce94-4de7-b556-b9bc917d9e93"
      },
      "execution_count": null,
      "outputs": [
        {
          "output_type": "execute_result",
          "data": {
            "text/plain": [
              "ColumnTransformer(transformers=[('num',\n",
              "                                 Pipeline(steps=[('imputer',\n",
              "                                                  SimpleImputer(strategy='median')),\n",
              "                                                 ('scaler', StandardScaler())]),\n",
              "                                 ['OverallQual', 'GrLivArea', 'GarageArea',\n",
              "                                  'TotalBsmtSF', 'TotRmsAbvGrd', 'YearBuilt',\n",
              "                                  'MasVnrArea', 'Fireplaces', 'BsmtFinSF1',\n",
              "                                  'LotFrontage', 'WoodDeckSF', '2ndFlrSF',\n",
              "                                  'OpenPorchSF', 'HalfBath', 'LotArea',\n",
              "                                  'BsmtFullBath', 'BsmtUnfSF']...\n",
              "                                ('cat',\n",
              "                                 Pipeline(steps=[('imputer',\n",
              "                                                  SimpleImputer(fill_value='Other',\n",
              "                                                                strategy='constant')),\n",
              "                                                 ('onehot',\n",
              "                                                  OneHotEncoder(handle_unknown='ignore'))]),\n",
              "                                 ['MSZoning', 'Street', 'RoofStyle', 'RoofMatl',\n",
              "                                  'Exterior1st', 'ExterQual', 'Foundation',\n",
              "                                  'BsmtCond', 'Heating', 'CentralAir',\n",
              "                                  'KitchenQual', 'GarageType', 'GarageFinish',\n",
              "                                  'GarageQual', 'GarageCond', 'SaleType',\n",
              "                                  'SaleCondition'])])"
            ],
            "text/html": [
              "<style>#sk-container-id-3 {color: black;background-color: white;}#sk-container-id-3 pre{padding: 0;}#sk-container-id-3 div.sk-toggleable {background-color: white;}#sk-container-id-3 label.sk-toggleable__label {cursor: pointer;display: block;width: 100%;margin-bottom: 0;padding: 0.3em;box-sizing: border-box;text-align: center;}#sk-container-id-3 label.sk-toggleable__label-arrow:before {content: \"▸\";float: left;margin-right: 0.25em;color: #696969;}#sk-container-id-3 label.sk-toggleable__label-arrow:hover:before {color: black;}#sk-container-id-3 div.sk-estimator:hover label.sk-toggleable__label-arrow:before {color: black;}#sk-container-id-3 div.sk-toggleable__content {max-height: 0;max-width: 0;overflow: hidden;text-align: left;background-color: #f0f8ff;}#sk-container-id-3 div.sk-toggleable__content pre {margin: 0.2em;color: black;border-radius: 0.25em;background-color: #f0f8ff;}#sk-container-id-3 input.sk-toggleable__control:checked~div.sk-toggleable__content {max-height: 200px;max-width: 100%;overflow: auto;}#sk-container-id-3 input.sk-toggleable__control:checked~label.sk-toggleable__label-arrow:before {content: \"▾\";}#sk-container-id-3 div.sk-estimator input.sk-toggleable__control:checked~label.sk-toggleable__label {background-color: #d4ebff;}#sk-container-id-3 div.sk-label input.sk-toggleable__control:checked~label.sk-toggleable__label {background-color: #d4ebff;}#sk-container-id-3 input.sk-hidden--visually {border: 0;clip: rect(1px 1px 1px 1px);clip: rect(1px, 1px, 1px, 1px);height: 1px;margin: -1px;overflow: hidden;padding: 0;position: absolute;width: 1px;}#sk-container-id-3 div.sk-estimator {font-family: monospace;background-color: #f0f8ff;border: 1px dotted black;border-radius: 0.25em;box-sizing: border-box;margin-bottom: 0.5em;}#sk-container-id-3 div.sk-estimator:hover {background-color: #d4ebff;}#sk-container-id-3 div.sk-parallel-item::after {content: \"\";width: 100%;border-bottom: 1px solid gray;flex-grow: 1;}#sk-container-id-3 div.sk-label:hover label.sk-toggleable__label {background-color: #d4ebff;}#sk-container-id-3 div.sk-serial::before {content: \"\";position: absolute;border-left: 1px solid gray;box-sizing: border-box;top: 0;bottom: 0;left: 50%;z-index: 0;}#sk-container-id-3 div.sk-serial {display: flex;flex-direction: column;align-items: center;background-color: white;padding-right: 0.2em;padding-left: 0.2em;position: relative;}#sk-container-id-3 div.sk-item {position: relative;z-index: 1;}#sk-container-id-3 div.sk-parallel {display: flex;align-items: stretch;justify-content: center;background-color: white;position: relative;}#sk-container-id-3 div.sk-item::before, #sk-container-id-3 div.sk-parallel-item::before {content: \"\";position: absolute;border-left: 1px solid gray;box-sizing: border-box;top: 0;bottom: 0;left: 50%;z-index: -1;}#sk-container-id-3 div.sk-parallel-item {display: flex;flex-direction: column;z-index: 1;position: relative;background-color: white;}#sk-container-id-3 div.sk-parallel-item:first-child::after {align-self: flex-end;width: 50%;}#sk-container-id-3 div.sk-parallel-item:last-child::after {align-self: flex-start;width: 50%;}#sk-container-id-3 div.sk-parallel-item:only-child::after {width: 0;}#sk-container-id-3 div.sk-dashed-wrapped {border: 1px dashed gray;margin: 0 0.4em 0.5em 0.4em;box-sizing: border-box;padding-bottom: 0.4em;background-color: white;}#sk-container-id-3 div.sk-label label {font-family: monospace;font-weight: bold;display: inline-block;line-height: 1.2em;}#sk-container-id-3 div.sk-label-container {text-align: center;}#sk-container-id-3 div.sk-container {/* jupyter's `normalize.less` sets `[hidden] { display: none; }` but bootstrap.min.css set `[hidden] { display: none !important; }` so we also need the `!important` here to be able to override the default hidden behavior on the sphinx rendered scikit-learn.org. See: https://github.com/scikit-learn/scikit-learn/issues/21755 */display: inline-block !important;position: relative;}#sk-container-id-3 div.sk-text-repr-fallback {display: none;}</style><div id=\"sk-container-id-3\" class=\"sk-top-container\"><div class=\"sk-text-repr-fallback\"><pre>ColumnTransformer(transformers=[(&#x27;num&#x27;,\n",
              "                                 Pipeline(steps=[(&#x27;imputer&#x27;,\n",
              "                                                  SimpleImputer(strategy=&#x27;median&#x27;)),\n",
              "                                                 (&#x27;scaler&#x27;, StandardScaler())]),\n",
              "                                 [&#x27;OverallQual&#x27;, &#x27;GrLivArea&#x27;, &#x27;GarageArea&#x27;,\n",
              "                                  &#x27;TotalBsmtSF&#x27;, &#x27;TotRmsAbvGrd&#x27;, &#x27;YearBuilt&#x27;,\n",
              "                                  &#x27;MasVnrArea&#x27;, &#x27;Fireplaces&#x27;, &#x27;BsmtFinSF1&#x27;,\n",
              "                                  &#x27;LotFrontage&#x27;, &#x27;WoodDeckSF&#x27;, &#x27;2ndFlrSF&#x27;,\n",
              "                                  &#x27;OpenPorchSF&#x27;, &#x27;HalfBath&#x27;, &#x27;LotArea&#x27;,\n",
              "                                  &#x27;BsmtFullBath&#x27;, &#x27;BsmtUnfSF&#x27;]...\n",
              "                                (&#x27;cat&#x27;,\n",
              "                                 Pipeline(steps=[(&#x27;imputer&#x27;,\n",
              "                                                  SimpleImputer(fill_value=&#x27;Other&#x27;,\n",
              "                                                                strategy=&#x27;constant&#x27;)),\n",
              "                                                 (&#x27;onehot&#x27;,\n",
              "                                                  OneHotEncoder(handle_unknown=&#x27;ignore&#x27;))]),\n",
              "                                 [&#x27;MSZoning&#x27;, &#x27;Street&#x27;, &#x27;RoofStyle&#x27;, &#x27;RoofMatl&#x27;,\n",
              "                                  &#x27;Exterior1st&#x27;, &#x27;ExterQual&#x27;, &#x27;Foundation&#x27;,\n",
              "                                  &#x27;BsmtCond&#x27;, &#x27;Heating&#x27;, &#x27;CentralAir&#x27;,\n",
              "                                  &#x27;KitchenQual&#x27;, &#x27;GarageType&#x27;, &#x27;GarageFinish&#x27;,\n",
              "                                  &#x27;GarageQual&#x27;, &#x27;GarageCond&#x27;, &#x27;SaleType&#x27;,\n",
              "                                  &#x27;SaleCondition&#x27;])])</pre><b>In a Jupyter environment, please rerun this cell to show the HTML representation or trust the notebook. <br />On GitHub, the HTML representation is unable to render, please try loading this page with nbviewer.org.</b></div><div class=\"sk-container\" hidden><div class=\"sk-item sk-dashed-wrapped\"><div class=\"sk-label-container\"><div class=\"sk-label sk-toggleable\"><input class=\"sk-toggleable__control sk-hidden--visually\" id=\"sk-estimator-id-13\" type=\"checkbox\" ><label for=\"sk-estimator-id-13\" class=\"sk-toggleable__label sk-toggleable__label-arrow\">ColumnTransformer</label><div class=\"sk-toggleable__content\"><pre>ColumnTransformer(transformers=[(&#x27;num&#x27;,\n",
              "                                 Pipeline(steps=[(&#x27;imputer&#x27;,\n",
              "                                                  SimpleImputer(strategy=&#x27;median&#x27;)),\n",
              "                                                 (&#x27;scaler&#x27;, StandardScaler())]),\n",
              "                                 [&#x27;OverallQual&#x27;, &#x27;GrLivArea&#x27;, &#x27;GarageArea&#x27;,\n",
              "                                  &#x27;TotalBsmtSF&#x27;, &#x27;TotRmsAbvGrd&#x27;, &#x27;YearBuilt&#x27;,\n",
              "                                  &#x27;MasVnrArea&#x27;, &#x27;Fireplaces&#x27;, &#x27;BsmtFinSF1&#x27;,\n",
              "                                  &#x27;LotFrontage&#x27;, &#x27;WoodDeckSF&#x27;, &#x27;2ndFlrSF&#x27;,\n",
              "                                  &#x27;OpenPorchSF&#x27;, &#x27;HalfBath&#x27;, &#x27;LotArea&#x27;,\n",
              "                                  &#x27;BsmtFullBath&#x27;, &#x27;BsmtUnfSF&#x27;]...\n",
              "                                (&#x27;cat&#x27;,\n",
              "                                 Pipeline(steps=[(&#x27;imputer&#x27;,\n",
              "                                                  SimpleImputer(fill_value=&#x27;Other&#x27;,\n",
              "                                                                strategy=&#x27;constant&#x27;)),\n",
              "                                                 (&#x27;onehot&#x27;,\n",
              "                                                  OneHotEncoder(handle_unknown=&#x27;ignore&#x27;))]),\n",
              "                                 [&#x27;MSZoning&#x27;, &#x27;Street&#x27;, &#x27;RoofStyle&#x27;, &#x27;RoofMatl&#x27;,\n",
              "                                  &#x27;Exterior1st&#x27;, &#x27;ExterQual&#x27;, &#x27;Foundation&#x27;,\n",
              "                                  &#x27;BsmtCond&#x27;, &#x27;Heating&#x27;, &#x27;CentralAir&#x27;,\n",
              "                                  &#x27;KitchenQual&#x27;, &#x27;GarageType&#x27;, &#x27;GarageFinish&#x27;,\n",
              "                                  &#x27;GarageQual&#x27;, &#x27;GarageCond&#x27;, &#x27;SaleType&#x27;,\n",
              "                                  &#x27;SaleCondition&#x27;])])</pre></div></div></div><div class=\"sk-parallel\"><div class=\"sk-parallel-item\"><div class=\"sk-item\"><div class=\"sk-label-container\"><div class=\"sk-label sk-toggleable\"><input class=\"sk-toggleable__control sk-hidden--visually\" id=\"sk-estimator-id-14\" type=\"checkbox\" ><label for=\"sk-estimator-id-14\" class=\"sk-toggleable__label sk-toggleable__label-arrow\">num</label><div class=\"sk-toggleable__content\"><pre>[&#x27;OverallQual&#x27;, &#x27;GrLivArea&#x27;, &#x27;GarageArea&#x27;, &#x27;TotalBsmtSF&#x27;, &#x27;TotRmsAbvGrd&#x27;, &#x27;YearBuilt&#x27;, &#x27;MasVnrArea&#x27;, &#x27;Fireplaces&#x27;, &#x27;BsmtFinSF1&#x27;, &#x27;LotFrontage&#x27;, &#x27;WoodDeckSF&#x27;, &#x27;2ndFlrSF&#x27;, &#x27;OpenPorchSF&#x27;, &#x27;HalfBath&#x27;, &#x27;LotArea&#x27;, &#x27;BsmtFullBath&#x27;, &#x27;BsmtUnfSF&#x27;]</pre></div></div></div><div class=\"sk-serial\"><div class=\"sk-item\"><div class=\"sk-serial\"><div class=\"sk-item\"><div class=\"sk-estimator sk-toggleable\"><input class=\"sk-toggleable__control sk-hidden--visually\" id=\"sk-estimator-id-15\" type=\"checkbox\" ><label for=\"sk-estimator-id-15\" class=\"sk-toggleable__label sk-toggleable__label-arrow\">SimpleImputer</label><div class=\"sk-toggleable__content\"><pre>SimpleImputer(strategy=&#x27;median&#x27;)</pre></div></div></div><div class=\"sk-item\"><div class=\"sk-estimator sk-toggleable\"><input class=\"sk-toggleable__control sk-hidden--visually\" id=\"sk-estimator-id-16\" type=\"checkbox\" ><label for=\"sk-estimator-id-16\" class=\"sk-toggleable__label sk-toggleable__label-arrow\">StandardScaler</label><div class=\"sk-toggleable__content\"><pre>StandardScaler()</pre></div></div></div></div></div></div></div></div><div class=\"sk-parallel-item\"><div class=\"sk-item\"><div class=\"sk-label-container\"><div class=\"sk-label sk-toggleable\"><input class=\"sk-toggleable__control sk-hidden--visually\" id=\"sk-estimator-id-17\" type=\"checkbox\" ><label for=\"sk-estimator-id-17\" class=\"sk-toggleable__label sk-toggleable__label-arrow\">num_log</label><div class=\"sk-toggleable__content\"><pre>[&#x27;LotFrontage&#x27;, &#x27;MasVnrArea&#x27;, &#x27;MasVnrArea&#x27;]</pre></div></div></div><div class=\"sk-serial\"><div class=\"sk-item\"><div class=\"sk-serial\"><div class=\"sk-item\"><div class=\"sk-estimator sk-toggleable\"><input class=\"sk-toggleable__control sk-hidden--visually\" id=\"sk-estimator-id-18\" type=\"checkbox\" ><label for=\"sk-estimator-id-18\" class=\"sk-toggleable__label sk-toggleable__label-arrow\">SimpleImputer</label><div class=\"sk-toggleable__content\"><pre>SimpleImputer(strategy=&#x27;median&#x27;)</pre></div></div></div><div class=\"sk-item\"><div class=\"sk-estimator sk-toggleable\"><input class=\"sk-toggleable__control sk-hidden--visually\" id=\"sk-estimator-id-19\" type=\"checkbox\" ><label for=\"sk-estimator-id-19\" class=\"sk-toggleable__label sk-toggleable__label-arrow\">FunctionTransformer</label><div class=\"sk-toggleable__content\"><pre>FunctionTransformer()</pre></div></div></div><div class=\"sk-item\"><div class=\"sk-estimator sk-toggleable\"><input class=\"sk-toggleable__control sk-hidden--visually\" id=\"sk-estimator-id-20\" type=\"checkbox\" ><label for=\"sk-estimator-id-20\" class=\"sk-toggleable__label sk-toggleable__label-arrow\">StandardScaler</label><div class=\"sk-toggleable__content\"><pre>StandardScaler()</pre></div></div></div></div></div></div></div></div><div class=\"sk-parallel-item\"><div class=\"sk-item\"><div class=\"sk-label-container\"><div class=\"sk-label sk-toggleable\"><input class=\"sk-toggleable__control sk-hidden--visually\" id=\"sk-estimator-id-21\" type=\"checkbox\" ><label for=\"sk-estimator-id-21\" class=\"sk-toggleable__label sk-toggleable__label-arrow\">cat</label><div class=\"sk-toggleable__content\"><pre>[&#x27;MSZoning&#x27;, &#x27;Street&#x27;, &#x27;RoofStyle&#x27;, &#x27;RoofMatl&#x27;, &#x27;Exterior1st&#x27;, &#x27;ExterQual&#x27;, &#x27;Foundation&#x27;, &#x27;BsmtCond&#x27;, &#x27;Heating&#x27;, &#x27;CentralAir&#x27;, &#x27;KitchenQual&#x27;, &#x27;GarageType&#x27;, &#x27;GarageFinish&#x27;, &#x27;GarageQual&#x27;, &#x27;GarageCond&#x27;, &#x27;SaleType&#x27;, &#x27;SaleCondition&#x27;]</pre></div></div></div><div class=\"sk-serial\"><div class=\"sk-item\"><div class=\"sk-serial\"><div class=\"sk-item\"><div class=\"sk-estimator sk-toggleable\"><input class=\"sk-toggleable__control sk-hidden--visually\" id=\"sk-estimator-id-22\" type=\"checkbox\" ><label for=\"sk-estimator-id-22\" class=\"sk-toggleable__label sk-toggleable__label-arrow\">SimpleImputer</label><div class=\"sk-toggleable__content\"><pre>SimpleImputer(fill_value=&#x27;Other&#x27;, strategy=&#x27;constant&#x27;)</pre></div></div></div><div class=\"sk-item\"><div class=\"sk-estimator sk-toggleable\"><input class=\"sk-toggleable__control sk-hidden--visually\" id=\"sk-estimator-id-23\" type=\"checkbox\" ><label for=\"sk-estimator-id-23\" class=\"sk-toggleable__label sk-toggleable__label-arrow\">OneHotEncoder</label><div class=\"sk-toggleable__content\"><pre>OneHotEncoder(handle_unknown=&#x27;ignore&#x27;)</pre></div></div></div></div></div></div></div></div></div></div></div></div>"
            ]
          },
          "metadata": {},
          "execution_count": 48
        }
      ]
    },
    {
      "cell_type": "code",
      "source": [
        "pip= Pipeline(steps=[('preprocessor', preprocessor)])\n",
        "pip['preprocessor'].transform(X_train)"
      ],
      "metadata": {
        "colab": {
          "base_uri": "https://localhost:8080/"
        },
        "id": "cI5fmtMoZcOa",
        "outputId": "8126eac4-19fe-421d-d0a0-24a289c15816"
      },
      "execution_count": null,
      "outputs": [
        {
          "output_type": "execute_result",
          "data": {
            "text/plain": [
              "array([[-1.49531617, -1.2801214 , -2.1102519 , ...,  0.        ,\n",
              "         1.        ,  0.        ],\n",
              "       [-0.78779082, -1.16416487, -0.92818424, ...,  0.        ,\n",
              "         1.        ,  0.        ],\n",
              "       [-1.49531617, -1.74001677, -2.1102519 , ...,  0.        ,\n",
              "         1.        ,  0.        ],\n",
              "       ...,\n",
              "       [ 0.62725986,  0.02881159, -0.18491442, ...,  0.        ,\n",
              "         1.        ,  0.        ],\n",
              "       [ 2.7498359 ,  1.53428106,  1.65982753, ...,  0.        ,\n",
              "         1.        ,  0.        ],\n",
              "       [ 1.33478521,  0.25679391,  0.04791709, ...,  0.        ,\n",
              "         1.        ,  0.        ]])"
            ]
          },
          "metadata": {},
          "execution_count": 55
        }
      ]
    },
    {
      "cell_type": "code",
      "source": [
        "pip= Pipeline(steps=[('preprocessor', preprocessor)])\n",
        "# pour s'assurer que ça marche, on voit bien que les données ont été transformées, donc le step du preprocessor marche\n",
        "pd.DataFrame.sparse.from_spmatrix(pip['preprocessor'].transform(X_train)).head(5)"
      ],
      "metadata": {
        "colab": {
          "base_uri": "https://localhost:8080/",
          "height": 331
        },
        "id": "azCpuyzaurhd",
        "outputId": "f1881b2a-c3d0-476c-e2e8-e5b141b39972"
      },
      "execution_count": null,
      "outputs": [
        {
          "output_type": "error",
          "ename": "AttributeError",
          "evalue": "ignored",
          "traceback": [
            "\u001b[0;31m---------------------------------------------------------------------------\u001b[0m",
            "\u001b[0;31mAttributeError\u001b[0m                            Traceback (most recent call last)",
            "\u001b[0;32m<ipython-input-56-694b94b1b6fa>\u001b[0m in \u001b[0;36m<cell line: 3>\u001b[0;34m()\u001b[0m\n\u001b[1;32m      1\u001b[0m \u001b[0mpip\u001b[0m\u001b[0;34m=\u001b[0m \u001b[0mPipeline\u001b[0m\u001b[0;34m(\u001b[0m\u001b[0msteps\u001b[0m\u001b[0;34m=\u001b[0m\u001b[0;34m[\u001b[0m\u001b[0;34m(\u001b[0m\u001b[0;34m'preprocessor'\u001b[0m\u001b[0;34m,\u001b[0m \u001b[0mpreprocessor\u001b[0m\u001b[0;34m)\u001b[0m\u001b[0;34m]\u001b[0m\u001b[0;34m)\u001b[0m\u001b[0;34m\u001b[0m\u001b[0;34m\u001b[0m\u001b[0m\n\u001b[1;32m      2\u001b[0m \u001b[0;31m# pour s'assurer que ça marche, on voit bien que les données ont été transformées, donc le step du preprocessor marche\u001b[0m\u001b[0;34m\u001b[0m\u001b[0;34m\u001b[0m\u001b[0m\n\u001b[0;32m----> 3\u001b[0;31m \u001b[0mpd\u001b[0m\u001b[0;34m.\u001b[0m\u001b[0mDataFrame\u001b[0m\u001b[0;34m.\u001b[0m\u001b[0msparse\u001b[0m\u001b[0;34m.\u001b[0m\u001b[0mfrom_spmatrix\u001b[0m\u001b[0;34m(\u001b[0m\u001b[0mpip\u001b[0m\u001b[0;34m[\u001b[0m\u001b[0;34m'preprocessor'\u001b[0m\u001b[0;34m]\u001b[0m\u001b[0;34m.\u001b[0m\u001b[0mtransform\u001b[0m\u001b[0;34m(\u001b[0m\u001b[0mX_train\u001b[0m\u001b[0;34m)\u001b[0m\u001b[0;34m)\u001b[0m\u001b[0;34m.\u001b[0m\u001b[0mhead\u001b[0m\u001b[0;34m(\u001b[0m\u001b[0;36m5\u001b[0m\u001b[0;34m)\u001b[0m\u001b[0;34m\u001b[0m\u001b[0;34m\u001b[0m\u001b[0m\n\u001b[0m",
            "\u001b[0;32m/usr/local/lib/python3.10/dist-packages/pandas/core/arrays/sparse/accessor.py\u001b[0m in \u001b[0;36mfrom_spmatrix\u001b[0;34m(cls, data, index, columns)\u001b[0m\n\u001b[1;32m    272\u001b[0m         \u001b[0;32mfrom\u001b[0m \u001b[0mpandas\u001b[0m \u001b[0;32mimport\u001b[0m \u001b[0mDataFrame\u001b[0m\u001b[0;34m\u001b[0m\u001b[0;34m\u001b[0m\u001b[0m\n\u001b[1;32m    273\u001b[0m \u001b[0;34m\u001b[0m\u001b[0m\n\u001b[0;32m--> 274\u001b[0;31m         \u001b[0mdata\u001b[0m \u001b[0;34m=\u001b[0m \u001b[0mdata\u001b[0m\u001b[0;34m.\u001b[0m\u001b[0mtocsc\u001b[0m\u001b[0;34m(\u001b[0m\u001b[0;34m)\u001b[0m\u001b[0;34m\u001b[0m\u001b[0;34m\u001b[0m\u001b[0m\n\u001b[0m\u001b[1;32m    275\u001b[0m         \u001b[0mindex\u001b[0m\u001b[0;34m,\u001b[0m \u001b[0mcolumns\u001b[0m \u001b[0;34m=\u001b[0m \u001b[0mcls\u001b[0m\u001b[0;34m.\u001b[0m\u001b[0m_prep_index\u001b[0m\u001b[0;34m(\u001b[0m\u001b[0mdata\u001b[0m\u001b[0;34m,\u001b[0m \u001b[0mindex\u001b[0m\u001b[0;34m,\u001b[0m \u001b[0mcolumns\u001b[0m\u001b[0;34m)\u001b[0m\u001b[0;34m\u001b[0m\u001b[0;34m\u001b[0m\u001b[0m\n\u001b[1;32m    276\u001b[0m         \u001b[0mn_rows\u001b[0m\u001b[0;34m,\u001b[0m \u001b[0mn_columns\u001b[0m \u001b[0;34m=\u001b[0m \u001b[0mdata\u001b[0m\u001b[0;34m.\u001b[0m\u001b[0mshape\u001b[0m\u001b[0;34m\u001b[0m\u001b[0;34m\u001b[0m\u001b[0m\n",
            "\u001b[0;31mAttributeError\u001b[0m: 'numpy.ndarray' object has no attribute 'tocsc'"
          ]
        }
      ]
    },
    {
      "cell_type": "code",
      "source": [
        "print(X_train.shape, y_train.shape)\n",
        "print(X_test.shape, y_test.shape)"
      ],
      "metadata": {
        "colab": {
          "base_uri": "https://localhost:8080/"
        },
        "id": "nlcvySokX3Dl",
        "outputId": "6a6f0dfc-d9cf-41de-86c5-95edbc275a9e"
      },
      "execution_count": null,
      "outputs": [
        {
          "output_type": "stream",
          "name": "stdout",
          "text": [
            "(952, 34) (952,)\n",
            "(239, 34) (239,)\n"
          ]
        }
      ]
    },
    {
      "cell_type": "code",
      "source": [
        "# RandomForestRegressor\n",
        "pipe_RFR = Pipeline(steps=[('preprocessor', preprocessor),\n",
        "                           ('model', TransformedTargetRegressor(RandomForestRegressor()))])\n",
        "\n",
        "param_RFR = {'preprocessor__num_log__log__func':[None,np.log1p],\n",
        "             'model__regressor__max_features' : ['sqrt', 'log2'],\n",
        "             'model__regressor__n_estimators':[100,250],\n",
        "             'model__regressor__max_depth':[5,10,15],\n",
        "             'model__regressor__min_samples_split': [2, 5, 10],\n",
        "             'model__regressor__bootstrap' : [True, False],\n",
        "             'model__regressor__min_samples_leaf': [1,2,5],\n",
        "             'model__regressor__n_jobs': [-1]}\n",
        "\n",
        "grid_RFR = GridSearchCV( pipe_RFR, param_RFR,cv=4, verbose=5)\n",
        "grid_RFR.fit(X_train, y_train)"
      ],
      "metadata": {
        "colab": {
          "base_uri": "https://localhost:8080/",
          "height": 1000
        },
        "id": "E4HxFyfoX3GI",
        "outputId": "dac07715-cc1b-4f17-8df3-938a88f5b322"
      },
      "execution_count": null,
      "outputs": [
        {
          "output_type": "stream",
          "name": "stdout",
          "text": [
            "[CV 4/4] END model__regressor__bootstrap=False, model__regressor__max_depth=15, model__regressor__max_features=log2, model__regressor__min_samples_leaf=2, model__regressor__min_samples_split=10, model__regressor__n_estimators=100, model__regressor__n_jobs=-1, preprocessor__num_log__log__func=None;, score=0.817 total time=   0.3s\n",
            "[CV 1/4] END model__regressor__bootstrap=False, model__regressor__max_depth=15, model__regressor__max_features=log2, model__regressor__min_samples_leaf=2, model__regressor__min_samples_split=10, model__regressor__n_estimators=100, model__regressor__n_jobs=-1, preprocessor__num_log__log__func=<ufunc 'log1p'>;, score=0.850 total time=   0.3s\n",
            "[CV 2/4] END model__regressor__bootstrap=False, model__regressor__max_depth=15, model__regressor__max_features=log2, model__regressor__min_samples_leaf=2, model__regressor__min_samples_split=10, model__regressor__n_estimators=100, model__regressor__n_jobs=-1, preprocessor__num_log__log__func=<ufunc 'log1p'>;, score=0.742 total time=   0.2s\n",
            "[CV 3/4] END model__regressor__bootstrap=False, model__regressor__max_depth=15, model__regressor__max_features=log2, model__regressor__min_samples_leaf=2, model__regressor__min_samples_split=10, model__regressor__n_estimators=100, model__regressor__n_jobs=-1, preprocessor__num_log__log__func=<ufunc 'log1p'>;, score=0.810 total time=   0.2s\n",
            "[CV 4/4] END model__regressor__bootstrap=False, model__regressor__max_depth=15, model__regressor__max_features=log2, model__regressor__min_samples_leaf=2, model__regressor__min_samples_split=10, model__regressor__n_estimators=100, model__regressor__n_jobs=-1, preprocessor__num_log__log__func=<ufunc 'log1p'>;, score=0.829 total time=   0.3s\n",
            "[CV 1/4] END model__regressor__bootstrap=False, model__regressor__max_depth=15, model__regressor__max_features=log2, model__regressor__min_samples_leaf=2, model__regressor__min_samples_split=10, model__regressor__n_estimators=250, model__regressor__n_jobs=-1, preprocessor__num_log__log__func=None;, score=0.851 total time=   0.5s\n",
            "[CV 2/4] END model__regressor__bootstrap=False, model__regressor__max_depth=15, model__regressor__max_features=log2, model__regressor__min_samples_leaf=2, model__regressor__min_samples_split=10, model__regressor__n_estimators=250, model__regressor__n_jobs=-1, preprocessor__num_log__log__func=None;, score=0.748 total time=   0.5s\n",
            "[CV 3/4] END model__regressor__bootstrap=False, model__regressor__max_depth=15, model__regressor__max_features=log2, model__regressor__min_samples_leaf=2, model__regressor__min_samples_split=10, model__regressor__n_estimators=250, model__regressor__n_jobs=-1, preprocessor__num_log__log__func=None;, score=0.815 total time=   0.7s\n",
            "[CV 4/4] END model__regressor__bootstrap=False, model__regressor__max_depth=15, model__regressor__max_features=log2, model__regressor__min_samples_leaf=2, model__regressor__min_samples_split=10, model__regressor__n_estimators=250, model__regressor__n_jobs=-1, preprocessor__num_log__log__func=None;, score=0.824 total time=   0.8s\n",
            "[CV 1/4] END model__regressor__bootstrap=False, model__regressor__max_depth=15, model__regressor__max_features=log2, model__regressor__min_samples_leaf=2, model__regressor__min_samples_split=10, model__regressor__n_estimators=250, model__regressor__n_jobs=-1, preprocessor__num_log__log__func=<ufunc 'log1p'>;, score=0.851 total time=   0.8s\n",
            "[CV 2/4] END model__regressor__bootstrap=False, model__regressor__max_depth=15, model__regressor__max_features=log2, model__regressor__min_samples_leaf=2, model__regressor__min_samples_split=10, model__regressor__n_estimators=250, model__regressor__n_jobs=-1, preprocessor__num_log__log__func=<ufunc 'log1p'>;, score=0.748 total time=   0.9s\n",
            "[CV 3/4] END model__regressor__bootstrap=False, model__regressor__max_depth=15, model__regressor__max_features=log2, model__regressor__min_samples_leaf=2, model__regressor__min_samples_split=10, model__regressor__n_estimators=250, model__regressor__n_jobs=-1, preprocessor__num_log__log__func=<ufunc 'log1p'>;, score=0.815 total time=   0.7s\n",
            "[CV 4/4] END model__regressor__bootstrap=False, model__regressor__max_depth=15, model__regressor__max_features=log2, model__regressor__min_samples_leaf=2, model__regressor__min_samples_split=10, model__regressor__n_estimators=250, model__regressor__n_jobs=-1, preprocessor__num_log__log__func=<ufunc 'log1p'>;, score=0.818 total time=   0.5s\n",
            "[CV 1/4] END model__regressor__bootstrap=False, model__regressor__max_depth=15, model__regressor__max_features=log2, model__regressor__min_samples_leaf=5, model__regressor__min_samples_split=2, model__regressor__n_estimators=100, model__regressor__n_jobs=-1, preprocessor__num_log__log__func=None;, score=0.836 total time=   0.2s\n",
            "[CV 2/4] END model__regressor__bootstrap=False, model__regressor__max_depth=15, model__regressor__max_features=log2, model__regressor__min_samples_leaf=5, model__regressor__min_samples_split=2, model__regressor__n_estimators=100, model__regressor__n_jobs=-1, preprocessor__num_log__log__func=None;, score=0.728 total time=   0.3s\n",
            "[CV 3/4] END model__regressor__bootstrap=False, model__regressor__max_depth=15, model__regressor__max_features=log2, model__regressor__min_samples_leaf=5, model__regressor__min_samples_split=2, model__regressor__n_estimators=100, model__regressor__n_jobs=-1, preprocessor__num_log__log__func=None;, score=0.817 total time=   0.2s\n",
            "[CV 4/4] END model__regressor__bootstrap=False, model__regressor__max_depth=15, model__regressor__max_features=log2, model__regressor__min_samples_leaf=5, model__regressor__min_samples_split=2, model__regressor__n_estimators=100, model__regressor__n_jobs=-1, preprocessor__num_log__log__func=None;, score=0.796 total time=   0.2s\n",
            "[CV 1/4] END model__regressor__bootstrap=False, model__regressor__max_depth=15, model__regressor__max_features=log2, model__regressor__min_samples_leaf=5, model__regressor__min_samples_split=2, model__regressor__n_estimators=100, model__regressor__n_jobs=-1, preprocessor__num_log__log__func=<ufunc 'log1p'>;, score=0.837 total time=   0.2s\n",
            "[CV 2/4] END model__regressor__bootstrap=False, model__regressor__max_depth=15, model__regressor__max_features=log2, model__regressor__min_samples_leaf=5, model__regressor__min_samples_split=2, model__regressor__n_estimators=100, model__regressor__n_jobs=-1, preprocessor__num_log__log__func=<ufunc 'log1p'>;, score=0.716 total time=   0.2s\n",
            "[CV 3/4] END model__regressor__bootstrap=False, model__regressor__max_depth=15, model__regressor__max_features=log2, model__regressor__min_samples_leaf=5, model__regressor__min_samples_split=2, model__regressor__n_estimators=100, model__regressor__n_jobs=-1, preprocessor__num_log__log__func=<ufunc 'log1p'>;, score=0.817 total time=   0.2s\n",
            "[CV 4/4] END model__regressor__bootstrap=False, model__regressor__max_depth=15, model__regressor__max_features=log2, model__regressor__min_samples_leaf=5, model__regressor__min_samples_split=2, model__regressor__n_estimators=100, model__regressor__n_jobs=-1, preprocessor__num_log__log__func=<ufunc 'log1p'>;, score=0.805 total time=   0.2s\n",
            "[CV 1/4] END model__regressor__bootstrap=False, model__regressor__max_depth=15, model__regressor__max_features=log2, model__regressor__min_samples_leaf=5, model__regressor__min_samples_split=2, model__regressor__n_estimators=250, model__regressor__n_jobs=-1, preprocessor__num_log__log__func=None;, score=0.833 total time=   0.5s\n",
            "[CV 2/4] END model__regressor__bootstrap=False, model__regressor__max_depth=15, model__regressor__max_features=log2, model__regressor__min_samples_leaf=5, model__regressor__min_samples_split=2, model__regressor__n_estimators=250, model__regressor__n_jobs=-1, preprocessor__num_log__log__func=None;, score=0.731 total time=   0.5s\n",
            "[CV 3/4] END model__regressor__bootstrap=False, model__regressor__max_depth=15, model__regressor__max_features=log2, model__regressor__min_samples_leaf=5, model__regressor__min_samples_split=2, model__regressor__n_estimators=250, model__regressor__n_jobs=-1, preprocessor__num_log__log__func=None;, score=0.821 total time=   0.5s\n",
            "[CV 4/4] END model__regressor__bootstrap=False, model__regressor__max_depth=15, model__regressor__max_features=log2, model__regressor__min_samples_leaf=5, model__regressor__min_samples_split=2, model__regressor__n_estimators=250, model__regressor__n_jobs=-1, preprocessor__num_log__log__func=None;, score=0.800 total time=   0.5s\n",
            "[CV 1/4] END model__regressor__bootstrap=False, model__regressor__max_depth=15, model__regressor__max_features=log2, model__regressor__min_samples_leaf=5, model__regressor__min_samples_split=2, model__regressor__n_estimators=250, model__regressor__n_jobs=-1, preprocessor__num_log__log__func=<ufunc 'log1p'>;, score=0.836 total time=   0.5s\n",
            "[CV 2/4] END model__regressor__bootstrap=False, model__regressor__max_depth=15, model__regressor__max_features=log2, model__regressor__min_samples_leaf=5, model__regressor__min_samples_split=2, model__regressor__n_estimators=250, model__regressor__n_jobs=-1, preprocessor__num_log__log__func=<ufunc 'log1p'>;, score=0.724 total time=   0.5s\n",
            "[CV 3/4] END model__regressor__bootstrap=False, model__regressor__max_depth=15, model__regressor__max_features=log2, model__regressor__min_samples_leaf=5, model__regressor__min_samples_split=2, model__regressor__n_estimators=250, model__regressor__n_jobs=-1, preprocessor__num_log__log__func=<ufunc 'log1p'>;, score=0.822 total time=   0.5s\n",
            "[CV 4/4] END model__regressor__bootstrap=False, model__regressor__max_depth=15, model__regressor__max_features=log2, model__regressor__min_samples_leaf=5, model__regressor__min_samples_split=2, model__regressor__n_estimators=250, model__regressor__n_jobs=-1, preprocessor__num_log__log__func=<ufunc 'log1p'>;, score=0.799 total time=   0.5s\n",
            "[CV 1/4] END model__regressor__bootstrap=False, model__regressor__max_depth=15, model__regressor__max_features=log2, model__regressor__min_samples_leaf=5, model__regressor__min_samples_split=5, model__regressor__n_estimators=100, model__regressor__n_jobs=-1, preprocessor__num_log__log__func=None;, score=0.831 total time=   0.2s\n",
            "[CV 2/4] END model__regressor__bootstrap=False, model__regressor__max_depth=15, model__regressor__max_features=log2, model__regressor__min_samples_leaf=5, model__regressor__min_samples_split=5, model__regressor__n_estimators=100, model__regressor__n_jobs=-1, preprocessor__num_log__log__func=None;, score=0.728 total time=   0.3s\n",
            "[CV 3/4] END model__regressor__bootstrap=False, model__regressor__max_depth=15, model__regressor__max_features=log2, model__regressor__min_samples_leaf=5, model__regressor__min_samples_split=5, model__regressor__n_estimators=100, model__regressor__n_jobs=-1, preprocessor__num_log__log__func=None;, score=0.823 total time=   0.2s\n",
            "[CV 4/4] END model__regressor__bootstrap=False, model__regressor__max_depth=15, model__regressor__max_features=log2, model__regressor__min_samples_leaf=5, model__regressor__min_samples_split=5, model__regressor__n_estimators=100, model__regressor__n_jobs=-1, preprocessor__num_log__log__func=None;, score=0.803 total time=   0.3s\n",
            "[CV 1/4] END model__regressor__bootstrap=False, model__regressor__max_depth=15, model__regressor__max_features=log2, model__regressor__min_samples_leaf=5, model__regressor__min_samples_split=5, model__regressor__n_estimators=100, model__regressor__n_jobs=-1, preprocessor__num_log__log__func=<ufunc 'log1p'>;, score=0.830 total time=   0.2s\n",
            "[CV 2/4] END model__regressor__bootstrap=False, model__regressor__max_depth=15, model__regressor__max_features=log2, model__regressor__min_samples_leaf=5, model__regressor__min_samples_split=5, model__regressor__n_estimators=100, model__regressor__n_jobs=-1, preprocessor__num_log__log__func=<ufunc 'log1p'>;, score=0.726 total time=   0.2s\n",
            "[CV 3/4] END model__regressor__bootstrap=False, model__regressor__max_depth=15, model__regressor__max_features=log2, model__regressor__min_samples_leaf=5, model__regressor__min_samples_split=5, model__regressor__n_estimators=100, model__regressor__n_jobs=-1, preprocessor__num_log__log__func=<ufunc 'log1p'>;, score=0.826 total time=   0.2s\n",
            "[CV 4/4] END model__regressor__bootstrap=False, model__regressor__max_depth=15, model__regressor__max_features=log2, model__regressor__min_samples_leaf=5, model__regressor__min_samples_split=5, model__regressor__n_estimators=100, model__regressor__n_jobs=-1, preprocessor__num_log__log__func=<ufunc 'log1p'>;, score=0.803 total time=   0.2s\n",
            "[CV 1/4] END model__regressor__bootstrap=False, model__regressor__max_depth=15, model__regressor__max_features=log2, model__regressor__min_samples_leaf=5, model__regressor__min_samples_split=5, model__regressor__n_estimators=250, model__regressor__n_jobs=-1, preprocessor__num_log__log__func=None;, score=0.834 total time=   0.5s\n",
            "[CV 2/4] END model__regressor__bootstrap=False, model__regressor__max_depth=15, model__regressor__max_features=log2, model__regressor__min_samples_leaf=5, model__regressor__min_samples_split=5, model__regressor__n_estimators=250, model__regressor__n_jobs=-1, preprocessor__num_log__log__func=None;, score=0.732 total time=   0.5s\n",
            "[CV 3/4] END model__regressor__bootstrap=False, model__regressor__max_depth=15, model__regressor__max_features=log2, model__regressor__min_samples_leaf=5, model__regressor__min_samples_split=5, model__regressor__n_estimators=250, model__regressor__n_jobs=-1, preprocessor__num_log__log__func=None;, score=0.821 total time=   0.6s\n",
            "[CV 4/4] END model__regressor__bootstrap=False, model__regressor__max_depth=15, model__regressor__max_features=log2, model__regressor__min_samples_leaf=5, model__regressor__min_samples_split=5, model__regressor__n_estimators=250, model__regressor__n_jobs=-1, preprocessor__num_log__log__func=None;, score=0.802 total time=   0.8s\n",
            "[CV 1/4] END model__regressor__bootstrap=False, model__regressor__max_depth=15, model__regressor__max_features=log2, model__regressor__min_samples_leaf=5, model__regressor__min_samples_split=5, model__regressor__n_estimators=250, model__regressor__n_jobs=-1, preprocessor__num_log__log__func=<ufunc 'log1p'>;, score=0.830 total time=   0.8s\n",
            "[CV 2/4] END model__regressor__bootstrap=False, model__regressor__max_depth=15, model__regressor__max_features=log2, model__regressor__min_samples_leaf=5, model__regressor__min_samples_split=5, model__regressor__n_estimators=250, model__regressor__n_jobs=-1, preprocessor__num_log__log__func=<ufunc 'log1p'>;, score=0.730 total time=   0.8s\n",
            "[CV 3/4] END model__regressor__bootstrap=False, model__regressor__max_depth=15, model__regressor__max_features=log2, model__regressor__min_samples_leaf=5, model__regressor__min_samples_split=5, model__regressor__n_estimators=250, model__regressor__n_jobs=-1, preprocessor__num_log__log__func=<ufunc 'log1p'>;, score=0.822 total time=   0.7s\n",
            "[CV 4/4] END model__regressor__bootstrap=False, model__regressor__max_depth=15, model__regressor__max_features=log2, model__regressor__min_samples_leaf=5, model__regressor__min_samples_split=5, model__regressor__n_estimators=250, model__regressor__n_jobs=-1, preprocessor__num_log__log__func=<ufunc 'log1p'>;, score=0.804 total time=   0.5s\n",
            "[CV 1/4] END model__regressor__bootstrap=False, model__regressor__max_depth=15, model__regressor__max_features=log2, model__regressor__min_samples_leaf=5, model__regressor__min_samples_split=10, model__regressor__n_estimators=100, model__regressor__n_jobs=-1, preprocessor__num_log__log__func=None;, score=0.830 total time=   0.2s\n",
            "[CV 2/4] END model__regressor__bootstrap=False, model__regressor__max_depth=15, model__regressor__max_features=log2, model__regressor__min_samples_leaf=5, model__regressor__min_samples_split=10, model__regressor__n_estimators=100, model__regressor__n_jobs=-1, preprocessor__num_log__log__func=None;, score=0.732 total time=   0.2s\n",
            "[CV 3/4] END model__regressor__bootstrap=False, model__regressor__max_depth=15, model__regressor__max_features=log2, model__regressor__min_samples_leaf=5, model__regressor__min_samples_split=10, model__regressor__n_estimators=100, model__regressor__n_jobs=-1, preprocessor__num_log__log__func=None;, score=0.822 total time=   0.2s\n",
            "[CV 4/4] END model__regressor__bootstrap=False, model__regressor__max_depth=15, model__regressor__max_features=log2, model__regressor__min_samples_leaf=5, model__regressor__min_samples_split=10, model__regressor__n_estimators=100, model__regressor__n_jobs=-1, preprocessor__num_log__log__func=None;, score=0.804 total time=   0.2s\n",
            "[CV 1/4] END model__regressor__bootstrap=False, model__regressor__max_depth=15, model__regressor__max_features=log2, model__regressor__min_samples_leaf=5, model__regressor__min_samples_split=10, model__regressor__n_estimators=100, model__regressor__n_jobs=-1, preprocessor__num_log__log__func=<ufunc 'log1p'>;, score=0.842 total time=   0.2s\n",
            "[CV 2/4] END model__regressor__bootstrap=False, model__regressor__max_depth=15, model__regressor__max_features=log2, model__regressor__min_samples_leaf=5, model__regressor__min_samples_split=10, model__regressor__n_estimators=100, model__regressor__n_jobs=-1, preprocessor__num_log__log__func=<ufunc 'log1p'>;, score=0.733 total time=   0.2s\n",
            "[CV 3/4] END model__regressor__bootstrap=False, model__regressor__max_depth=15, model__regressor__max_features=log2, model__regressor__min_samples_leaf=5, model__regressor__min_samples_split=10, model__regressor__n_estimators=100, model__regressor__n_jobs=-1, preprocessor__num_log__log__func=<ufunc 'log1p'>;, score=0.818 total time=   0.2s\n",
            "[CV 4/4] END model__regressor__bootstrap=False, model__regressor__max_depth=15, model__regressor__max_features=log2, model__regressor__min_samples_leaf=5, model__regressor__min_samples_split=10, model__regressor__n_estimators=100, model__regressor__n_jobs=-1, preprocessor__num_log__log__func=<ufunc 'log1p'>;, score=0.807 total time=   0.2s\n",
            "[CV 1/4] END model__regressor__bootstrap=False, model__regressor__max_depth=15, model__regressor__max_features=log2, model__regressor__min_samples_leaf=5, model__regressor__min_samples_split=10, model__regressor__n_estimators=250, model__regressor__n_jobs=-1, preprocessor__num_log__log__func=None;, score=0.834 total time=   0.5s\n",
            "[CV 2/4] END model__regressor__bootstrap=False, model__regressor__max_depth=15, model__regressor__max_features=log2, model__regressor__min_samples_leaf=5, model__regressor__min_samples_split=10, model__regressor__n_estimators=250, model__regressor__n_jobs=-1, preprocessor__num_log__log__func=None;, score=0.722 total time=   0.5s\n",
            "[CV 3/4] END model__regressor__bootstrap=False, model__regressor__max_depth=15, model__regressor__max_features=log2, model__regressor__min_samples_leaf=5, model__regressor__min_samples_split=10, model__regressor__n_estimators=250, model__regressor__n_jobs=-1, preprocessor__num_log__log__func=None;, score=0.825 total time=   0.5s\n",
            "[CV 4/4] END model__regressor__bootstrap=False, model__regressor__max_depth=15, model__regressor__max_features=log2, model__regressor__min_samples_leaf=5, model__regressor__min_samples_split=10, model__regressor__n_estimators=250, model__regressor__n_jobs=-1, preprocessor__num_log__log__func=None;, score=0.806 total time=   0.5s\n",
            "[CV 1/4] END model__regressor__bootstrap=False, model__regressor__max_depth=15, model__regressor__max_features=log2, model__regressor__min_samples_leaf=5, model__regressor__min_samples_split=10, model__regressor__n_estimators=250, model__regressor__n_jobs=-1, preprocessor__num_log__log__func=<ufunc 'log1p'>;, score=0.830 total time=   0.5s\n",
            "[CV 2/4] END model__regressor__bootstrap=False, model__regressor__max_depth=15, model__regressor__max_features=log2, model__regressor__min_samples_leaf=5, model__regressor__min_samples_split=10, model__regressor__n_estimators=250, model__regressor__n_jobs=-1, preprocessor__num_log__log__func=<ufunc 'log1p'>;, score=0.726 total time=   0.5s\n",
            "[CV 3/4] END model__regressor__bootstrap=False, model__regressor__max_depth=15, model__regressor__max_features=log2, model__regressor__min_samples_leaf=5, model__regressor__min_samples_split=10, model__regressor__n_estimators=250, model__regressor__n_jobs=-1, preprocessor__num_log__log__func=<ufunc 'log1p'>;, score=0.823 total time=   0.5s\n",
            "[CV 4/4] END model__regressor__bootstrap=False, model__regressor__max_depth=15, model__regressor__max_features=log2, model__regressor__min_samples_leaf=5, model__regressor__min_samples_split=10, model__regressor__n_estimators=250, model__regressor__n_jobs=-1, preprocessor__num_log__log__func=<ufunc 'log1p'>;, score=0.802 total time=   0.5s\n"
          ]
        },
        {
          "output_type": "execute_result",
          "data": {
            "text/plain": [
              "GridSearchCV(cv=4,\n",
              "             estimator=Pipeline(steps=[('preprocessor',\n",
              "                                        ColumnTransformer(transformers=[('num',\n",
              "                                                                         Pipeline(steps=[('imputer',\n",
              "                                                                                          SimpleImputer(strategy='median')),\n",
              "                                                                                         ('scaler',\n",
              "                                                                                          StandardScaler())]),\n",
              "                                                                         ['OverallQual',\n",
              "                                                                          'GrLivArea',\n",
              "                                                                          'GarageArea',\n",
              "                                                                          'TotalBsmtSF',\n",
              "                                                                          'TotRmsAbvGrd',\n",
              "                                                                          'YearBuilt',\n",
              "                                                                          'MasVnrArea',\n",
              "                                                                          'Fireplaces',\n",
              "                                                                          'BsmtFinSF1',\n",
              "                                                                          'LotFrontage',\n",
              "                                                                          'WoodDeckSF',\n",
              "                                                                          '2ndFlrSF',\n",
              "                                                                          'O...\n",
              "             param_grid={'model__regressor__bootstrap': [True, False],\n",
              "                         'model__regressor__max_depth': [5, 10, 15],\n",
              "                         'model__regressor__max_features': ['sqrt', 'log2'],\n",
              "                         'model__regressor__min_samples_leaf': [1, 2, 5],\n",
              "                         'model__regressor__min_samples_split': [2, 5, 10],\n",
              "                         'model__regressor__n_estimators': [100, 250],\n",
              "                         'model__regressor__n_jobs': [-1],\n",
              "                         'preprocessor__num_log__log__func': [None,\n",
              "                                                              <ufunc 'log1p'>]},\n",
              "             verbose=5)"
            ],
            "text/html": [
              "<style>#sk-container-id-5 {color: black;background-color: white;}#sk-container-id-5 pre{padding: 0;}#sk-container-id-5 div.sk-toggleable {background-color: white;}#sk-container-id-5 label.sk-toggleable__label {cursor: pointer;display: block;width: 100%;margin-bottom: 0;padding: 0.3em;box-sizing: border-box;text-align: center;}#sk-container-id-5 label.sk-toggleable__label-arrow:before {content: \"▸\";float: left;margin-right: 0.25em;color: #696969;}#sk-container-id-5 label.sk-toggleable__label-arrow:hover:before {color: black;}#sk-container-id-5 div.sk-estimator:hover label.sk-toggleable__label-arrow:before {color: black;}#sk-container-id-5 div.sk-toggleable__content {max-height: 0;max-width: 0;overflow: hidden;text-align: left;background-color: #f0f8ff;}#sk-container-id-5 div.sk-toggleable__content pre {margin: 0.2em;color: black;border-radius: 0.25em;background-color: #f0f8ff;}#sk-container-id-5 input.sk-toggleable__control:checked~div.sk-toggleable__content {max-height: 200px;max-width: 100%;overflow: auto;}#sk-container-id-5 input.sk-toggleable__control:checked~label.sk-toggleable__label-arrow:before {content: \"▾\";}#sk-container-id-5 div.sk-estimator input.sk-toggleable__control:checked~label.sk-toggleable__label {background-color: #d4ebff;}#sk-container-id-5 div.sk-label input.sk-toggleable__control:checked~label.sk-toggleable__label {background-color: #d4ebff;}#sk-container-id-5 input.sk-hidden--visually {border: 0;clip: rect(1px 1px 1px 1px);clip: rect(1px, 1px, 1px, 1px);height: 1px;margin: -1px;overflow: hidden;padding: 0;position: absolute;width: 1px;}#sk-container-id-5 div.sk-estimator {font-family: monospace;background-color: #f0f8ff;border: 1px dotted black;border-radius: 0.25em;box-sizing: border-box;margin-bottom: 0.5em;}#sk-container-id-5 div.sk-estimator:hover {background-color: #d4ebff;}#sk-container-id-5 div.sk-parallel-item::after {content: \"\";width: 100%;border-bottom: 1px solid gray;flex-grow: 1;}#sk-container-id-5 div.sk-label:hover label.sk-toggleable__label {background-color: #d4ebff;}#sk-container-id-5 div.sk-serial::before {content: \"\";position: absolute;border-left: 1px solid gray;box-sizing: border-box;top: 0;bottom: 0;left: 50%;z-index: 0;}#sk-container-id-5 div.sk-serial {display: flex;flex-direction: column;align-items: center;background-color: white;padding-right: 0.2em;padding-left: 0.2em;position: relative;}#sk-container-id-5 div.sk-item {position: relative;z-index: 1;}#sk-container-id-5 div.sk-parallel {display: flex;align-items: stretch;justify-content: center;background-color: white;position: relative;}#sk-container-id-5 div.sk-item::before, #sk-container-id-5 div.sk-parallel-item::before {content: \"\";position: absolute;border-left: 1px solid gray;box-sizing: border-box;top: 0;bottom: 0;left: 50%;z-index: -1;}#sk-container-id-5 div.sk-parallel-item {display: flex;flex-direction: column;z-index: 1;position: relative;background-color: white;}#sk-container-id-5 div.sk-parallel-item:first-child::after {align-self: flex-end;width: 50%;}#sk-container-id-5 div.sk-parallel-item:last-child::after {align-self: flex-start;width: 50%;}#sk-container-id-5 div.sk-parallel-item:only-child::after {width: 0;}#sk-container-id-5 div.sk-dashed-wrapped {border: 1px dashed gray;margin: 0 0.4em 0.5em 0.4em;box-sizing: border-box;padding-bottom: 0.4em;background-color: white;}#sk-container-id-5 div.sk-label label {font-family: monospace;font-weight: bold;display: inline-block;line-height: 1.2em;}#sk-container-id-5 div.sk-label-container {text-align: center;}#sk-container-id-5 div.sk-container {/* jupyter's `normalize.less` sets `[hidden] { display: none; }` but bootstrap.min.css set `[hidden] { display: none !important; }` so we also need the `!important` here to be able to override the default hidden behavior on the sphinx rendered scikit-learn.org. See: https://github.com/scikit-learn/scikit-learn/issues/21755 */display: inline-block !important;position: relative;}#sk-container-id-5 div.sk-text-repr-fallback {display: none;}</style><div id=\"sk-container-id-5\" class=\"sk-top-container\"><div class=\"sk-text-repr-fallback\"><pre>GridSearchCV(cv=4,\n",
              "             estimator=Pipeline(steps=[(&#x27;preprocessor&#x27;,\n",
              "                                        ColumnTransformer(transformers=[(&#x27;num&#x27;,\n",
              "                                                                         Pipeline(steps=[(&#x27;imputer&#x27;,\n",
              "                                                                                          SimpleImputer(strategy=&#x27;median&#x27;)),\n",
              "                                                                                         (&#x27;scaler&#x27;,\n",
              "                                                                                          StandardScaler())]),\n",
              "                                                                         [&#x27;OverallQual&#x27;,\n",
              "                                                                          &#x27;GrLivArea&#x27;,\n",
              "                                                                          &#x27;GarageArea&#x27;,\n",
              "                                                                          &#x27;TotalBsmtSF&#x27;,\n",
              "                                                                          &#x27;TotRmsAbvGrd&#x27;,\n",
              "                                                                          &#x27;YearBuilt&#x27;,\n",
              "                                                                          &#x27;MasVnrArea&#x27;,\n",
              "                                                                          &#x27;Fireplaces&#x27;,\n",
              "                                                                          &#x27;BsmtFinSF1&#x27;,\n",
              "                                                                          &#x27;LotFrontage&#x27;,\n",
              "                                                                          &#x27;WoodDeckSF&#x27;,\n",
              "                                                                          &#x27;2ndFlrSF&#x27;,\n",
              "                                                                          &#x27;O...\n",
              "             param_grid={&#x27;model__regressor__bootstrap&#x27;: [True, False],\n",
              "                         &#x27;model__regressor__max_depth&#x27;: [5, 10, 15],\n",
              "                         &#x27;model__regressor__max_features&#x27;: [&#x27;sqrt&#x27;, &#x27;log2&#x27;],\n",
              "                         &#x27;model__regressor__min_samples_leaf&#x27;: [1, 2, 5],\n",
              "                         &#x27;model__regressor__min_samples_split&#x27;: [2, 5, 10],\n",
              "                         &#x27;model__regressor__n_estimators&#x27;: [100, 250],\n",
              "                         &#x27;model__regressor__n_jobs&#x27;: [-1],\n",
              "                         &#x27;preprocessor__num_log__log__func&#x27;: [None,\n",
              "                                                              &lt;ufunc &#x27;log1p&#x27;&gt;]},\n",
              "             verbose=5)</pre><b>In a Jupyter environment, please rerun this cell to show the HTML representation or trust the notebook. <br />On GitHub, the HTML representation is unable to render, please try loading this page with nbviewer.org.</b></div><div class=\"sk-container\" hidden><div class=\"sk-item sk-dashed-wrapped\"><div class=\"sk-label-container\"><div class=\"sk-label sk-toggleable\"><input class=\"sk-toggleable__control sk-hidden--visually\" id=\"sk-estimator-id-36\" type=\"checkbox\" ><label for=\"sk-estimator-id-36\" class=\"sk-toggleable__label sk-toggleable__label-arrow\">GridSearchCV</label><div class=\"sk-toggleable__content\"><pre>GridSearchCV(cv=4,\n",
              "             estimator=Pipeline(steps=[(&#x27;preprocessor&#x27;,\n",
              "                                        ColumnTransformer(transformers=[(&#x27;num&#x27;,\n",
              "                                                                         Pipeline(steps=[(&#x27;imputer&#x27;,\n",
              "                                                                                          SimpleImputer(strategy=&#x27;median&#x27;)),\n",
              "                                                                                         (&#x27;scaler&#x27;,\n",
              "                                                                                          StandardScaler())]),\n",
              "                                                                         [&#x27;OverallQual&#x27;,\n",
              "                                                                          &#x27;GrLivArea&#x27;,\n",
              "                                                                          &#x27;GarageArea&#x27;,\n",
              "                                                                          &#x27;TotalBsmtSF&#x27;,\n",
              "                                                                          &#x27;TotRmsAbvGrd&#x27;,\n",
              "                                                                          &#x27;YearBuilt&#x27;,\n",
              "                                                                          &#x27;MasVnrArea&#x27;,\n",
              "                                                                          &#x27;Fireplaces&#x27;,\n",
              "                                                                          &#x27;BsmtFinSF1&#x27;,\n",
              "                                                                          &#x27;LotFrontage&#x27;,\n",
              "                                                                          &#x27;WoodDeckSF&#x27;,\n",
              "                                                                          &#x27;2ndFlrSF&#x27;,\n",
              "                                                                          &#x27;O...\n",
              "             param_grid={&#x27;model__regressor__bootstrap&#x27;: [True, False],\n",
              "                         &#x27;model__regressor__max_depth&#x27;: [5, 10, 15],\n",
              "                         &#x27;model__regressor__max_features&#x27;: [&#x27;sqrt&#x27;, &#x27;log2&#x27;],\n",
              "                         &#x27;model__regressor__min_samples_leaf&#x27;: [1, 2, 5],\n",
              "                         &#x27;model__regressor__min_samples_split&#x27;: [2, 5, 10],\n",
              "                         &#x27;model__regressor__n_estimators&#x27;: [100, 250],\n",
              "                         &#x27;model__regressor__n_jobs&#x27;: [-1],\n",
              "                         &#x27;preprocessor__num_log__log__func&#x27;: [None,\n",
              "                                                              &lt;ufunc &#x27;log1p&#x27;&gt;]},\n",
              "             verbose=5)</pre></div></div></div><div class=\"sk-parallel\"><div class=\"sk-parallel-item\"><div class=\"sk-item\"><div class=\"sk-label-container\"><div class=\"sk-label sk-toggleable\"><input class=\"sk-toggleable__control sk-hidden--visually\" id=\"sk-estimator-id-37\" type=\"checkbox\" ><label for=\"sk-estimator-id-37\" class=\"sk-toggleable__label sk-toggleable__label-arrow\">estimator: Pipeline</label><div class=\"sk-toggleable__content\"><pre>Pipeline(steps=[(&#x27;preprocessor&#x27;,\n",
              "                 ColumnTransformer(transformers=[(&#x27;num&#x27;,\n",
              "                                                  Pipeline(steps=[(&#x27;imputer&#x27;,\n",
              "                                                                   SimpleImputer(strategy=&#x27;median&#x27;)),\n",
              "                                                                  (&#x27;scaler&#x27;,\n",
              "                                                                   StandardScaler())]),\n",
              "                                                  [&#x27;OverallQual&#x27;, &#x27;GrLivArea&#x27;,\n",
              "                                                   &#x27;GarageArea&#x27;, &#x27;TotalBsmtSF&#x27;,\n",
              "                                                   &#x27;TotRmsAbvGrd&#x27;, &#x27;YearBuilt&#x27;,\n",
              "                                                   &#x27;MasVnrArea&#x27;, &#x27;Fireplaces&#x27;,\n",
              "                                                   &#x27;BsmtFinSF1&#x27;, &#x27;LotFrontage&#x27;,\n",
              "                                                   &#x27;WoodDeckSF&#x27;, &#x27;2ndFlrSF&#x27;,\n",
              "                                                   &#x27;OpenPorchSF&#x27;, &#x27;HalfBath&#x27;,\n",
              "                                                   &#x27;LotA...\n",
              "                                                                                 strategy=&#x27;constant&#x27;)),\n",
              "                                                                  (&#x27;onehot&#x27;,\n",
              "                                                                   OneHotEncoder(handle_unknown=&#x27;ignore&#x27;))]),\n",
              "                                                  [&#x27;MSZoning&#x27;, &#x27;Street&#x27;,\n",
              "                                                   &#x27;RoofStyle&#x27;, &#x27;RoofMatl&#x27;,\n",
              "                                                   &#x27;Exterior1st&#x27;, &#x27;ExterQual&#x27;,\n",
              "                                                   &#x27;Foundation&#x27;, &#x27;BsmtCond&#x27;,\n",
              "                                                   &#x27;Heating&#x27;, &#x27;CentralAir&#x27;,\n",
              "                                                   &#x27;KitchenQual&#x27;, &#x27;GarageType&#x27;,\n",
              "                                                   &#x27;GarageFinish&#x27;, &#x27;GarageQual&#x27;,\n",
              "                                                   &#x27;GarageCond&#x27;, &#x27;SaleType&#x27;,\n",
              "                                                   &#x27;SaleCondition&#x27;])])),\n",
              "                (&#x27;model&#x27;,\n",
              "                 TransformedTargetRegressor(regressor=RandomForestRegressor()))])</pre></div></div></div><div class=\"sk-serial\"><div class=\"sk-item\"><div class=\"sk-serial\"><div class=\"sk-item sk-dashed-wrapped\"><div class=\"sk-label-container\"><div class=\"sk-label sk-toggleable\"><input class=\"sk-toggleable__control sk-hidden--visually\" id=\"sk-estimator-id-38\" type=\"checkbox\" ><label for=\"sk-estimator-id-38\" class=\"sk-toggleable__label sk-toggleable__label-arrow\">preprocessor: ColumnTransformer</label><div class=\"sk-toggleable__content\"><pre>ColumnTransformer(transformers=[(&#x27;num&#x27;,\n",
              "                                 Pipeline(steps=[(&#x27;imputer&#x27;,\n",
              "                                                  SimpleImputer(strategy=&#x27;median&#x27;)),\n",
              "                                                 (&#x27;scaler&#x27;, StandardScaler())]),\n",
              "                                 [&#x27;OverallQual&#x27;, &#x27;GrLivArea&#x27;, &#x27;GarageArea&#x27;,\n",
              "                                  &#x27;TotalBsmtSF&#x27;, &#x27;TotRmsAbvGrd&#x27;, &#x27;YearBuilt&#x27;,\n",
              "                                  &#x27;MasVnrArea&#x27;, &#x27;Fireplaces&#x27;, &#x27;BsmtFinSF1&#x27;,\n",
              "                                  &#x27;LotFrontage&#x27;, &#x27;WoodDeckSF&#x27;, &#x27;2ndFlrSF&#x27;,\n",
              "                                  &#x27;OpenPorchSF&#x27;, &#x27;HalfBath&#x27;, &#x27;LotArea&#x27;,\n",
              "                                  &#x27;BsmtFullBath&#x27;, &#x27;BsmtUnfSF&#x27;]...\n",
              "                                (&#x27;cat&#x27;,\n",
              "                                 Pipeline(steps=[(&#x27;imputer&#x27;,\n",
              "                                                  SimpleImputer(fill_value=&#x27;Other&#x27;,\n",
              "                                                                strategy=&#x27;constant&#x27;)),\n",
              "                                                 (&#x27;onehot&#x27;,\n",
              "                                                  OneHotEncoder(handle_unknown=&#x27;ignore&#x27;))]),\n",
              "                                 [&#x27;MSZoning&#x27;, &#x27;Street&#x27;, &#x27;RoofStyle&#x27;, &#x27;RoofMatl&#x27;,\n",
              "                                  &#x27;Exterior1st&#x27;, &#x27;ExterQual&#x27;, &#x27;Foundation&#x27;,\n",
              "                                  &#x27;BsmtCond&#x27;, &#x27;Heating&#x27;, &#x27;CentralAir&#x27;,\n",
              "                                  &#x27;KitchenQual&#x27;, &#x27;GarageType&#x27;, &#x27;GarageFinish&#x27;,\n",
              "                                  &#x27;GarageQual&#x27;, &#x27;GarageCond&#x27;, &#x27;SaleType&#x27;,\n",
              "                                  &#x27;SaleCondition&#x27;])])</pre></div></div></div><div class=\"sk-parallel\"><div class=\"sk-parallel-item\"><div class=\"sk-item\"><div class=\"sk-label-container\"><div class=\"sk-label sk-toggleable\"><input class=\"sk-toggleable__control sk-hidden--visually\" id=\"sk-estimator-id-39\" type=\"checkbox\" ><label for=\"sk-estimator-id-39\" class=\"sk-toggleable__label sk-toggleable__label-arrow\">num</label><div class=\"sk-toggleable__content\"><pre>[&#x27;OverallQual&#x27;, &#x27;GrLivArea&#x27;, &#x27;GarageArea&#x27;, &#x27;TotalBsmtSF&#x27;, &#x27;TotRmsAbvGrd&#x27;, &#x27;YearBuilt&#x27;, &#x27;MasVnrArea&#x27;, &#x27;Fireplaces&#x27;, &#x27;BsmtFinSF1&#x27;, &#x27;LotFrontage&#x27;, &#x27;WoodDeckSF&#x27;, &#x27;2ndFlrSF&#x27;, &#x27;OpenPorchSF&#x27;, &#x27;HalfBath&#x27;, &#x27;LotArea&#x27;, &#x27;BsmtFullBath&#x27;, &#x27;BsmtUnfSF&#x27;]</pre></div></div></div><div class=\"sk-serial\"><div class=\"sk-item\"><div class=\"sk-serial\"><div class=\"sk-item\"><div class=\"sk-estimator sk-toggleable\"><input class=\"sk-toggleable__control sk-hidden--visually\" id=\"sk-estimator-id-40\" type=\"checkbox\" ><label for=\"sk-estimator-id-40\" class=\"sk-toggleable__label sk-toggleable__label-arrow\">SimpleImputer</label><div class=\"sk-toggleable__content\"><pre>SimpleImputer(strategy=&#x27;median&#x27;)</pre></div></div></div><div class=\"sk-item\"><div class=\"sk-estimator sk-toggleable\"><input class=\"sk-toggleable__control sk-hidden--visually\" id=\"sk-estimator-id-41\" type=\"checkbox\" ><label for=\"sk-estimator-id-41\" class=\"sk-toggleable__label sk-toggleable__label-arrow\">StandardScaler</label><div class=\"sk-toggleable__content\"><pre>StandardScaler()</pre></div></div></div></div></div></div></div></div><div class=\"sk-parallel-item\"><div class=\"sk-item\"><div class=\"sk-label-container\"><div class=\"sk-label sk-toggleable\"><input class=\"sk-toggleable__control sk-hidden--visually\" id=\"sk-estimator-id-42\" type=\"checkbox\" ><label for=\"sk-estimator-id-42\" class=\"sk-toggleable__label sk-toggleable__label-arrow\">num_log</label><div class=\"sk-toggleable__content\"><pre>[&#x27;LotFrontage&#x27;, &#x27;MasVnrArea&#x27;, &#x27;MasVnrArea&#x27;]</pre></div></div></div><div class=\"sk-serial\"><div class=\"sk-item\"><div class=\"sk-serial\"><div class=\"sk-item\"><div class=\"sk-estimator sk-toggleable\"><input class=\"sk-toggleable__control sk-hidden--visually\" id=\"sk-estimator-id-43\" type=\"checkbox\" ><label for=\"sk-estimator-id-43\" class=\"sk-toggleable__label sk-toggleable__label-arrow\">SimpleImputer</label><div class=\"sk-toggleable__content\"><pre>SimpleImputer(strategy=&#x27;median&#x27;)</pre></div></div></div><div class=\"sk-item\"><div class=\"sk-estimator sk-toggleable\"><input class=\"sk-toggleable__control sk-hidden--visually\" id=\"sk-estimator-id-44\" type=\"checkbox\" ><label for=\"sk-estimator-id-44\" class=\"sk-toggleable__label sk-toggleable__label-arrow\">FunctionTransformer</label><div class=\"sk-toggleable__content\"><pre>FunctionTransformer()</pre></div></div></div><div class=\"sk-item\"><div class=\"sk-estimator sk-toggleable\"><input class=\"sk-toggleable__control sk-hidden--visually\" id=\"sk-estimator-id-45\" type=\"checkbox\" ><label for=\"sk-estimator-id-45\" class=\"sk-toggleable__label sk-toggleable__label-arrow\">StandardScaler</label><div class=\"sk-toggleable__content\"><pre>StandardScaler()</pre></div></div></div></div></div></div></div></div><div class=\"sk-parallel-item\"><div class=\"sk-item\"><div class=\"sk-label-container\"><div class=\"sk-label sk-toggleable\"><input class=\"sk-toggleable__control sk-hidden--visually\" id=\"sk-estimator-id-46\" type=\"checkbox\" ><label for=\"sk-estimator-id-46\" class=\"sk-toggleable__label sk-toggleable__label-arrow\">cat</label><div class=\"sk-toggleable__content\"><pre>[&#x27;MSZoning&#x27;, &#x27;Street&#x27;, &#x27;RoofStyle&#x27;, &#x27;RoofMatl&#x27;, &#x27;Exterior1st&#x27;, &#x27;ExterQual&#x27;, &#x27;Foundation&#x27;, &#x27;BsmtCond&#x27;, &#x27;Heating&#x27;, &#x27;CentralAir&#x27;, &#x27;KitchenQual&#x27;, &#x27;GarageType&#x27;, &#x27;GarageFinish&#x27;, &#x27;GarageQual&#x27;, &#x27;GarageCond&#x27;, &#x27;SaleType&#x27;, &#x27;SaleCondition&#x27;]</pre></div></div></div><div class=\"sk-serial\"><div class=\"sk-item\"><div class=\"sk-serial\"><div class=\"sk-item\"><div class=\"sk-estimator sk-toggleable\"><input class=\"sk-toggleable__control sk-hidden--visually\" id=\"sk-estimator-id-47\" type=\"checkbox\" ><label for=\"sk-estimator-id-47\" class=\"sk-toggleable__label sk-toggleable__label-arrow\">SimpleImputer</label><div class=\"sk-toggleable__content\"><pre>SimpleImputer(fill_value=&#x27;Other&#x27;, strategy=&#x27;constant&#x27;)</pre></div></div></div><div class=\"sk-item\"><div class=\"sk-estimator sk-toggleable\"><input class=\"sk-toggleable__control sk-hidden--visually\" id=\"sk-estimator-id-48\" type=\"checkbox\" ><label for=\"sk-estimator-id-48\" class=\"sk-toggleable__label sk-toggleable__label-arrow\">OneHotEncoder</label><div class=\"sk-toggleable__content\"><pre>OneHotEncoder(handle_unknown=&#x27;ignore&#x27;)</pre></div></div></div></div></div></div></div></div></div></div><div class=\"sk-item sk-dashed-wrapped\"><div class=\"sk-label-container\"><div class=\"sk-label sk-toggleable\"><input class=\"sk-toggleable__control sk-hidden--visually\" id=\"sk-estimator-id-49\" type=\"checkbox\" ><label for=\"sk-estimator-id-49\" class=\"sk-toggleable__label sk-toggleable__label-arrow\">model: TransformedTargetRegressor</label><div class=\"sk-toggleable__content\"><pre>TransformedTargetRegressor(regressor=RandomForestRegressor())</pre></div></div></div><div class=\"sk-parallel\"><div class=\"sk-parallel-item\"><div class=\"sk-item\"><div class=\"sk-label-container\"><div class=\"sk-label sk-toggleable\"><input class=\"sk-toggleable__control sk-hidden--visually\" id=\"sk-estimator-id-50\" type=\"checkbox\" ><label for=\"sk-estimator-id-50\" class=\"sk-toggleable__label sk-toggleable__label-arrow\">regressor: RandomForestRegressor</label><div class=\"sk-toggleable__content\"><pre>RandomForestRegressor()</pre></div></div></div><div class=\"sk-serial\"><div class=\"sk-item\"><div class=\"sk-estimator sk-toggleable\"><input class=\"sk-toggleable__control sk-hidden--visually\" id=\"sk-estimator-id-51\" type=\"checkbox\" ><label for=\"sk-estimator-id-51\" class=\"sk-toggleable__label sk-toggleable__label-arrow\">RandomForestRegressor</label><div class=\"sk-toggleable__content\"><pre>RandomForestRegressor()</pre></div></div></div></div></div></div></div></div></div></div></div></div></div></div></div></div></div>"
            ]
          },
          "metadata": {},
          "execution_count": 62
        }
      ]
    },
    {
      "cell_type": "code",
      "source": [
        "grid_RFR.best_params_"
      ],
      "metadata": {
        "colab": {
          "base_uri": "https://localhost:8080/"
        },
        "id": "oThSONjEcjvu",
        "outputId": "9f5c33b1-c527-45aa-e15e-d620ad01b07c"
      },
      "execution_count": null,
      "outputs": [
        {
          "output_type": "execute_result",
          "data": {
            "text/plain": [
              "{'model__regressor__bootstrap': False,\n",
              " 'model__regressor__max_depth': 15,\n",
              " 'model__regressor__max_features': 'sqrt',\n",
              " 'model__regressor__min_samples_leaf': 1,\n",
              " 'model__regressor__min_samples_split': 2,\n",
              " 'model__regressor__n_estimators': 100,\n",
              " 'model__regressor__n_jobs': -1,\n",
              " 'preprocessor__num_log__log__func': None}"
            ]
          },
          "metadata": {},
          "execution_count": 64
        }
      ]
    },
    {
      "cell_type": "code",
      "source": [
        "# RandomForestRegressor best params\n",
        "RFR = Pipeline(steps=[('preprocessor', preprocessor),\n",
        "                ('model',TransformedTargetRegressor(regressor= RandomForestRegressor(bootstrap= False,\n",
        "                  max_depth= 15, max_features= 'sqrt', min_samples_leaf= 1,min_samples_split= 2,\n",
        "                  n_estimators = 100, n_jobs= -1  )))])\n",
        "RFR_fit = RFR.fit(X_train, y_train)\n",
        "RFR_Score= RFR.score(X_test, y_test)\n",
        "RFR_Score"
      ],
      "metadata": {
        "colab": {
          "base_uri": "https://localhost:8080/"
        },
        "id": "KeDtL9TedWMa",
        "outputId": "b14423b8-147b-4880-ec37-419ea4a5f80b"
      },
      "execution_count": null,
      "outputs": [
        {
          "output_type": "execute_result",
          "data": {
            "text/plain": [
              "0.8792486729222266"
            ]
          },
          "metadata": {},
          "execution_count": 66
        }
      ]
    },
    {
      "cell_type": "code",
      "source": [
        "print(\"score d'entrainement = \",RFR_Score,\"\\n\")\n",
        "y_pred = RFR_fit.predict(X_test)\n",
        "RMSLE_RFR= mean_squared_log_error(y_test,y_pred)\n",
        "RMSE_RFR = mean_squared_error(y_test,y_pred , squared= False)\n",
        "\n",
        "print(\"score de la prédiction:\",RFR_Score)#, accuracy_score(y_test, y_pred)),\n",
        "print(\"RMSLE = \",RMSLE_RFR)\n",
        "print(\"RMSE = \",RMSE_RFR)"
      ],
      "metadata": {
        "colab": {
          "base_uri": "https://localhost:8080/"
        },
        "id": "djTm6iabdWVh",
        "outputId": "f0bf383a-c684-4bc8-c3b9-67931eb73184"
      },
      "execution_count": null,
      "outputs": [
        {
          "output_type": "stream",
          "name": "stdout",
          "text": [
            "score d'entrainement =  0.8792486729222266 \n",
            "\n",
            "score de la prédiction: 0.8792486729222266\n",
            "RMSLE =  0.015482506844876292\n",
            "RMSE =  26837.27638195288\n"
          ]
        }
      ]
    },
    {
      "cell_type": "markdown",
      "source": [
        "In the case of **RMSE**, the *presence of outliers can explode the error term to a very high value*. But, in the case of **RMLSE** the o*utliers are drastically scaled down therefore nullifying their effect*. We can clearly see that the value of the RMSE explodes in magnitude as soon as it encounters an outlier.\n",
        "\n",
        "![image.png](data:image/png;base64,iVBORw0KGgoAAAANSUhEUgAAAQoAAABXCAYAAAD8rAtUAAAAAXNSR0IArs4c6QAAAARnQU1BAACxjwv8YQUAAAAJcEhZcwAAEnQAABJ0Ad5mH3gAAB8HSURBVHhe7d15sF1FtQbwhkRmQsIMISEQ5klAZhUBUcF5BEuhnii80npIWQXvoRaIUO8PFRQFUVRABUSEKCCjCAhOzIKAIFMgQILMQyCEAHmvf83puDn3zPecG27or2rXvXeP3avX+tbQvfdd7P8iQkFBQUELLF77WVBQUNAUhSgKCgraohBFQUFBWxSiKCgoaItCFAUFBW1RiKKgoKAtClEUFBS0RSGKgoKCtihEUVBQ0BaFKAoKCtqiEEVBQUFbFKIoKChoi0IUBQUFbVGIoqCgoC0KURQUFLRFIYqCgoK2KERRUFDQFoUoCgoK2qIQRUFBQVsUoigoKGiLnj+u+8orr4T58+cHl+etoKBg4WOxxRZbsC2++OJhzJgxtSO9o2uiePnllxNJFGIoKBgdQBjIYuzYsbU93aNjokAOSKIQREHB6ATCQBa9RBgdEcVLL72UiKLfQDz3339/6sBKK60Uxo8fXztSUFAwKCCKN73pTbW/OkNbohgUSXjs008/HY4//vgwYcKE8Pa3vz28+c1vDl3FK7npkWg6QrWrg7wmYyTaByN5XfUa6Pa6btoHI3ndaGgj9KFvYyNZLLHEEun3TtCSKAZFEvDiiy+Gu+66K3zsYx8Ln/jEJ8Lee+8dNtxww/DK/Pm1M1pDs1+O7RsTQykFm06gL/Nr/RkbGVUk0wr5GbB4FGw3IdtItC8jpYRRbovF53Sah/baNwXsV+LzoNu+eWa3ebK+5Ry7U/Qie8h960b2MFr7tmQkimWXXTb93g5NiULnEcWg8OSTT4arrroqHHjggWGZZZYJq6yySvrZpDkN4dxuBjTduXb/Tq9b0J54fudPehUj0T6oyqyn67rsW76ul751cw2kZ3XZPuhW9hm9XDea+/blL385fOADH6j91RxNiYLHb3KoL7jnnnvCaaedFi677LKw2WabhVVXXbV2pDNoGYbkDRfvUGiJVSMBEhZG7lTU+ZpuGLwX5OnmbjxMr+hFfsNBr33rRfa99m1+bJ+IrhvdgNHct2ViRPGVSBZLLbVUbU9jNCQKIZFtUHDvq6+5Jnzr6GPClMmTw1577xXWmzq1drQzaPSCEKxDgRkYgwopBEu/tUcvIWIv0D7DMZxprE7Ri/yGg1771lN4Hrde+saYFoTntX2dYLT3bYXx48OKEybU/mqMhkQx6GjimWeeCRdedHE44qj/DV/5n4PDnnvsEdZYY43a0YKCgpEEslpyySVrfzXGkJgns+MggShmzXwozJszO2y6ySZh3LhxtSMFBQUjDfbO7lthCFHk0HyQmDFjRnjooYfCFltskSKJdmxWUFAwWLSz+yFEMeho4qWYJ913331h1qxZ4S1veUuKJtrlaNr0wgsvhDvvvDPNlNx44421I4ODGZ9nn302Me1jjz0WnnrqqdT2goJFEe3sfsSJYvbs2Wk1JiNEFKIJOVIjMNaZM2eGSy+9NPz0pz8NJ510UjjvvPPC7bffXjtjcEAMf/7zn9N28803J4L6y1/+MtAib0HBwsLrjihmRcP/17/+lVaFbbzxxi2Xks6ZMyctyvrNb34Tzj777HDBBReE2267LTz33HO1MwaHRx55JBHUH//4x/Dwww+HG264IVz6u9+FZyLBjUR6VlAwkuiaKAYN6yfmzp0b1ltvvbDmxIkt0w7niTYs757261+Hgw85JGy00UZtCy/9grnlD3/4w+HjH/94eN/73pfafG9sfydRxaAJtxU8e2E+v4rXSzv6gdeLXJu1oVX77Gc3dDevuO6mLyNOFCICDd1ggw2SITZLO8CLYttuu21aOTZ+hRXCmAEveGoHgtX2dgKWXiHEhZGmvBwV4IEHH0yRz8Kuqeg/OZDHaEYe93/FKPPpZ56p7V04yDKVutfr4SOPPhoef+KJMG/evNqef0MKf+qpp6Z3qw4//PDw6+h4rY7uFEPWUfDig4BwXd5/0EEHJYL4zGc+kyKFbvCzn/0s/O1vf0skY+l3M0gX1DEIs5NVb1kEiOnd7353WGuttcKtt94afvGLX4RPf/rTYerUqeHvf/97+Mc//pEiGuTVbKZG+5zrTdg99tgj/PWvf11AjOuuu27trMFAqnbvvfeGE044Ieyz775h2222GbEZJeMrJVx66aUXpJPac/7556eo0epbsusHpK7XXXddWu/jPaFBQ7/OOOOMNKZbbbVVWH/99WtHBotGMmWff/jDH1I6bNZwmzjGGXf885/h2muvTc53n6i3OVp//vnn00QAu9hhhx2SHT4aSWXllVdOkXJGq9WZI+aiMSElfvjRx8IKE1YM66yzTu1If8Hob7nlllT0xKCdbpaTn3XWWWk2BhBMdaUdofu7VaqEta+//vpUV1lzzTXTPa655ppEFpR7kKBU98+YEaZNmxaWjAO+TFSuVm3tBxCgWo4+qyGpJVX76fmmv0WRDNu5/QBPqMh8xRVX1PYMDtb8IH99MP7LLbdc7chgICV4IkYFCujnnHPOEJnSKTJ9MEaN2mWpQYaoe14kzzuik6R3iBQQB5LbeuutE9GpDXoZDIF0ihEjCuHQTTfdFMa8aYkwcdKkxGaDAKIgTK+wI6bp06cnFjYN65mihvrNfi+lLb/88guMi0LwHPa5n+snTpyYBO7venguxjZwrtt+++2TN2ccplfzoA0K+kuZGe1nP/vZpAzdLimugsKakmYo9cVbfSVT09SXX355uOiii1K0x+siywz9f9vb3pbkKxr705/+tCB6Gw44HcZEroMEGdAfxiqqZGjDWUFMjuRGpu5dBblkG8kyPf3008Mvf/nL18jUJMCWW26ZxhdZODenw9omYqDLomGRg+eISKZMmRLe+ta3JtKwPEGEIsrtFCNCFDrBUK6++uqw7qSJYbONNmz7EkqvYMSmXYW5FJWQhFfHHHNMihoodKPN9Ov3v//9FCLDpEhmn/rUp8Laa6+d2sr4d9lllyTc+pma3D/eHLw6n2FgGxkspaEYjJHyqCc0MiL7HHOOjZEY/PwzgyHeGUNPbVwnKoV+O+4Zzq0i7/ez0TNB2vDAAw+EG6PX0sbqedr++OOPh29/+9vhlFNOSQa72mqrpXPq72c83v/+96e2U3rPbfbM4cJ99dWztDn3sRGq8s8ycm61BiXsR76Mdvfdd09RYj6nXqb52dXr60FHGL0ZNN68SsCuQSDf+ta3wnHHHZecnBclndPofrvuumtqt8hZhJXvhUDo6u9///tUy9A/5GAcnCM6EeG6J8LpFGO+HlH7PaFeAP2ADvG03/nOd5KnxWxYr1sIx+RmooDtttuutncoeDCRAGU30PKznCOvvvrqKTqo35wvHGPUBJuF6yf4PW/1oABCYQqw+eabJy+arzPFSrkMYDXd0g/e39uz6im+J+H5DLwKkQIScJ66CfKzjzdBICIfCkBhPH+fffZJNRaREUVxjfb5OJB9rpkZ06uro7IgsWr+WwWFuuSSS8IPTjgh1VpyZFWFHPmDH/xgUjgFS3JGVJMnT66d8Sp8PuCfkcS0GdEa++GkRaI0ubh+7bXXXrW9/67R8LKOy8PJa4UYkufxAOPhHiIcUaDz7Mu5vPbRg7vvvjvJ3vX6Sdb0+I477kjnZpmCephz9ZGs6scReHgG/M1vfjMRj/vWy4H+mGnbaaedUpul0e94xzuGyJTz0gf31C4OzTgaI/amPYjOddrJrvXzxz/+cdg53m+nHXcc4qxbRaAjElEYQOGOhvPUvM8gQQCKPApdCIVCCYvltH4nkEabQasqVPV3qP87w8AIw02fIqNGZFKFhVu8hkiGgjIyBcgf/ehHSQkz1EuEn8d+97tJARGE4iCv88Mf/jDcfdddSQF4d55qXvRm66y7buoL8G7I9aijjkrH/S3qODfmvtak+NCNtxCbAQG5xnn1cmH8jF5ITuE9k5dq5P0osEKu0JicyKvfkIoItxmhBX3ajjBEieon2eMCghANnXnmmcngEYKxOOyww1KElHN3pIHg5PUIR7+NFRL6bhwT45H77B5mFFxD3xtBGxxjsK6pl2mKXKNM6RHjpkfNZEpXkcCKK66YyC7L1H3s45jUOOiN52oXkhAVLR2fow25HtcJRoQosJ6ZADm+zmHcQYOwRC/77rtveqYBZ2SMtJHghwODRPkMroFoBqQgTNcOEYXZkx0js8srGZw2MmBkpo2ITcFKkUoU5jxEhHBFCrwGJWAksHok4HFRtlkBha4iKESi3/dFAxJ2UvRNNtkk1Vt8Eg2yEmuXzTXZYB6NnkuEYWMc7s/4q9FI1RDr4fwcyUk/B0EUF198ceoX0soyJbNMrrw90mMcDOu2+PdO8bhz1R7IijwVopGv/jAy5wvlcz9zdCKCJA99yY5QwZbe5WjCq91z41g6j0xFALnmQw+yTNmH8Wb8jNiz/E1fWumqyFk0wRnQmQz71CREP/qv357pXshaOqJvyKJTDJwoNND87o033ZxCVA3t5lt9VRgAA9XJ57uyclqDIUfOSmr+mDIQXr/gXtIHHqBV2yigZyMEBr///vsvIIv99tsvGS5yoFDueeWVV6bB/ehHPxre9a53JcXXH98WrcqQgpONlINnz0QhhGYwpnzd67xzzw03RaXyHNEWUsnRD4WntFIYW051kJD06be//W36KZVrpbzNQP4MwPWNZO+eCoccik3IzbiqBtAIrtN2RMGwfFJRWC+ilJaQLfmYUlS7yCnQ2tF5kL8QX77/nve8JxFGloc2MjLX0KO8H6GIjvRFaoe0ycgaCw6QJ8+O0HcjEEKWKfnlVFB7EJj0Tn/pRrdyJVPjrj/amcla9KPNiAeJkQ+700fOWvtEhN3Y4cCJAnvNnDkr3HbHP5OCqy/0CmmLvJj37QQG1/MOPvjgpDgG1QApXBpcitVPEHz2PI2QiULUwUth/gx9Y9hCW8r8XPTmvPqE6KE22XTT2lmvhvEGuhqV6RfYlxU6w30/8pGPpLd1hcazo9EwJopTzY8ZhvTk5JNPTu/UKMzykBRdCEtmQnjeqxeiIBvP4z2zQlfhnoxdePyTn/wkPc/zGXkruM45Nn2S41eBiJGlaEMfeVkGltbCxDZlUmVw5Meo3JMx+12bGVWWq/NEqJ5jCpJ8yO2JOFZIB5FkHfA8EUmWKfmpI7EJJPHzn/88pT/Xxn5aKNcttMUXqtzPlvWZs+Cw9C3vF31wNPrNFshEVNkpBk4UFOPBB2aEec8/l4hCRNArdJBH1clOYYClBIcccki61sD96le/SgPFc48kDBivbRApayNQLkrPEzh/iah01kT0CkqrJrTbbrsl2fMoeWanCm0i33Ni1EE2J554Yvjc5z6XlMnvZ0fi+FE0YsXSejLqB9yTRxcNvPOd70ztnbLOOmlNSCsw6mwMDKdKvmAfkjLWzmH8ZNJM/p0AIYnwkI/7iixEPyI33jzDs7eIhIJoyRRZmLoW0R177LHhV2edFU4+5ZTwnwccEJaq1UD6DcXrXkioHgMnipybbbjhBsmT1ldau4EBd303IRNQQoU3nvRDH/pQ8tSKXNfEgZYz9guUkKE3g3aIcDxTWNsIFE1ksVw0XJ6BZ8sRQzMwDvdWU6j31kJSC7GEvYzDc9Ur6uF6sl0jhqyIRTt5WEalPWl/9Ja9GhgjZdSu96xGQEpW69p456kxxF82evNWYFxIjucnKwRbBdmRgVkB8iQrMqqXv+sdzzAO9Ey73bMqV4SLbJG+FMkmEqxPCbNMpQFkmmfj7Pe7/epKue7RLeiaDSHZcoSorXQRUs2j0q9eMVCioBiKPMJe3gqT5s6MNCiT51MU7aIoUoF+sDgFU6nO3q0ZGN2mMY0w780LVdfaq9QjVO2TWgl3eX+KXn2t3v1FHH56rva7BklY91Bdj+GnfdIIXlDOTqGE+J6n/1W4l/HJhszwnopyUpTLn/RvZuTtoH2MDmFXDbIKBsOAbIhKv9rpSyYKTog8GW2G/qmJSOXMfpE/wtAvxU2yzbIS+XJqznHPHHUwfOlFlSgYv+chNjUl6aTiIUKtl0+9TKtj45uXw5EpcpoT5UpWiC3fB0nk1JoMjflw0VsLOwQmnh6JggdPOWGL8ErnZseBy/lmt9vzdaxfj7zQheIY6N1j6Mhj9UOIlMkMC2PQ1ypyrqttlE8RU46LQBW4TBcKYRVZkRc58TTuqRAHF154YfoehpzdT4rPS2bFUGlnFBQdgWRlpODufdWVV6Z1ABaCISr7kYfnJa8Ur60nDTJCVFttuWVqSys69TzX5342Arlos7Sx6nV7gWfkPtInepXfGzo3pk75GyIWSokaGaP83HlImHfPBEo+ZqzMBiHPrKNkiwwQbD2pOoZErC9R89Dv6rdV/G+aRjJ13Nhba4LcmtkC6F9OlZrJFDHSOfWSqkzZHeds/OjGcOUNbYmCotvqO90JhGYMdLHFFk8FuVYNprRe4b41GrKpq263+6PhEWpWoAx/E6bQmzFap0BZPv/5z4eNNm79PYxOoV9CZYNjwU91YBmcgpNzKBj2lwIhqFzMMv9vVoESmc7NHpciilQszLLGwnnyXdFI1SuvHD3ZapFcGITvfVAwMIsgGlFgswiM4lNSxprfIeCVno2pEBlVoa6jXvD1I48MK0Vla6XU+qU/jKeRPLUHiSF0hDpcxfU87ePBM6SUPDzizYVDax2eiXplAZNUQdsYPhko8qoTWF+jcIpcGFi1bf4hlQhIlJJ0q7YfGD2Zkq1owmxHBkKUXpJtFeNixLTLrruGI486KrWjWWQF5K0tzWRKx9TbREVqOtqTwZZEOfZzOv1A27dHeS9eBwsTSjcw9XP6GWeGxaNAfnj891I43UzhrBcwJWfhSrefSweDysikFxQpA8mZFrXoiEe2eMZiVIbNiFsZQKcwaIzAG7FmZQ499NDkMUBEZZoMQdiA4fCwogoeSTus2kQU1Rze0FA2BEQu2sp78Jq84H777ZeMmZGStSlQU6TaQdaMUwjKqLJiejZPxEs6V7s9Q3uryg6eb6vKsxFEMaIUCiq0ry9Y22+RGNKysKnax16gvfpG7iI00M45sR3233XnncmA1ojESK7qAFWjzPLXHj+1GRGYxTArZtEVXZeOIOZvfOMb4XfR0ZhSzakQx8lQFcnVJrwVnWeiOMcH45gpRCvQVtGpTNkhmWpDI5kidjJFjOpteWoc9ME/9vna176W9Nz4dwJ62AxNicLgM1wrAz0IK/Nw3cAquVtvvS1sG/PDLx74Xy2FY/CxMFbvxXgZhsElrHw9xbEi7ZCDD07z17yD9ze8Ot5oKnE4oHw8GS9NOcywAKIiYu2qKitFI2vHtcMg8SBZEUHkQB7yzDzYZGQVp8jo6KOPThEHj+O5ag+nnXZamqXg5cBzHK/KxT7PtZ8yUjpEIVTtBQzWPcmgvg8gepHyUXizJvXHu4Xn5KJxVbnJmcHT3dwWx6se2erVeyLpkqM0zH14Y0urpSrk/NWvfjU5HH3iwEzZSl3MamQZkRkS8RKXyEJql/v1ZDRu9SbfT6FzvaCdTKWg0iV6fMABB6RzjC+nYkUqx8H+RJFVvWuFVkQx5F0PAqCgwvQzz5wWI4o7Iqs9mRiNsDoxYp3kRU499dTUwd1jCNRu7YPB4mmy5+12c61n5fYxhNsiOZwYQ3aeVkRkPYGNd+2kH92AscsHRQkKZYyCshlAA1VPSv52DMGJCChz/Tk8llWEPIRVdNIaKYrfFedMIRpcfSE/1/OQlEUfFQWzklX7m59tv1xd1KGNzu8F7u1e9X1ghAhN+7WHoZHJcOEZ2ltvANphH5mQK5loVxXqB7wwJ8iJWKzE4EQTrlXHQbJ+9xz3YozOJx/3FN1JbRCFIj2vXU2DRAEPxEiR88uE3S2ayRR50DFEQOdN09Jt5/uojuIqme+5554p+tTeTlEvzyqGuNQ8sNdff0MUyD1pn47br+NIoB10hgIKwQi50wVS/YI2Mioe9oLzz08emeBsg/x4jHsLQ0U2jWYVugXiyZ6N8ZMpIpc+vfe9702yzQRAocjZikvjZOvk+c4zvkL1fiMrNa9mVa66wMIGL8/gyRYRS/2QBWejdsHwkWiGCGOHHXdMYyu6Q6rIWP0H+RmL+n6JFJ3j3H5DhEEXjL26i4gywzNFU9pjtWmrCKFbDEk95JC3RE+8VgyxhFW3xNSBgmrUMcccnfJYuVcrEKiKvpCNF/nSl77Ul9mFTmGAvNKsL6IjswdWZ1aX6DYCUWDgRp6oUzAOS9YVZvM3KYYDobToLC8YEtnlCKoRnK/ir4jFy7WTu5kg9+aVGEk/IaozqyD8Rp6tZD/SoKMPx3TtqSefTAalfeTaaNw5HoTKQLNuIBj1kUazCnkpuv4qsvYTeXylQMa3+mwFTDpiLLWrW7QiliFE8UQUHEF4WchLRAf996FxsK8Lm228Udj/P/ZNoVku1DUDxZbREK7aRs7XRwpnWfF28skpbNfWT37yk8nTtwp7icEgIEKeuR8h8mjAIInijYpBEsUg0RVRVIuJDOewww4Pl8T8zBTndltvmQporaqo8lKCsrhHNKF4KDzrBcIoG0gfKDTyweoUGwnktmZgf20UUchBDRajl7O2ixKI4gtf+EIaXFVkshDitfOErnsxykr4v7A/ANwt5OdCVulBIYr+gP6rg9BNX3AfLeiKKOqnR816nHn2tHDz328Jq6+8Yqqq87j14VaGarJw03sCpgkJqte5XNNXlhurN8gRTetRagQmVPQM4Ve1CKM7qtfCM7l3tzD3LEVBeO7h72bhO+IS7glD154yJaVnE0ZZJCI/V/dAiL3OehS8FvROfQ7oxGjBsIgCM5540slh2jnnhOWiwfzguO+l6aBmUYV6hhkThHLkkUemqmyrBrQCkrDIyGIYX5VePkYVvDzjRCJHHHFEWslYP8dsqhBh9VJMRDyiF9OGFjopGooUqkVcEQZyQmDkw4MoIJmF4JlHE5CuvFa01Yz8C7oDvSNXEMmOFrSy07afwmMkt95+R7jp5lvC2KWWDpMnrhHWr32Bpx44555oPNOm/Tq9RCT1EMLXpwedAitb8MVoD/ziF9Pioh132CEZsuksBRsLauqJwnGVbVFHt5t0htHwsp4rekI8KuSKpLyFIp30B3mQl4hDBGJKtFmR8fUKfU0pU5u0rKBzcCRkahtN6Gp6tB487LqT1gqTVl81LDV2TLj5ppuahvSMZdash8ONMU3ZJnp61/ZKEhnIwPoN72V43ZrXY9CmhRRNGW2/gfBM64mKRDCKopZa28yfW+wiDTI9pvKNmNrVMQoKRjM60m5GaR78ueeeD1dFo5HXNjJQ4f6sWTPDi8/PTgbUD+/KaHntugxp4GD4ogZEZ37dak6bGRRz1KbSCgreKOiIKBS51lt//fDCvBfD7Nlzo7edkYqK9ZAqWJFmDcaUGIYv3Yf8DEGMNEkAohC9IArEKAWymUkxn15fyykoWJTREVFIIfyviGWWWiosu9yy4d7p0xdUdatQ/ZfLKzDyuP34YMbCAnKSSvmpBkIGefN3q3yuoGBRQ0dEYeps0sQ1w9TJa4Vx41cIt0fPOv2+Vz+JnsHDyusV/KyEVOAbbn2CkarI26qwPxcSBxVtqFYrxCryeXmo+uUlrzOrS4CCFeJotEKvoGBRQUdEIQw3i+BFJK+A/+3W28Ltd98dXqiE375C7JVq+6xu7EfFFwnkrQoExIARRZWs+gX9XXfq1LD/AQe0XYXquHqMD5fUz74UFCwq6IgogMfcauutw9xonPPmPBcemzUzzIy5esZ9MR155Iknw7iVVknFz36E5mYVfGTFf0qqemvhv6lS3r2XNe3tgIh8s3LypElt+4GwRFwloihYlNExUQi1N46ec4X4c/lxK4Snnn4mLTjK8BWgsTHT2P4tW6eFG8NNOyATxc477/yal6sYpTTAsUG9kyGq6ITs9NO5CKMffS4oeD2iY6Jg/BZRrb/O2mHC+AnpCz4+BqN+4BVlHyYZGw1m8003SYbTD6hzSHm811FdEIQ0rKVwrHjxgoLBo2OLZvyiim1jxDBu3PLhgQceTMuofUrNTIel2wqAI/3tiYKCgsGjK9fPk1sluey4ceEpBPHww2mqFGFY2+49h9fDx0kKCgr6i66IQs6uULny+PFhuWWXCy++PD9cf9116VVl7zmY7Wj3oZSCgoLRh66IQvphIdWUyZPCqquslN61uPzyK8KFl10RVllttfR9wFLQKyhY9NAVUSABxcPNN9s0phkT08c8p983PTw0Y0ZKOUbbK9YFBQWdoSuiyLBScc21JoY5c+eG5+e8EFYct3yMMiYPZE1DQUHBwkdPRKEeseYaa6T/R/nS/BC22nqrtNy51w/UFBQUvL7RE1GIHNZbe3JYc9VVwtxXXk5Lu0s0UVCw6KInolCrEFVsssEGYcxL89I/GnmjfLW6oOCNiCFE0emshRmO3XbbNbzrnbuFDSNhjKZvAxYUFLwW7ex+yMd1LZzq5I1Mn4jL/2nJOxeIokyNFhSMTlj60Op1iCFE4WMt9d9/KCgoWLThXapWn4YYknr064WugoKC0YN2dj/kaHlduqDgjQX2Xn07uxEa0ki7iwoKChYddGLvDYnCy18lqigoWPTBztt/oCmE/weFwv9F0sWe/wAAAABJRU5ErkJggg==)"
      ],
      "metadata": {
        "id": "KMj_U-bEics3"
      }
    },
    {
      "cell_type": "code",
      "source": [
        "# GradientBoostingRegressor\n",
        "pipe_gbr = Pipeline(steps=[('preprocessor', preprocessor),\n",
        "                           ('model', TransformedTargetRegressor(GradientBoostingRegressor()))])\n",
        "\n",
        "grid_gbr = [{'preprocessor__num_log__log__func':[None,np.log1p],\n",
        "             'model__func':[np.log],\n",
        "             'model__inverse_func':[np.exp],\n",
        "             'model__regressor__n_estimators':np.linspace(1200,1800,3).astype(int),\n",
        "             'model__regressor__learning_rate':[0.16,0.18,0.2],\n",
        "             'model__regressor__max_depth':[4],\n",
        "             'model__regressor__subsample':[0.7,0.8,0.9],\n",
        "             'model__regressor__random_state':[1]},\n",
        "            {'preprocessor__num_log__log__func':[None,np.log1p],\n",
        "             'model__func':[None],\n",
        "             'model__inverse_func':[None],\n",
        "             'model__regressor__n_estimators':np.linspace(1200,1800,3).astype(int),\n",
        "             'model__regressor__learning_rate':[0.16,0.18,0.2],\n",
        "             'model__regressor__max_depth':[4],\n",
        "             'model__regressor__subsample':[0.7,0.8,0.9],\n",
        "             'model__regressor__random_state':[1]}\n",
        "            ]\n",
        "\n",
        "gs_gbr = GridSearchCV(estimator=pipe_gbr,\n",
        "                      param_grid=grid_gbr,\n",
        "                      cv=4,\n",
        "                      verbose=5)\n",
        "\n",
        "gs_gbr.fit(X_train, y_train)"
      ],
      "metadata": {
        "id": "3K9Q16V6i_Ko"
      },
      "execution_count": null,
      "outputs": []
    },
    {
      "cell_type": "code",
      "source": [
        "gs_gbr.best_params_"
      ],
      "metadata": {
        "colab": {
          "base_uri": "https://localhost:8080/"
        },
        "id": "ln4kfu-yi_OU",
        "outputId": "c26c79b4-b401-49ce-cc9e-1735f4eb25db"
      },
      "execution_count": null,
      "outputs": [
        {
          "output_type": "execute_result",
          "data": {
            "text/plain": [
              "{'model__func': None,\n",
              " 'model__inverse_func': None,\n",
              " 'model__regressor__learning_rate': 0.2,\n",
              " 'model__regressor__max_depth': 4,\n",
              " 'model__regressor__n_estimators': 1200,\n",
              " 'model__regressor__random_state': 1,\n",
              " 'model__regressor__subsample': 0.8,\n",
              " 'preprocessor__num_log__log__func': <ufunc 'log1p'>}"
            ]
          },
          "metadata": {},
          "execution_count": 71
        }
      ]
    },
    {
      "cell_type": "code",
      "source": [
        "# GradientBoostingRegressor best params\n",
        "GBR= Pipeline(steps=[('preprocessor', preprocessor),\n",
        "                                  ('model', GradientBoostingRegressor(n_estimators=120, learning_rate=0.2,\n",
        "                                      max_depth=4, subsample=0.8, random_state=1))])\n",
        "\n",
        "GBR_fit= GBR.fit(X_train, y_train)\n",
        "GBR_Score= GBR.score(X_test, y_test)"
      ],
      "metadata": {
        "id": "pGu1g5l3i_Q3"
      },
      "execution_count": null,
      "outputs": []
    },
    {
      "cell_type": "code",
      "source": [
        "print(\"score d'entrainement = \",GBR_Score,\"\\n\")\n",
        "y_pred = GBR.predict(X_test)\n",
        "RMSLE_gbr= mean_squared_log_error(y_test,y_pred)\n",
        "RMSE_gbr= np.sqrt(mean_squared_error(y_test,y_pred))\n",
        "\n",
        "print(\"score de la prédiction:\")#, accuracy_score(y_test, y_pred)),\n",
        "print(\"RMSLE = \",RMSLE_gbr)\n",
        "print(\"RMSE = \",RMSE_gbr)\n"
      ],
      "metadata": {
        "colab": {
          "base_uri": "https://localhost:8080/"
        },
        "id": "3Gg5JU3Wi_UH",
        "outputId": "62ab60c6-c061-4506-a085-aaf09966beaa"
      },
      "execution_count": null,
      "outputs": [
        {
          "output_type": "stream",
          "name": "stdout",
          "text": [
            "score d'entrainement =  0.896596562104748 \n",
            "\n",
            "score de la prédiction:\n",
            "RMSLE =  0.0161337637944678\n",
            "RMSE =  24834.760242656477\n"
          ]
        }
      ]
    },
    {
      "cell_type": "code",
      "source": [
        "# Seprate Vector Regression\n",
        "pipe_SVR = Pipeline(steps=[('preprocessor', preprocessor),\n",
        "                           ('model', TransformedTargetRegressor(SVR())) ])\n",
        "\n",
        "param_SVR = [{ 'preprocessor__num_log__log__func':[None,np.log1p],\n",
        "\n",
        "              'model__regressor__C' : range(100,5000,1000),\n",
        "              'model__regressor__epsilon' : [1,2],\n",
        "              'model__regressor__kernel':['poly','rbf'],\n",
        "              'model__regressor__gamma' : ['auto', 'scale'],\n",
        "              'model__regressor__degree' : [3, 5]\n",
        "                }]\n",
        "\n",
        "GS_SVR = GridSearchCV(pipe_SVR, param_SVR, cv=4, verbose=5)\n",
        "GS_SVR.fit(X_train, y_train)"
      ],
      "metadata": {
        "id": "SyHD2IJX1JE1"
      },
      "execution_count": null,
      "outputs": []
    },
    {
      "cell_type": "code",
      "source": [
        "GS_SVR.best_params_"
      ],
      "metadata": {
        "colab": {
          "base_uri": "https://localhost:8080/"
        },
        "id": "lAC8S4DT1JKR",
        "outputId": "1d67f7c7-da05-44dc-9b22-eec713922823"
      },
      "execution_count": null,
      "outputs": [
        {
          "output_type": "execute_result",
          "data": {
            "text/plain": [
              "{'model__regressor__C': 4100,\n",
              " 'model__regressor__degree': 3,\n",
              " 'model__regressor__epsilon': 1,\n",
              " 'model__regressor__gamma': 'auto',\n",
              " 'model__regressor__kernel': 'rbf',\n",
              " 'preprocessor__num_log__log__func': <ufunc 'log1p'>}"
            ]
          },
          "metadata": {},
          "execution_count": 75
        }
      ]
    },
    {
      "cell_type": "code",
      "source": [
        "# SVR best params\n",
        "SVR = Pipeline(steps=[('preprocessor', preprocessor),\n",
        "                           ('model', TransformedTargetRegressor(SVR(C=4100, degree=3, epsilon=1, gamma= 'auto',\n",
        "                                                                   kernel= 'rbf'))) ])\n",
        "\n",
        "SVR_fit = SVR.fit(X_train, y_train)\n",
        "SVR_Score = SVR.score(X_test, y_test)\n",
        "SVR_Score"
      ],
      "metadata": {
        "colab": {
          "base_uri": "https://localhost:8080/"
        },
        "id": "gkmWe3dG1JNp",
        "outputId": "fe2dca26-9359-4501-95b6-3b4b91faba48"
      },
      "execution_count": null,
      "outputs": [
        {
          "output_type": "execute_result",
          "data": {
            "text/plain": [
              "0.7219180087971879"
            ]
          },
          "metadata": {},
          "execution_count": 76
        }
      ]
    },
    {
      "cell_type": "code",
      "source": [
        "print(\"score d'entrainement = \",SVR_Score,\"\\n\")\n",
        "y_pred = SVR.predict(X_test)\n",
        "RMSLE_SVR= mean_squared_log_error(y_test,y_pred)\n",
        "RMSE_SVR = mean_squared_error(y_test,y_pred, squared= False)\n",
        "\n",
        "print(\"score de la prédiction:\")#, accuracy_score(y_test, y_pred)),\n",
        "print(\"RMSLE = \",RMSLE_SVR)\n",
        "print(\"RMSE = \",RMSE_SVR)"
      ],
      "metadata": {
        "colab": {
          "base_uri": "https://localhost:8080/"
        },
        "id": "fEmchrjaASou",
        "outputId": "44a5d9ad-0557-40e8-e0a2-02fe839e3e94"
      },
      "execution_count": null,
      "outputs": [
        {
          "output_type": "stream",
          "name": "stdout",
          "text": [
            "score d'entrainement =  0.7219180087971879 \n",
            "\n",
            "score de la prédiction:\n",
            "RMSLE =  0.023822377394237284\n",
            "RMSE =  40726.671237498536\n"
          ]
        }
      ]
    },
    {
      "cell_type": "code",
      "source": [],
      "metadata": {
        "id": "4k9PCOokASrW"
      },
      "execution_count": null,
      "outputs": []
    },
    {
      "cell_type": "code",
      "source": [
        "model_df = {'models': ['Gradient Boosting', 'RandomForestRegressor', 'SVR'],\n",
        "            'mean_squared_log_error': [RMSLE_gbr, RMSLE_RFR, RMSLE_SVR ],\n",
        "            'Root_mean_squared_error': [RMSE_gbr, RMSE_RFR, RMSE_SVR],\n",
        "\n",
        "           'Score': [GBR_Score,RFR_Score, SVR_Score]}\n",
        "df1= pd.DataFrame(model_df)\n",
        "df1"
      ],
      "metadata": {
        "colab": {
          "base_uri": "https://localhost:8080/",
          "height": 143
        },
        "id": "kkwcXhpkASuA",
        "outputId": "cf3cce9f-b295-472e-f7d8-3a78d6c7b4f6"
      },
      "execution_count": null,
      "outputs": [
        {
          "output_type": "execute_result",
          "data": {
            "text/plain": [
              "                  models  mean_squared_log_error  Root_mean_squared_error  \\\n",
              "0      Gradient Boosting                0.016134             24834.760243   \n",
              "1  RandomForestRegressor                0.015483             26837.276382   \n",
              "2                    SVR                0.023822             40726.671237   \n",
              "\n",
              "      Score  \n",
              "0  0.896597  \n",
              "1  0.879249  \n",
              "2  0.721918  "
            ],
            "text/html": [
              "\n",
              "  <div id=\"df-52b1b134-1865-4050-935c-1dac10f38a33\" class=\"colab-df-container\">\n",
              "    <div>\n",
              "<style scoped>\n",
              "    .dataframe tbody tr th:only-of-type {\n",
              "        vertical-align: middle;\n",
              "    }\n",
              "\n",
              "    .dataframe tbody tr th {\n",
              "        vertical-align: top;\n",
              "    }\n",
              "\n",
              "    .dataframe thead th {\n",
              "        text-align: right;\n",
              "    }\n",
              "</style>\n",
              "<table border=\"1\" class=\"dataframe\">\n",
              "  <thead>\n",
              "    <tr style=\"text-align: right;\">\n",
              "      <th></th>\n",
              "      <th>models</th>\n",
              "      <th>mean_squared_log_error</th>\n",
              "      <th>Root_mean_squared_error</th>\n",
              "      <th>Score</th>\n",
              "    </tr>\n",
              "  </thead>\n",
              "  <tbody>\n",
              "    <tr>\n",
              "      <th>0</th>\n",
              "      <td>Gradient Boosting</td>\n",
              "      <td>0.016134</td>\n",
              "      <td>24834.760243</td>\n",
              "      <td>0.896597</td>\n",
              "    </tr>\n",
              "    <tr>\n",
              "      <th>1</th>\n",
              "      <td>RandomForestRegressor</td>\n",
              "      <td>0.015483</td>\n",
              "      <td>26837.276382</td>\n",
              "      <td>0.879249</td>\n",
              "    </tr>\n",
              "    <tr>\n",
              "      <th>2</th>\n",
              "      <td>SVR</td>\n",
              "      <td>0.023822</td>\n",
              "      <td>40726.671237</td>\n",
              "      <td>0.721918</td>\n",
              "    </tr>\n",
              "  </tbody>\n",
              "</table>\n",
              "</div>\n",
              "    <div class=\"colab-df-buttons\">\n",
              "\n",
              "  <div class=\"colab-df-container\">\n",
              "    <button class=\"colab-df-convert\" onclick=\"convertToInteractive('df-52b1b134-1865-4050-935c-1dac10f38a33')\"\n",
              "            title=\"Convert this dataframe to an interactive table.\"\n",
              "            style=\"display:none;\">\n",
              "\n",
              "  <svg xmlns=\"http://www.w3.org/2000/svg\" height=\"24px\" viewBox=\"0 -960 960 960\">\n",
              "    <path d=\"M120-120v-720h720v720H120Zm60-500h600v-160H180v160Zm220 220h160v-160H400v160Zm0 220h160v-160H400v160ZM180-400h160v-160H180v160Zm440 0h160v-160H620v160ZM180-180h160v-160H180v160Zm440 0h160v-160H620v160Z\"/>\n",
              "  </svg>\n",
              "    </button>\n",
              "\n",
              "  <style>\n",
              "    .colab-df-container {\n",
              "      display:flex;\n",
              "      gap: 12px;\n",
              "    }\n",
              "\n",
              "    .colab-df-convert {\n",
              "      background-color: #E8F0FE;\n",
              "      border: none;\n",
              "      border-radius: 50%;\n",
              "      cursor: pointer;\n",
              "      display: none;\n",
              "      fill: #1967D2;\n",
              "      height: 32px;\n",
              "      padding: 0 0 0 0;\n",
              "      width: 32px;\n",
              "    }\n",
              "\n",
              "    .colab-df-convert:hover {\n",
              "      background-color: #E2EBFA;\n",
              "      box-shadow: 0px 1px 2px rgba(60, 64, 67, 0.3), 0px 1px 3px 1px rgba(60, 64, 67, 0.15);\n",
              "      fill: #174EA6;\n",
              "    }\n",
              "\n",
              "    .colab-df-buttons div {\n",
              "      margin-bottom: 4px;\n",
              "    }\n",
              "\n",
              "    [theme=dark] .colab-df-convert {\n",
              "      background-color: #3B4455;\n",
              "      fill: #D2E3FC;\n",
              "    }\n",
              "\n",
              "    [theme=dark] .colab-df-convert:hover {\n",
              "      background-color: #434B5C;\n",
              "      box-shadow: 0px 1px 3px 1px rgba(0, 0, 0, 0.15);\n",
              "      filter: drop-shadow(0px 1px 2px rgba(0, 0, 0, 0.3));\n",
              "      fill: #FFFFFF;\n",
              "    }\n",
              "  </style>\n",
              "\n",
              "    <script>\n",
              "      const buttonEl =\n",
              "        document.querySelector('#df-52b1b134-1865-4050-935c-1dac10f38a33 button.colab-df-convert');\n",
              "      buttonEl.style.display =\n",
              "        google.colab.kernel.accessAllowed ? 'block' : 'none';\n",
              "\n",
              "      async function convertToInteractive(key) {\n",
              "        const element = document.querySelector('#df-52b1b134-1865-4050-935c-1dac10f38a33');\n",
              "        const dataTable =\n",
              "          await google.colab.kernel.invokeFunction('convertToInteractive',\n",
              "                                                    [key], {});\n",
              "        if (!dataTable) return;\n",
              "\n",
              "        const docLinkHtml = 'Like what you see? Visit the ' +\n",
              "          '<a target=\"_blank\" href=https://colab.research.google.com/notebooks/data_table.ipynb>data table notebook</a>'\n",
              "          + ' to learn more about interactive tables.';\n",
              "        element.innerHTML = '';\n",
              "        dataTable['output_type'] = 'display_data';\n",
              "        await google.colab.output.renderOutput(dataTable, element);\n",
              "        const docLink = document.createElement('div');\n",
              "        docLink.innerHTML = docLinkHtml;\n",
              "        element.appendChild(docLink);\n",
              "      }\n",
              "    </script>\n",
              "  </div>\n",
              "\n",
              "\n",
              "<div id=\"df-6aa7928e-f849-428a-930c-81658ad1cee0\">\n",
              "  <button class=\"colab-df-quickchart\" onclick=\"quickchart('df-6aa7928e-f849-428a-930c-81658ad1cee0')\"\n",
              "            title=\"Suggest charts.\"\n",
              "            style=\"display:none;\">\n",
              "\n",
              "<svg xmlns=\"http://www.w3.org/2000/svg\" height=\"24px\"viewBox=\"0 0 24 24\"\n",
              "     width=\"24px\">\n",
              "    <g>\n",
              "        <path d=\"M19 3H5c-1.1 0-2 .9-2 2v14c0 1.1.9 2 2 2h14c1.1 0 2-.9 2-2V5c0-1.1-.9-2-2-2zM9 17H7v-7h2v7zm4 0h-2V7h2v10zm4 0h-2v-4h2v4z\"/>\n",
              "    </g>\n",
              "</svg>\n",
              "  </button>\n",
              "\n",
              "<style>\n",
              "  .colab-df-quickchart {\n",
              "      --bg-color: #E8F0FE;\n",
              "      --fill-color: #1967D2;\n",
              "      --hover-bg-color: #E2EBFA;\n",
              "      --hover-fill-color: #174EA6;\n",
              "      --disabled-fill-color: #AAA;\n",
              "      --disabled-bg-color: #DDD;\n",
              "  }\n",
              "\n",
              "  [theme=dark] .colab-df-quickchart {\n",
              "      --bg-color: #3B4455;\n",
              "      --fill-color: #D2E3FC;\n",
              "      --hover-bg-color: #434B5C;\n",
              "      --hover-fill-color: #FFFFFF;\n",
              "      --disabled-bg-color: #3B4455;\n",
              "      --disabled-fill-color: #666;\n",
              "  }\n",
              "\n",
              "  .colab-df-quickchart {\n",
              "    background-color: var(--bg-color);\n",
              "    border: none;\n",
              "    border-radius: 50%;\n",
              "    cursor: pointer;\n",
              "    display: none;\n",
              "    fill: var(--fill-color);\n",
              "    height: 32px;\n",
              "    padding: 0;\n",
              "    width: 32px;\n",
              "  }\n",
              "\n",
              "  .colab-df-quickchart:hover {\n",
              "    background-color: var(--hover-bg-color);\n",
              "    box-shadow: 0 1px 2px rgba(60, 64, 67, 0.3), 0 1px 3px 1px rgba(60, 64, 67, 0.15);\n",
              "    fill: var(--button-hover-fill-color);\n",
              "  }\n",
              "\n",
              "  .colab-df-quickchart-complete:disabled,\n",
              "  .colab-df-quickchart-complete:disabled:hover {\n",
              "    background-color: var(--disabled-bg-color);\n",
              "    fill: var(--disabled-fill-color);\n",
              "    box-shadow: none;\n",
              "  }\n",
              "\n",
              "  .colab-df-spinner {\n",
              "    border: 2px solid var(--fill-color);\n",
              "    border-color: transparent;\n",
              "    border-bottom-color: var(--fill-color);\n",
              "    animation:\n",
              "      spin 1s steps(1) infinite;\n",
              "  }\n",
              "\n",
              "  @keyframes spin {\n",
              "    0% {\n",
              "      border-color: transparent;\n",
              "      border-bottom-color: var(--fill-color);\n",
              "      border-left-color: var(--fill-color);\n",
              "    }\n",
              "    20% {\n",
              "      border-color: transparent;\n",
              "      border-left-color: var(--fill-color);\n",
              "      border-top-color: var(--fill-color);\n",
              "    }\n",
              "    30% {\n",
              "      border-color: transparent;\n",
              "      border-left-color: var(--fill-color);\n",
              "      border-top-color: var(--fill-color);\n",
              "      border-right-color: var(--fill-color);\n",
              "    }\n",
              "    40% {\n",
              "      border-color: transparent;\n",
              "      border-right-color: var(--fill-color);\n",
              "      border-top-color: var(--fill-color);\n",
              "    }\n",
              "    60% {\n",
              "      border-color: transparent;\n",
              "      border-right-color: var(--fill-color);\n",
              "    }\n",
              "    80% {\n",
              "      border-color: transparent;\n",
              "      border-right-color: var(--fill-color);\n",
              "      border-bottom-color: var(--fill-color);\n",
              "    }\n",
              "    90% {\n",
              "      border-color: transparent;\n",
              "      border-bottom-color: var(--fill-color);\n",
              "    }\n",
              "  }\n",
              "</style>\n",
              "\n",
              "  <script>\n",
              "    async function quickchart(key) {\n",
              "      const quickchartButtonEl =\n",
              "        document.querySelector('#' + key + ' button');\n",
              "      quickchartButtonEl.disabled = true;  // To prevent multiple clicks.\n",
              "      quickchartButtonEl.classList.add('colab-df-spinner');\n",
              "      try {\n",
              "        const charts = await google.colab.kernel.invokeFunction(\n",
              "            'suggestCharts', [key], {});\n",
              "      } catch (error) {\n",
              "        console.error('Error during call to suggestCharts:', error);\n",
              "      }\n",
              "      quickchartButtonEl.classList.remove('colab-df-spinner');\n",
              "      quickchartButtonEl.classList.add('colab-df-quickchart-complete');\n",
              "    }\n",
              "    (() => {\n",
              "      let quickchartButtonEl =\n",
              "        document.querySelector('#df-6aa7928e-f849-428a-930c-81658ad1cee0 button');\n",
              "      quickchartButtonEl.style.display =\n",
              "        google.colab.kernel.accessAllowed ? 'block' : 'none';\n",
              "    })();\n",
              "  </script>\n",
              "</div>\n",
              "    </div>\n",
              "  </div>\n"
            ]
          },
          "metadata": {},
          "execution_count": 79
        }
      ]
    },
    {
      "cell_type": "code",
      "source": [
        "sns.set(font_scale=0.9)\n",
        "plt.figure(figsize=(14,5))\n",
        "plt.suptitle(\"RMSLE & RMSE on Sale Price\",fontsize=12)\n",
        "plt.subplot(1,2,1)\n",
        "sns.barplot(x= df1['models'] ,y=df1['mean_squared_log_error'])\n",
        "plt.title(\" Root mean squared log error\", fontsize=10)\n",
        "\n",
        "plt.subplot(1,2,2)\n",
        "sns.barplot(x= df1['models'] ,y=df1['Root_mean_squared_error'])\n",
        "plt.title(\" Root mean squared error\", fontsize=10)"
      ],
      "metadata": {
        "colab": {
          "base_uri": "https://localhost:8080/",
          "height": 536
        },
        "id": "tOTPj_4YBwqX",
        "outputId": "ab24ddb9-48ad-48f3-ba6e-c5a98e7d4b45"
      },
      "execution_count": null,
      "outputs": [
        {
          "output_type": "execute_result",
          "data": {
            "text/plain": [
              "Text(0.5, 1.0, ' Root mean squared error')"
            ]
          },
          "metadata": {},
          "execution_count": 94
        },
        {
          "output_type": "display_data",
          "data": {
            "text/plain": [
              "<Figure size 1400x500 with 2 Axes>"
            ],
            "image/png": "[encoded data removed]"
          },
          "metadata": {}
        }
      ]
    },
    {
      "cell_type": "markdown",
      "source": [
        "https://medium.com/analytics-vidhya/root-mean-square-log-error-rmse-vs-rmlse-935c6cc1802a\n",
        "\n",
        "https://www.youtube.com/watch?v=K490SP-_H0U"
      ],
      "metadata": {
        "id": "QIBNaIsDL8kX"
      }
    },
    {
      "cell_type": "markdown",
      "source": [
        "Robustness to the effect of the outliers\n",
        "In the case of RMSE, the presence of outliers can explode the error term to a very high value. But, in the case of RMLSE the outliers are drastically scaled down therefore nullifying their effect.\n",
        "\n",
        " RMSLE metric only considers the relative error between and the Predicted and the actual value and the scale of the error is not significant. On the other hand, RMSE value Increases in magnitude if the scale of error increases."
      ],
      "metadata": {
        "id": "4onzRPL64N3P"
      }
    },
    {
      "cell_type": "code",
      "source": [],
      "metadata": {
        "id": "WnVUOq-uCIOE"
      },
      "execution_count": null,
      "outputs": []
    }
  ]
}